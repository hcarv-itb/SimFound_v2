{
 "cells": [
  {
   "cell_type": "markdown",
   "metadata": {},
   "source": [
    "# SFv2 Template notebook"
   ]
  },
  {
   "cell_type": "markdown",
   "metadata": {},
   "source": [
    "## Import modules"
   ]
  },
  {
   "cell_type": "code",
   "execution_count": 2,
   "metadata": {},
   "outputs": [],
   "source": [
    "import os\n",
    "import sys\n",
    "\n",
    "data_path=os.path.abspath('C:/Users/hcarv/Documents/work/Protein Design 2021/Group1/') #Where your group data is\n",
    "base_path=os.path.abspath('C:/Users/hcarv/Documents/GitHub/SimFound_v2/source/') #Where your source code is (SFv2)\n",
    "\n",
    "sys.path.append(base_path)\n",
    "sys.path.append(data_path)\n",
    "\n",
    "import importlib\n",
    "\n",
    "import Protocols as P\n",
    "\n",
    "from simtk.unit import *\n"
   ]
  },
  {
   "cell_type": "markdown",
   "metadata": {},
   "source": [
    "# Set defaults"
   ]
  },
  {
   "cell_type": "code",
   "execution_count": 3,
   "metadata": {},
   "outputs": [],
   "source": [
    "std_report=100 \n",
    "       \n",
    "NPT_protocolW={'ensemble': 'NPT',\n",
    "               'step': 1*picoseconds, \n",
    "               'report': std_report, \n",
    "               'restrained_sets': {'selections': ['protein and backbone'],\n",
    "                                   'forces': [100*kilojoules_per_mole/angstroms]}}\n",
    "NVT_protocolDES={'ensemble': 'NVT',\n",
    "               'step': 25*picoseconds, \n",
    "               'report': std_report, \n",
    "               'restrained_sets': {'selections': ['protein and backbone'],\n",
    "                                   'forces': [100*kilojoules_per_mole/angstroms]}}\n",
    "\n",
    "NPT_protocolDES={'ensemble': 'NVT',\n",
    "               'step': 20*nanoseconds, \n",
    "               'report': std_report, \n",
    "               'restrained_sets': {'selections': ['protein and backbone'],\n",
    "                                   'forces': [100*kilojoules_per_mole/angstroms]}}\n",
    "\n",
    "\n",
    "calb_protonation_dict={('A',187): 'ASP', ('A',224): 'HID'} \n",
    "#Aspartic acid: ASH: Neutral form with a hydrogen on one of the delta oxygens ASP: Negatively charged form without a hydrogen on either delta oxygen\n",
    "#Histidine: HID: Neutral form with a hydrogen on the ND1 atom HIE: Neutral form with a hydrogen on the NE2 atom HIP: Positively charged form with hydrogens on both ND1 and NE2                   \n",
    "\n",
    "                   \n"
   ]
  },
  {
   "cell_type": "markdown",
   "metadata": {},
   "source": [
    "# Protocols"
   ]
  },
  {
   "cell_type": "code",
   "execution_count": 4,
   "metadata": {},
   "outputs": [
    {
     "name": "stdout",
     "output_type": "stream",
     "text": [
      "Other openMM force field instance has been passed: False\n"
     ]
    },
    {
     "ename": "UnboundLocalError",
     "evalue": "local variable 'forcefield' referenced before assignment",
     "output_type": "error",
     "traceback": [
      "\u001b[1;31m---------------------------------------------------------------------------\u001b[0m",
      "\u001b[1;31mUnboundLocalError\u001b[0m                         Traceback (most recent call last)",
      "\u001b[1;32m<ipython-input-4-94c7711b925b>\u001b[0m in \u001b[0;36m<module>\u001b[1;34m\u001b[0m\n\u001b[0;32m      4\u001b[0m \u001b[0msim_tools\u001b[0m\u001b[1;33m=\u001b[0m\u001b[0mP\u001b[0m\u001b[1;33m.\u001b[0m\u001b[0mProtocols\u001b[0m\u001b[1;33m(\u001b[0m\u001b[0mworkdir\u001b[0m\u001b[1;33m=\u001b[0m\u001b[0mdata_path\u001b[0m\u001b[1;33m)\u001b[0m\u001b[1;33m\u001b[0m\u001b[1;33m\u001b[0m\u001b[0m\n\u001b[0;32m      5\u001b[0m \u001b[1;33m\u001b[0m\u001b[0m\n\u001b[1;32m----> 6\u001b[1;33m system_omm=sim_tools.pdb2omm(input_pdbs=pdb, \n\u001b[0m\u001b[0;32m      7\u001b[0m                             \u001b[0mextra_ff_files\u001b[0m\u001b[1;33m=\u001b[0m\u001b[1;33m[\u001b[0m\u001b[1;34m'gaff-2.11modv3_1.xml'\u001b[0m\u001b[1;33m]\u001b[0m\u001b[1;33m,\u001b[0m\u001b[1;33m\u001b[0m\u001b[1;33m\u001b[0m\u001b[0m\n\u001b[0;32m      8\u001b[0m                             \u001b[0mprotonate\u001b[0m\u001b[1;33m=\u001b[0m\u001b[1;32mTrue\u001b[0m\u001b[1;33m,\u001b[0m\u001b[1;33m\u001b[0m\u001b[1;33m\u001b[0m\u001b[0m\n",
      "\u001b[1;32m~\\Documents\\GitHub\\SimFound_v2\\source\\Protocols.py\u001b[0m in \u001b[0;36mpdb2omm\u001b[1;34m(self, input_pdbs, solvate, protonate, fix_pdb, inspect, extra_input_pdb, ff_files, extra_ff_files, extra_names, other_ff_instance, pH_protein, residue_variants)\u001b[0m\n\u001b[0;32m    156\u001b[0m         \u001b[0mpre_system\u001b[0m \u001b[1;33m=\u001b[0m \u001b[0mapp\u001b[0m\u001b[1;33m.\u001b[0m\u001b[0mModeller\u001b[0m\u001b[1;33m(\u001b[0m\u001b[0mpdb\u001b[0m\u001b[1;33m.\u001b[0m\u001b[0mtopology\u001b[0m\u001b[1;33m,\u001b[0m \u001b[0mpdb\u001b[0m\u001b[1;33m.\u001b[0m\u001b[0mpositions\u001b[0m\u001b[1;33m)\u001b[0m\u001b[1;33m\u001b[0m\u001b[1;33m\u001b[0m\u001b[0m\n\u001b[0;32m    157\u001b[0m \u001b[1;33m\u001b[0m\u001b[0m\n\u001b[1;32m--> 158\u001b[1;33m         forcefield=self.setForceFields(ff_files=ff_files, \n\u001b[0m\u001b[0;32m    159\u001b[0m                                          \u001b[0mextra_ff_files\u001b[0m\u001b[1;33m=\u001b[0m\u001b[0mextra_ff_files\u001b[0m\u001b[1;33m,\u001b[0m\u001b[1;33m\u001b[0m\u001b[1;33m\u001b[0m\u001b[0m\n\u001b[0;32m    160\u001b[0m                                          omm_ff=False)\n",
      "\u001b[1;32m~\\Documents\\GitHub\\SimFound_v2\\source\\Protocols.py\u001b[0m in \u001b[0;36msetForceFields\u001b[1;34m(self, ff_files, extra_ff_files, omm_ff, ff_path, defaults, add_residue_file)\u001b[0m\n\u001b[0;32m    710\u001b[0m \u001b[1;33m\u001b[0m\u001b[0m\n\u001b[0;32m    711\u001b[0m \u001b[1;33m\u001b[0m\u001b[0m\n\u001b[1;32m--> 712\u001b[1;33m         \u001b[1;32mreturn\u001b[0m \u001b[0mforcefield\u001b[0m\u001b[1;33m\u001b[0m\u001b[1;33m\u001b[0m\u001b[0m\n\u001b[0m\u001b[0;32m    713\u001b[0m \u001b[1;33m\u001b[0m\u001b[0m\n\u001b[0;32m    714\u001b[0m \u001b[1;33m\u001b[0m\u001b[0m\n",
      "\u001b[1;31mUnboundLocalError\u001b[0m: local variable 'forcefield' referenced before assignment"
     ]
    }
   ],
   "source": [
    "pdb='5a71_a.pdb'\n",
    "\n",
    "importlib.reload(P)\n",
    "sim_tools=P.Protocols(workdir=data_path)\n",
    "\n",
    "system_omm=sim_tools.pdb2omm(input_pdbs=pdb, \n",
    "                            extra_ff_files=['gaff-2.11modv3_1.xml'], \n",
    "                            protonate=True,\n",
    "                            solvate=True,\n",
    "                            inspect=True,\n",
    "                            pH_protein=7.0) "
   ]
  },
  {
   "cell_type": "code",
   "execution_count": null,
   "metadata": {},
   "outputs": [],
   "source": [
    "list_of_T=[300*kelvin,350*kelvin, 400*kelvin, 450*kelvin]\n",
    "\n",
    "for t in list_of_T:\n",
    "        \n",
    "        sim_tools=P.Protocols(workdir=data_path)\n",
    "        \n",
    "        system_omm=sim_tools.pdb2omm(input_pdbs=pdb, \n",
    "                            extra_ff_files=['gaff-2.11modv3_1.xml'], \n",
    "                            protonate=True,\n",
    "                            solvate=True,\n",
    "                            inspect=True,\n",
    "                            pH_protein=7.0) \n",
    "        system_omm.setSimulations(dt = 0.002*picoseconds, \n",
    "                          temperature = t*kelvin, \n",
    "                          friction = 1/picosecond,\n",
    "                          equilibrations=[NPT_protocolW],\n",
    "                          pressure=1*atmospheres)\n",
    "        \n",
    "        \n",
    "        system_omm.run_energyMinimization()\n",
    "        system_omm.run_equilibrations()\n"
   ]
  }
 ],
 "metadata": {
  "kernelspec": {
   "display_name": "Python 3",
   "language": "python",
   "name": "python3"
  },
  "language_info": {
   "codemirror_mode": {
    "name": "ipython",
    "version": 3
   },
   "file_extension": ".py",
   "mimetype": "text/x-python",
   "name": "python",
   "nbconvert_exporter": "python",
   "pygments_lexer": "ipython3",
   "version": "3.8.3"
  }
 },
 "nbformat": 4,
 "nbformat_minor": 4
}
