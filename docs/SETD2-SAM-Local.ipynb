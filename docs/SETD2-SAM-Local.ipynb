{
 "cells": [
  {
   "cell_type": "markdown",
   "metadata": {},
   "source": [
    "## **SETD2 complexed with SAM @local**"
   ]
  },
  {
   "cell_type": "markdown",
   "metadata": {},
   "source": [
    "## **Import modules**"
   ]
  },
  {
   "cell_type": "code",
   "execution_count": 1,
   "metadata": {},
   "outputs": [],
   "source": [
    "import os\n",
    "import sys\n",
    "\n",
    "data_path=os.path.abspath(r'C:\\Users\\hcarv\\Documents\\work\\SETD2') #Where your group data is\n",
    "base_path=os.path.abspath(r'C:\\Users\\hcarv\\Documents\\GitHub\\SimFound_v2\\source') #Where your source code is (SFv2)\n",
    "\n",
    "sys.path.append(base_path)\n",
    "sys.path.append(data_path)\n",
    "\n",
    "import warnings\n",
    "warnings.filterwarnings('ignore')\n",
    "import Protocols as P\n",
    "\n",
    "import main\n",
    "import tools\n",
    "\n",
    "\n",
    "from simtk.unit import *"
   ]
  },
  {
   "cell_type": "markdown",
   "metadata": {},
   "source": [
    "## **Define Project**"
   ]
  },
  {
   "cell_type": "code",
   "execution_count": 2,
   "metadata": {},
   "outputs": [
    {
     "name": "stdout",
     "output_type": "stream",
     "text": [
      "Converted parameter \"temperature\" (in K) into scalar: 310.0 K\n",
      "ref not found\n",
      "System defined: ('setd2_complexed', 'SAM', '310K', '1'), ID: 310.0 K\n"
     ]
    }
   ],
   "source": [
    "workdir=data_path\n",
    "results=workdir+'/results'\n",
    "inputs=workdir+'inputs/structures/'\n",
    "\n",
    "workdir=tools.Functions.fileHandler([workdir], _new=False)\n",
    "tools.Functions.fileHandler([results, inputs])\n",
    "\n",
    "\n",
    "#protein=['WT', 'R167Q', 'I602G']\n",
    "protein=['setd2_complexed']\n",
    "\n",
    "ligand=['SAM']\n",
    "parameters=['310K']\n",
    "timestep=20*picoseconds\n",
    "\n",
    "project=main.Project(title='SETD2-SAM', \n",
    "                     hierarchy=('protein', 'ligand', 'parameter'), \n",
    "                     workdir=workdir,\n",
    "                     parameter=parameters, \n",
    "                     replicas=1, \n",
    "                     protein=protein, \n",
    "                     ligand=ligand, \n",
    "                     results=results,\n",
    "                     topology='SETD2_complexed_noSub.pdb',\n",
    "                     timestep=timestep,\n",
    "                    initial_replica=1)\n",
    "\n",
    "\n",
    "project_systems=project.setSystems()"
   ]
  },
  {
   "cell_type": "markdown",
   "metadata": {},
   "source": [
    "## **Simulation Protocol**"
   ]
  },
  {
   "cell_type": "markdown",
   "metadata": {},
   "source": [
    "## Set defaults"
   ]
  },
  {
   "cell_type": "code",
   "execution_count": 3,
   "metadata": {},
   "outputs": [],
   "source": [
    "\n",
    "SETD2_variants={('A',1499): 'CYX',\n",
    "                ('A',1501): 'CYX',\n",
    "                ('A',1516): 'CYX',\n",
    "                ('A',1520): 'CYX',\n",
    "                ('A',1529): 'CYX',\n",
    "                ('A',1533):'CYX',\n",
    "                ('A',1539):'CYX',\n",
    "                ('A',1631):'CYX',\n",
    "                ('A',1678):'CYX',\n",
    "                ('A',1680):'CYX',\n",
    "                ('A',1685):'CYX'}\n",
    "\n",
    "NPT_equilibration={'ensemble': 'NPT',\n",
    "                'step': 5*nanoseconds, \n",
    "                'report': timestep, \n",
    "                'restrained_sets': {'selections': ['protein and backbone', 'resname ZNB', 'resname SAM'],\n",
    "                                    'forces': [100*kilojoules_per_mole/angstroms, 150*kilojoules_per_mole/angstroms, 150*kilojoules_per_mole/angstroms]}}\n",
    "\n",
    "NPT_production={'ensemble': 'NPT',\n",
    "                'step': 500*nanoseconds, \n",
    "                'report': timestep}"
   ]
  },
  {
   "cell_type": "markdown",
   "metadata": {},
   "source": [
    "## Setup simulation protocol"
   ]
  },
  {
   "cell_type": "code",
   "execution_count": 4,
   "metadata": {},
   "outputs": [
    {
     "name": "stdout",
     "output_type": "stream",
     "text": [
      "Setting openMM simulation protocols in C:\\Users\\hcarv\\Documents\\work\\SETD2\\setd2_complexed-SAM-310K\\replicate1\n"
     ]
    },
    {
     "ename": "ModuleNotFoundError",
     "evalue": "No module named 'openmmforcefields'",
     "output_type": "error",
     "traceback": [
      "\u001b[1;31m---------------------------------------------------------------------------\u001b[0m",
      "\u001b[1;31mModuleNotFoundError\u001b[0m                       Traceback (most recent call last)",
      "\u001b[1;32m<ipython-input-4-21731ac4f8e2>\u001b[0m in \u001b[0;36m<module>\u001b[1;34m\u001b[0m\n\u001b[0;32m     17\u001b[0m                              overwrite_mode=False)\n\u001b[0;32m     18\u001b[0m \u001b[1;33m\u001b[0m\u001b[0m\n\u001b[1;32m---> 19\u001b[1;33m         system_omm=sim_tools.pdb2omm(input_pdb=system.input_topology,\n\u001b[0m\u001b[0;32m     20\u001b[0m                                      \u001b[0mextra_input_pdb\u001b[0m\u001b[1;33m=\u001b[0m\u001b[0mextra_pdb\u001b[0m\u001b[1;33m,\u001b[0m\u001b[1;33m\u001b[0m\u001b[1;33m\u001b[0m\u001b[0m\n\u001b[0;32m     21\u001b[0m                                      \u001b[0mff_files\u001b[0m\u001b[1;33m=\u001b[0m\u001b[0mxml_files\u001b[0m\u001b[1;33m,\u001b[0m\u001b[1;33m\u001b[0m\u001b[1;33m\u001b[0m\u001b[0m\n",
      "\u001b[1;32m~\\Documents\\GitHub\\SimFound_v2\\source\\Protocols.py\u001b[0m in \u001b[0;36mpdb2omm\u001b[1;34m(self, input_pdb, solvate, protonate, fix_pdb, insert_molecules, extra_input_pdb, ff_files, extra_ff_files, extra_names, other_ff_instance, pH_protein, residue_variants, other_omm, input_sdf_file, box_size, name, insert_smiles)\u001b[0m\n\u001b[0;32m    164\u001b[0m         \"\"\"\n\u001b[0;32m    165\u001b[0m \u001b[1;33m\u001b[0m\u001b[0m\n\u001b[1;32m--> 166\u001b[1;33m         \u001b[1;32mfrom\u001b[0m \u001b[0mopenmmforcefields\u001b[0m\u001b[1;33m.\u001b[0m\u001b[0mgenerators\u001b[0m \u001b[1;32mimport\u001b[0m \u001b[0mSystemGenerator\u001b[0m\u001b[1;33m,\u001b[0m \u001b[0mGAFFTemplateGenerator\u001b[0m\u001b[1;33m\u001b[0m\u001b[1;33m\u001b[0m\u001b[0m\n\u001b[0m\u001b[0;32m    167\u001b[0m         \u001b[1;32mfrom\u001b[0m \u001b[0mopenff\u001b[0m\u001b[1;33m.\u001b[0m\u001b[0mtoolkit\u001b[0m\u001b[1;33m.\u001b[0m\u001b[0mtopology\u001b[0m \u001b[1;32mimport\u001b[0m \u001b[0mMolecule\u001b[0m\u001b[1;33m\u001b[0m\u001b[1;33m\u001b[0m\u001b[0m\n\u001b[0;32m    168\u001b[0m \u001b[1;33m\u001b[0m\u001b[0m\n",
      "\u001b[1;31mModuleNotFoundError\u001b[0m: No module named 'openmmforcefields'"
     ]
    }
   ],
   "source": [
    "extra_pdb = ['ZNB_complexed.pdb', 'SAM.pdb']\n",
    "#smiles = 'C[S+](CC[C@@H](C(=O)[O-])N)C[C@@H]1[C@H]([C@H]([C@@H](O1)N2C=NC3=C(N=CN=C32)N)O)O'\n",
    "xml_files = ['protein.ff14SB.xml', 'tip4pew.xml', 'ZNB.xml', 'SAM.xml', 'bonded.xml', 'gaff.xml']\n",
    "\n",
    "\n",
    "\n",
    "\n",
    "simulated_systems={}\n",
    "for name, system in project_systems.items():\n",
    "\n",
    "    if system.ligand == 'SAM':\n",
    "    \n",
    "        sim_tools=P.Protocols(workdir=system.name_folder, \n",
    "                              project_dir=project.workdir,\n",
    "                              def_input_struct=project.def_input_struct,\n",
    "                              def_input_ff=project.def_input_ff,\n",
    "                             overwrite_mode=False)\n",
    "    \n",
    "        system_omm=sim_tools.pdb2omm(input_pdb=system.input_topology,\n",
    "                                     extra_input_pdb=extra_pdb,\n",
    "                                     ff_files=xml_files,\n",
    "                                     protonate=True,\n",
    "                                     solvate=True,\n",
    "                                     pH_protein=7.0,\n",
    "                                     name=name,\n",
    "                                     residue_variants=SETD2_variants)\n",
    "                                    #insert_molecules=True)\n",
    "                                    #insert_smiles=smiles)\n",
    "                                      \n",
    "        simulated_systems[name]=system_omm\n"
   ]
  },
  {
   "cell_type": "markdown",
   "metadata": {},
   "source": [
    "## **WARNING!** Run simulation(s)"
   ]
  },
  {
   "cell_type": "code",
   "execution_count": null,
   "metadata": {},
   "outputs": [
    {
     "name": "stdout",
     "output_type": "stream",
     "text": [
      "The fastest platform is CUDA\n",
      "Selected GPU ID: 1\n",
      "Using platform CUDA, ID: 1\n",
      "Run mode: \n",
      "\tOverwrite: False\n",
      "\tResume: True\n",
      "\tCompute time: 120 min\n",
      "\n",
      "\n",
      "Energy minimization\n",
      "\tA complete checkpoint was found.\n",
      "\tSystem final potential energy: -1280294.1033166759 kJ/mol\n",
      "\n",
      "EQ run 1: NPT\n",
      "\tA complete checkpoint was found.\n",
      "\tSystem final potential energy: -1033890.2774407286 kJ/mol\n",
      "\n",
      "Production run 1: NPT\n",
      "\tA timeout checkpoint was found.\n",
      "\tPDB file generated: /media/dataHog/hca/SETD2/setd2_open-SAM-310K/replicate21/production_NPT-1_init.pdb\n",
      "\tSystem initial potential energy: -1033890.1205080971 kJ/mol\n",
      "\tSimulation time: 440091.86 ps out of 500000.0 ps = 220045930/250000000 steps\n",
      "\tSimulating for 2:00:00 (0:06:00 checkpoints)...\n"
     ]
    }
   ],
   "source": [
    "importlib.reload(P)\n",
    "importlib.reload(tools)\n",
    "\n",
    "gpu_index='1'\n",
    "\n",
    "simulations={}\n",
    "for name, simulation in simulated_systems.items():  \n",
    "    simulation.setSimulations(dt=0.002*picoseconds, \n",
    "                                  temperature = system.scalar,\n",
    "                                  pH=7.0,\n",
    "                                  friction = 1/picosecond,\n",
    "                                  equilibrations=[NPT_equilibration],\n",
    "                                  productions=[NPT_production],\n",
    "                                  pressure=1*atmospheres,\n",
    "                                  gpu_index=gpu_index)\n",
    "    \n",
    "    \n",
    "    simulation.runSimulations(run_productions=True,  \n",
    "                              compute_time=2,\n",
    "                              reportFactor=0.05)        \n",
    "    \n",
    "    simulations[name]=simulation\n"
   ]
  },
  {
   "cell_type": "code",
   "execution_count": null,
   "metadata": {},
   "outputs": [],
   "source": [
    "simulations"
   ]
  },
  {
   "cell_type": "code",
   "execution_count": null,
   "metadata": {},
   "outputs": [],
   "source": []
  }
 ],
 "metadata": {
  "kernelspec": {
   "display_name": "Python 3",
   "language": "python",
   "name": "python3"
  },
  "language_info": {
   "codemirror_mode": {
    "name": "ipython",
    "version": 3
   },
   "file_extension": ".py",
   "mimetype": "text/x-python",
   "name": "python",
   "nbconvert_exporter": "python",
   "pygments_lexer": "ipython3",
   "version": "3.8.3"
  }
 },
 "nbformat": 4,
 "nbformat_minor": 4
}
