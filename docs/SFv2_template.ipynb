{
 "cells": [
  {
   "cell_type": "markdown",
   "metadata": {},
   "source": [
    "# SFv2 Template notebook"
   ]
  },
  {
   "cell_type": "markdown",
   "metadata": {},
   "source": [
    "## Import modules"
   ]
  },
  {
   "cell_type": "code",
   "execution_count": 1,
   "metadata": {},
   "outputs": [],
   "source": [
    "import os\n",
    "import sys\n",
    "\n",
    "data_path=os.path.abspath('C:/Users/hcarv/Documents/work/Protein Design 2021/Group1') #Where your group data is\n",
    "base_path=os.path.abspath('C:/Users/hcarv/Documents/GitHub/SimFound_v2/source/') #Where your source code is (SFv2)\n",
    "\n",
    "sys.path.append(base_path)\n",
    "sys.path.append(data_path)\n",
    "\n",
    "import importlib\n",
    "\n",
    "import Protocols as P\n"
   ]
  },
  {
   "cell_type": "markdown",
   "metadata": {},
   "source": [
    "# Protocols"
   ]
  },
  {
   "cell_type": "code",
   "execution_count": 2,
   "metadata": {},
   "outputs": [
    {
     "name": "stdout",
     "output_type": "stream",
     "text": [
      "Extra force field file 1: C:\\Users\\hcarv\\Documents\\work\\Protein Design 2021\\Group1/gaff-2.11modv3_1.xml\n",
      "Using default force fields: ('amber14-all.xml', 'amber14/tip4pew.xml')\n",
      "PDB file generated: C:\\Users\\hcarv\\Documents\\work\\Protein Design 2021\\Group1/system.pdb\n"
     ]
    }
   ],
   "source": [
    "pdb='5a71a.pdb'\n",
    "\n",
    "importlib.reload(P)\n",
    "sim_tools=P.Protocols(workdir=data_path)\n",
    "\n",
    "system_omm=sim_tools.pdb2omm(input_pdbs=pdb, \n",
    "                            extra_ff_files=['gaff-2.11modv3_1.xml'], \n",
    "                            protonate=True,\n",
    "                            solvate=True,\n",
    "                            inspect=True,\n",
    "                            pH=8.0) "
   ]
  },
  {
   "cell_type": "code",
   "execution_count": 3,
   "metadata": {},
   "outputs": [
    {
     "name": "stdout",
     "output_type": "stream",
     "text": [
      "<simtk.openmm.openmm.Platform; proxy of <Swig Object of type 'OpenMM::Platform *' at 0x000001FB92BFE990> >\n"
     ]
    },
    {
     "data": {
      "text/plain": [
       "<simtk.openmm.app.simulation.Simulation at 0x1fb92c66df0>"
      ]
     },
     "execution_count": 3,
     "metadata": {},
     "output_type": "execute_result"
    }
   ],
   "source": [
    "system_omm.setSimulation()"
   ]
  },
  {
   "cell_type": "code",
   "execution_count": 4,
   "metadata": {},
   "outputs": [
    {
     "name": "stdout",
     "output_type": "stream",
     "text": [
      "Performing energy minimization: -786575.7661969243 kJ/mol\n",
      "System is now minimized: -1269544.7661969243 kJ/mol\n",
      "PDB file generated: C:\\Users\\hcarv\\Documents\\work\\Protein Design 2021\\Group1/Emin.pdb\n"
     ]
    },
    {
     "data": {
      "text/plain": [
       "<simtk.openmm.app.simulation.Simulation at 0x1fb92c66df0>"
      ]
     },
     "execution_count": 4,
     "metadata": {},
     "output_type": "execute_result"
    }
   ],
   "source": [
    "system_omm.energyMinimization()"
   ]
  },
  {
   "cell_type": "code",
   "execution_count": 5,
   "metadata": {},
   "outputs": [
    {
     "name": "stdout",
     "output_type": "stream",
     "text": [
      "<simtk.openmm.app.simulation.Simulation object at 0x000001FB92C66DF0>\n"
     ]
    },
    {
     "ename": "AttributeError",
     "evalue": "'Simulation' object has no attribute 'pressure'",
     "output_type": "error",
     "traceback": [
      "\u001b[1;31m---------------------------------------------------------------------------\u001b[0m",
      "\u001b[1;31mAttributeError\u001b[0m                            Traceback (most recent call last)",
      "\u001b[1;32m<ipython-input-5-0ff993f55cfc>\u001b[0m in \u001b[0;36m<module>\u001b[1;34m\u001b[0m\n\u001b[1;32m----> 1\u001b[1;33m \u001b[0msystem_omm\u001b[0m\u001b[1;33m.\u001b[0m\u001b[0mequilibration_NPT\u001b[0m\u001b[1;33m(\u001b[0m\u001b[1;33m)\u001b[0m\u001b[1;33m\u001b[0m\u001b[1;33m\u001b[0m\u001b[0m\n\u001b[0m",
      "\u001b[1;32m~\\Documents\\GitHub\\SimFound_v2\\source\\Protocols.py\u001b[0m in \u001b[0;36mequilibration_NPT\u001b[1;34m(self, *args)\u001b[0m\n\u001b[0;32m    314\u001b[0m \u001b[1;33m\u001b[0m\u001b[0m\n\u001b[0;32m    315\u001b[0m \u001b[1;33m\u001b[0m\u001b[0m\n\u001b[1;32m--> 316\u001b[1;33m         \u001b[0mprint\u001b[0m\u001b[1;33m(\u001b[0m\u001b[0msimulation\u001b[0m\u001b[1;33m.\u001b[0m\u001b[0mpressure\u001b[0m\u001b[1;33m)\u001b[0m\u001b[1;33m\u001b[0m\u001b[1;33m\u001b[0m\u001b[0m\n\u001b[0m\u001b[0;32m    317\u001b[0m \u001b[1;33m\u001b[0m\u001b[0m\n\u001b[0;32m    318\u001b[0m         \u001b[1;31m# add MC barostat for NPT\u001b[0m\u001b[1;33m\u001b[0m\u001b[1;33m\u001b[0m\u001b[1;33m\u001b[0m\u001b[0m\n",
      "\u001b[1;31mAttributeError\u001b[0m: 'Simulation' object has no attribute 'pressure'"
     ]
    }
   ],
   "source": [
    "system_omm.equilibration_NPT()"
   ]
  },
  {
   "cell_type": "code",
   "execution_count": null,
   "metadata": {},
   "outputs": [],
   "source": []
  }
 ],
 "metadata": {
  "kernelspec": {
   "display_name": "Python 3",
   "language": "python",
   "name": "python3"
  },
  "language_info": {
   "codemirror_mode": {
    "name": "ipython",
    "version": 3
   },
   "file_extension": ".py",
   "mimetype": "text/x-python",
   "name": "python",
   "nbconvert_exporter": "python",
   "pygments_lexer": "ipython3",
   "version": "3.8.3"
  }
 },
 "nbformat": 4,
 "nbformat_minor": 4
}
