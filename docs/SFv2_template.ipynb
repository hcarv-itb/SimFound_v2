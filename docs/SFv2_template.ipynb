{
 "cells": [
  {
   "cell_type": "markdown",
   "metadata": {},
   "source": [
    "# SFv2 Template notebook"
   ]
  },
  {
   "cell_type": "markdown",
   "metadata": {},
   "source": [
    "## Import modules"
   ]
  },
  {
   "cell_type": "code",
   "execution_count": 1,
   "metadata": {},
   "outputs": [],
   "source": [
    "import os\n",
    "import sys\n",
    "\n",
    "data_path=os.path.abspath('C:/Users/hcarv/Documents/work/Protein Design 2021/Group1') #Where your group data is\n",
    "base_path=os.path.abspath('C:/Users/hcarv/Documents/GitHub/SimFound_v2/source/') #Where your source code is (SFv2)\n",
    "\n",
    "sys.path.append(base_path)\n",
    "sys.path.append(data_path)\n",
    "\n",
    "import importlib\n",
    "\n",
    "import Protocols as P\n",
    "\n",
    "from simtk.unit import *\n"
   ]
  },
  {
   "cell_type": "markdown",
   "metadata": {},
   "source": [
    "# Protocols"
   ]
  },
  {
   "cell_type": "code",
   "execution_count": 2,
   "metadata": {},
   "outputs": [
    {
     "name": "stdout",
     "output_type": "stream",
     "text": [
      "Extra force field file 1: C:\\Users\\hcarv\\Documents\\work\\Protein Design 2021\\Group1/gaff-2.11modv3_1.xml\n",
      "Using default force fields: ('amber14-all.xml', 'amber14/tip4pew.xml')\n",
      "PDB file generated: C:\\Users\\hcarv\\Documents\\work\\Protein Design 2021\\Group1/system.pdb\n"
     ]
    }
   ],
   "source": [
    "pdb='5a71a.pdb'\n",
    "\n",
    "importlib.reload(P)\n",
    "sim_tools=P.Protocols(workdir=data_path)\n",
    "\n",
    "system_omm=sim_tools.pdb2omm(input_pdbs=pdb, \n",
    "                            extra_ff_files=['gaff-2.11modv3_1.xml'], \n",
    "                            protonate=True,\n",
    "                            solvate=True,\n",
    "                            inspect=True,\n",
    "                            pH_protein=7.0) "
   ]
  },
  {
   "cell_type": "code",
   "execution_count": 3,
   "metadata": {},
   "outputs": [
    {
     "name": "stdout",
     "output_type": "stream",
     "text": [
      "<simtk.openmm.openmm.Platform; proxy of <Swig Object of type 'OpenMM::Platform *' at 0x000001DA2C315690> >\n",
      "Steps is not a unitless: 100 ps\n",
      "Converted to unitless using integration time of 0.002 ps: 50000.0\n",
      "50000.0\n"
     ]
    },
    {
     "data": {
      "text/plain": [
       "<simtk.openmm.app.simulation.Simulation at 0x1da36bcdeb0>"
      ]
     },
     "execution_count": 3,
     "metadata": {},
     "output_type": "execute_result"
    }
   ],
   "source": [
    "system_omm.setSimulations(dt = 0.002*picoseconds, \n",
    "                          temperature = 300*kelvin, \n",
    "                          friction = 1/picosecond,\n",
    "                          equilibrations=[('NPT', 100*picosecond, 100)],\n",
    "                          pressure=1*atmospheres)"
   ]
  },
  {
   "cell_type": "code",
   "execution_count": 4,
   "metadata": {},
   "outputs": [
    {
     "name": "stdout",
     "output_type": "stream",
     "text": [
      "Performing energy minimization: -996073.9013136635 kJ/mol\n",
      "System is now minimized: -1270882.4013136635 kJ/mol\n",
      "PDB file generated: C:\\Users\\hcarv\\Documents\\work\\Protein Design 2021\\Group1/Emin.pdb\n"
     ]
    },
    {
     "data": {
      "text/plain": [
       "<simtk.openmm.app.simulation.Simulation at 0x1da36bcdeb0>"
      ]
     },
     "execution_count": 4,
     "metadata": {},
     "output_type": "execute_result"
    }
   ],
   "source": [
    "system_omm.run_energyMinimization()"
   ]
  },
  {
   "cell_type": "code",
   "execution_count": 5,
   "metadata": {},
   "outputs": [
    {
     "name": "stdout",
     "output_type": "stream",
     "text": [
      "Run: NPT\n",
      "Restrained NPT equilibration (100.0 ps)...\n",
      "NPT equilibration finished.\n",
      "System is now equilibrated (?): -1035605.9013136635 kJ/mol\n"
     ]
    }
   ],
   "source": [
    "system_omm.run_equilibrations()"
   ]
  }
 ],
 "metadata": {
  "kernelspec": {
   "display_name": "Python 3",
   "language": "python",
   "name": "python3"
  },
  "language_info": {
   "codemirror_mode": {
    "name": "ipython",
    "version": 3
   },
   "file_extension": ".py",
   "mimetype": "text/x-python",
   "name": "python",
   "nbconvert_exporter": "python",
   "pygments_lexer": "ipython3",
   "version": "3.8.3"
  }
 },
 "nbformat": 4,
 "nbformat_minor": 4
}
