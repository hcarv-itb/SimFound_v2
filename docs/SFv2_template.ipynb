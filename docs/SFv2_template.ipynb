{
 "cells": [
  {
   "cell_type": "markdown",
   "metadata": {},
   "source": [
    "# SFv2 Template notebook"
   ]
  },
  {
   "cell_type": "markdown",
   "metadata": {},
   "source": [
    "## Import modules"
   ]
  },
  {
   "cell_type": "code",
   "execution_count": 16,
   "metadata": {},
   "outputs": [],
   "source": [
    "import os\n",
    "import sys\n",
    "\n",
    "data_path=os.path.abspath('C:/Users/hcarv/Documents/work/Protein Design 2021/Group1') #Where your group data is\n",
    "base_path=os.path.abspath('C:/Users/hcarv/Documents/GitHub/SimFound_v2/source/') #Where your source code is (SFv2)\n",
    "\n",
    "sys.path.append(base_path)\n",
    "sys.path.append(data_path)\n",
    "\n",
    "import importlib\n",
    "\n",
    "import Protocols as P\n"
   ]
  },
  {
   "cell_type": "markdown",
   "metadata": {},
   "source": [
    "# Protocols"
   ]
  },
  {
   "cell_type": "code",
   "execution_count": 26,
   "metadata": {},
   "outputs": [
    {
     "name": "stdout",
     "output_type": "stream",
     "text": [
      "Extra force field file 1: C:\\Users\\hcarv\\Documents\\work\\Protein Design 2021\\Group1/gaff-2.11modv3_1.xml\n",
      "Using default force fields: ('amber14-all.xml', 'amber14/tip4pew.xml')\n",
      "PDB file generated: C:\\Users\\hcarv\\Documents\\work\\Protein Design 2021\\Group1/system.pdb\n"
     ]
    }
   ],
   "source": [
    "pdb='5a71a.pdb'\n",
    "\n",
    "importlib.reload(P)\n",
    "sim_tools=P.Protocols(workdir=data_path)\n",
    "\n",
    "system_omm=sim_tools.pdb2omm(input_pdbs=pdb, \n",
    "                            extra_ff_files=['gaff-2.11modv3_1.xml'], \n",
    "                            protonate=True,\n",
    "                            solvate=True,\n",
    "                            inspect=True,\n",
    "                            pH=8.0) "
   ]
  },
  {
   "cell_type": "code",
   "execution_count": 27,
   "metadata": {},
   "outputs": [
    {
     "data": {
      "text/plain": [
       "<simtk.openmm.app.simulation.Simulation at 0x1d0e0198730>"
      ]
     },
     "execution_count": 27,
     "metadata": {},
     "output_type": "execute_result"
    }
   ],
   "source": [
    "system_omm.setSimulation()"
   ]
  },
  {
   "cell_type": "code",
   "execution_count": null,
   "metadata": {},
   "outputs": [
    {
     "name": "stdout",
     "output_type": "stream",
     "text": [
      "Performing energy minimization: -738450.583629637 kJ/mol\n"
     ]
    }
   ],
   "source": [
    "system_omm.energyMinimization()"
   ]
  },
  {
   "cell_type": "code",
   "execution_count": null,
   "metadata": {},
   "outputs": [],
   "source": [
    "EQ=system.equilibration_NPT()"
   ]
  }
 ],
 "metadata": {
  "kernelspec": {
   "display_name": "Python 3",
   "language": "python",
   "name": "python3"
  },
  "language_info": {
   "codemirror_mode": {
    "name": "ipython",
    "version": 3
   },
   "file_extension": ".py",
   "mimetype": "text/x-python",
   "name": "python",
   "nbconvert_exporter": "python",
   "pygments_lexer": "ipython3",
   "version": "3.8.3"
  }
 },
 "nbformat": 4,
 "nbformat_minor": 4
}
