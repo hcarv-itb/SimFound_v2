{
 "cells": [
  {
   "cell_type": "raw",
   "metadata": {},
   "source": [
    "# SFv2 Template notebook"
   ]
  },
  {
   "cell_type": "markdown",
   "metadata": {},
   "source": [
    "## Import modules"
   ]
  },
  {
   "cell_type": "code",
   "execution_count": 1,
   "metadata": {},
   "outputs": [],
   "source": [
    "import os\n",
    "import sys\n",
    "\n",
    "data_path=os.path.abspath('C:/Users/hcarv/Documents/work/Protein Design 2021/Group1') #Where your group data is\n",
    "base_path=os.path.abspath('C:/Users/hcarv/Documents/GitHub/SimFound_v2/source/') #Where your source code is (SFv2)\n",
    "\n",
    "sys.path.append(base_path)\n",
    "sys.path.append(data_path)\n",
    "\n",
    "import importlib\n",
    "\n",
    "import Protocols as P\n",
    "\n",
    "from simtk.unit import *\n"
   ]
  },
  {
   "cell_type": "markdown",
   "metadata": {},
   "source": [
    "# Protocols"
   ]
  },
  {
   "cell_type": "code",
   "execution_count": 2,
   "metadata": {},
   "outputs": [
    {
     "name": "stdout",
     "output_type": "stream",
     "text": [
      "Extra force field file 1: C:\\Users\\hcarv\\Documents\\work\\Protein Design 2021\\Group1/gaff-2.11modv3_1.xml\n",
      "Using default force fields: ('amber14-all.xml', 'amber14/tip4pew.xml')\n",
      "PDB file generated: C:\\Users\\hcarv\\Documents\\work\\Protein Design 2021\\Group1/system.pdb\n"
     ]
    }
   ],
   "source": [
    "pdb='5a71a.pdb'\n",
    "\n",
    "importlib.reload(P)\n",
    "sim_tools=P.Protocols(workdir=data_path)\n",
    "\n",
    "system_omm=sim_tools.pdb2omm(input_pdbs=pdb, \n",
    "                            extra_ff_files=['gaff-2.11modv3_1.xml'], \n",
    "                            protonate=True,\n",
    "                            solvate=True,\n",
    "                            inspect=True,\n",
    "                            pH_protein=7.0) \n",
    "\n",
    "std_report=100\n",
    "\n",
    "CALB_defaults={'ensemble': 'NPT',\n",
    "               'step': 1*picoseconds, \n",
    "               'report': std_report, \n",
    "               'restrained_sets': {'selections': ['protein and backbone'],\n",
    "                                   'forces': [100*kilojoules_per_mole/angstroms]}}\n",
    "\n",
    "SETD2_defaults={'ensemble': 'NPT',\n",
    "                'step': 100*picoseconds, \n",
    "                'report': std_report, \n",
    "                'restrained_sets': {'selections': ['protein and name CA and not chainid 1', 'chainid 3 and resid 0'],\n",
    "                                    'forces': [100*kilojoules_per_mole/angstroms, 150*kilojoules_per_mole/angstroms]}}"
   ]
  },
  {
   "cell_type": "code",
   "execution_count": 3,
   "metadata": {},
   "outputs": [
    {
     "name": "stdout",
     "output_type": "stream",
     "text": [
      "Setting equilibration protocol:\n",
      "\tensemble: NPT\n",
      "\tstep: 1 ps\n",
      "\treport: 100\n",
      "\trestrained_sets: {'selections': ['protein and backbone'], 'forces': [Quantity(value=100, unit=kilojoule/(angstrom*mole))]}\n",
      "Steps is not unitless: 1 ps\n",
      "Converted to unitless using integration time of 0.002 ps: 500\n"
     ]
    },
    {
     "data": {
      "text/plain": [
       "<simtk.openmm.app.simulation.Simulation at 0x1f8aa114a60>"
      ]
     },
     "execution_count": 3,
     "metadata": {},
     "output_type": "execute_result"
    }
   ],
   "source": [
    "system_omm.setSimulations(dt = 0.002*picoseconds, \n",
    "                          temperature = 300*kelvin, \n",
    "                          friction = 1/picosecond,\n",
    "                          equilibrations=['someNPTdictionary', 'someNVTdictionary', 'someNVEdictionary'],\n",
    "                          pressure=1*atmospheres)"
   ]
  },
  {
   "cell_type": "code",
   "execution_count": 4,
   "metadata": {},
   "outputs": [
    {
     "name": "stdout",
     "output_type": "stream",
     "text": [
      "Performing energy minimization: -957555.1868780134 kJ/mol\n",
      "System is now minimized: -1269159.1868780134 kJ/mol\n",
      "PDB file generated: C:\\Users\\hcarv\\Documents\\work\\Protein Design 2021\\Group1/Emin.pdb\n"
     ]
    },
    {
     "data": {
      "text/plain": [
       "<simtk.openmm.app.simulation.Simulation at 0x1f8aa114a60>"
      ]
     },
     "execution_count": 4,
     "metadata": {},
     "output_type": "execute_result"
    }
   ],
   "source": [
    "system_omm.run_energyMinimization()"
   ]
  },
  {
   "cell_type": "code",
   "execution_count": 5,
   "metadata": {},
   "outputs": [
    {
     "name": "stdout",
     "output_type": "stream",
     "text": [
      "Run: NPT\n",
      "Restrained NPT equilibration (1.0 ps)...\n",
      "NPT equilibration finished.\n",
      "PDB file generated: C:\\Users\\hcarv\\Documents\\work\\Protein Design 2021\\Group1/EQ_NPT.pdb\n",
      "System is now equilibrated (?): -1107395.1868780134 kJ/mol\n"
     ]
    },
    {
     "data": {
      "text/plain": [
       "<module 'simtk.openmm.app.simulation' from 'C:\\\\Users\\\\hcarv\\\\anaconda3\\\\lib\\\\site-packages\\\\simtk\\\\openmm\\\\app\\\\simulation.py'>"
      ]
     },
     "execution_count": 5,
     "metadata": {},
     "output_type": "execute_result"
    }
   ],
   "source": [
    "system_omm.run_equilibrations()"
   ]
  },
  {
   "cell_type": "code",
   "execution_count": null,
   "metadata": {},
   "outputs": [],
   "source": []
  }
 ],
 "metadata": {
  "kernelspec": {
   "display_name": "Python 3",
   "language": "python",
   "name": "python3"
  },
  "language_info": {
   "codemirror_mode": {
    "name": "ipython",
    "version": 3
   },
   "file_extension": ".py",
   "mimetype": "text/x-python",
   "name": "python",
   "nbconvert_exporter": "python",
   "pygments_lexer": "ipython3",
   "version": "3.8.3"
  }
 },
 "nbformat": 4,
 "nbformat_minor": 4
}
