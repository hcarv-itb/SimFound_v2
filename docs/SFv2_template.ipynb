{
 "cells": [
  {
   "cell_type": "markdown",
   "metadata": {},
   "source": [
    "# SFv2 Template notebook"
   ]
  },
  {
   "cell_type": "markdown",
   "metadata": {},
   "source": [
    "## Import modules"
   ]
  },
  {
   "cell_type": "code",
   "execution_count": null,
   "metadata": {},
   "outputs": [],
   "source": [
    "import os\n",
    "import sys\n",
    "\n",
    "data_path=os.path.abspath('C:/Users/hcarv/Documents/work/Protein Design 2021/Group1') #Where your group data is\n",
    "base_path=os.path.abspath('C:/Users/hcarv/Documents/GitHub/SimFound_v2/source/') #Where your source code is (SFv2)\n",
    "\n",
    "sys.path.append(base_path)\n",
    "sys.path.append(data_path)\n",
    "\n",
    "import importlib\n",
    "\n",
    "import SETD2_protocols as P\n"
   ]
  },
  {
   "cell_type": "markdown",
   "metadata": {},
   "source": [
    "# Protocols"
   ]
  },
  {
   "cell_type": "code",
   "execution_count": 57,
   "metadata": {},
   "outputs": [
    {
     "ename": "IndentationError",
     "evalue": "unexpected indent (SETD2_protocols.py, line 372)",
     "output_type": "error",
     "traceback": [
      "Traceback \u001b[1;36m(most recent call last)\u001b[0m:\n",
      "  File \u001b[0;32m\"C:\\Users\\hcarv\\anaconda3\\lib\\site-packages\\IPython\\core\\interactiveshell.py\"\u001b[0m, line \u001b[0;32m3343\u001b[0m, in \u001b[0;35mrun_code\u001b[0m\n    exec(code_obj, self.user_global_ns, self.user_ns)\n",
      "  File \u001b[0;32m\"<ipython-input-57-7a4b9f0d014b>\"\u001b[0m, line \u001b[0;32m3\u001b[0m, in \u001b[0;35m<module>\u001b[0m\n    importlib.reload(P)\n",
      "  File \u001b[0;32m\"C:\\Users\\hcarv\\anaconda3\\lib\\importlib\\__init__.py\"\u001b[0m, line \u001b[0;32m169\u001b[0m, in \u001b[0;35mreload\u001b[0m\n    _bootstrap._exec(spec, module)\n",
      "  File \u001b[0;32m\"<frozen importlib._bootstrap>\"\u001b[0m, line \u001b[0;32m604\u001b[0m, in \u001b[0;35m_exec\u001b[0m\n",
      "  File \u001b[0;32m\"<frozen importlib._bootstrap_external>\"\u001b[0m, line \u001b[0;32m779\u001b[0m, in \u001b[0;35mexec_module\u001b[0m\n",
      "  File \u001b[0;32m\"<frozen importlib._bootstrap_external>\"\u001b[0m, line \u001b[0;32m916\u001b[0m, in \u001b[0;35mget_code\u001b[0m\n",
      "  File \u001b[0;32m\"<frozen importlib._bootstrap_external>\"\u001b[0m, line \u001b[0;32m846\u001b[0m, in \u001b[0;35msource_to_code\u001b[0m\n",
      "\u001b[1;36m  File \u001b[1;32m\"<frozen importlib._bootstrap>\"\u001b[1;36m, line \u001b[1;32m219\u001b[1;36m, in \u001b[1;35m_call_with_frames_removed\u001b[1;36m\u001b[0m\n",
      "\u001b[1;36m  File \u001b[1;32m\"C:\\Users\\hcarv\\Documents\\GitHub\\SimFound_v2\\source\\SETD2_protocols.py\"\u001b[1;36m, line \u001b[1;32m372\u001b[0m\n\u001b[1;33m    out_pdb=f'{self.workdir}/{name}.pdb'\u001b[0m\n\u001b[1;37m    ^\u001b[0m\n\u001b[1;31mIndentationError\u001b[0m\u001b[1;31m:\u001b[0m unexpected indent\n"
     ]
    }
   ],
   "source": [
    "pdb='5a71a.pdb'\n",
    "\n",
    "importlib.reload(P)\n",
    "protocol=P.Protocols(workdir=data_path)\n",
    "\n",
    "system=protocol.pdb2omm(input_pdbs=pdb, \n",
    "                          extra_ff_files=['gaff-2.11modv3_1.xml'], \n",
    "                          protonate=True,\n",
    "                          solvate=True,\n",
    "                          inspect=True) "
   ]
  },
  {
   "cell_type": "code",
   "execution_count": 56,
   "metadata": {},
   "outputs": [
    {
     "name": "stdout",
     "output_type": "stream",
     "text": [
      "C:\\Users\\hcarv\\Documents\\work\\Protein Design 2021\\Group1/test.pdb\n"
     ]
    },
    {
     "data": {
      "application/vnd.jupyter.widget-view+json": {
       "model_id": "e492cccfc1cb45c8a053249337ab1049",
       "version_major": 2,
       "version_minor": 0
      },
      "text/plain": [
       "NGLWidget()"
      ]
     },
     "metadata": {},
     "output_type": "display_data"
    }
   ],
   "source": [
    "import nglview\n",
    "print(protocol.out_pdb)\n",
    "view=nglview.show_structure_file('C:/Users/hcarv/Documents/work/Protein Design 2021/Group1/test.pdb')\n",
    "view"
   ]
  },
  {
   "cell_type": "code",
   "execution_count": 44,
   "metadata": {},
   "outputs": [
    {
     "data": {
      "application/vnd.jupyter.widget-view+json": {
       "model_id": "15f9527b033c45ccb727a09deef5518f",
       "version_major": 2,
       "version_minor": 0
      },
      "text/plain": [
       "NGLWidget()"
      ]
     },
     "metadata": {},
     "output_type": "display_data"
    }
   ],
   "source": [
    "view"
   ]
  },
  {
   "cell_type": "code",
   "execution_count": 26,
   "metadata": {},
   "outputs": [],
   "source": [
    "simulation=protocol.setSimulation()"
   ]
  },
  {
   "cell_type": "code",
   "execution_count": null,
   "metadata": {},
   "outputs": [],
   "source": []
  }
 ],
 "metadata": {
  "kernelspec": {
   "display_name": "Python 3",
   "language": "python",
   "name": "python3"
  },
  "language_info": {
   "codemirror_mode": {
    "name": "ipython",
    "version": 3
   },
   "file_extension": ".py",
   "mimetype": "text/x-python",
   "name": "python",
   "nbconvert_exporter": "python",
   "pygments_lexer": "ipython3",
   "version": "3.8.3"
  }
 },
 "nbformat": 4,
 "nbformat_minor": 4
}
