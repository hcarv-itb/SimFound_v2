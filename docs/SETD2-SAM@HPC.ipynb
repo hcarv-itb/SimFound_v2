{
 "cells": [
  {
   "cell_type": "markdown",
   "metadata": {},
   "source": [
    "## **SETD2 with SAM launcher @HPC**"
   ]
  },
  {
   "cell_type": "markdown",
   "metadata": {},
   "source": [
    "## **Import modules**"
   ]
  },
  {
   "cell_type": "code",
   "execution_count": 1,
   "metadata": {},
   "outputs": [],
   "source": [
    "import os\n",
    "import sys\n",
    "\n",
    "data_path=os.path.abspath('/media/dataHog/hca/SETD2') #Where your group data is\n",
    "base_path=os.path.abspath('/media/dataHog/hca/SimFound_v2/source/') #Where your source code is (SFv2)\n",
    "\n",
    "sys.path.append(base_path)\n",
    "sys.path.append(data_path)\n",
    "\n",
    "import importlib\n",
    "\n",
    "import warnings\n",
    "warnings.filterwarnings('ignore')\n",
    "import Protocols as P\n",
    "\n",
    "import main\n",
    "import tools\n",
    "import Featurize as F\n",
    "\n",
    "\n",
    "from simtk.unit import *"
   ]
  },
  {
   "cell_type": "markdown",
   "metadata": {},
   "source": [
    "## **Define Project**"
   ]
  },
  {
   "cell_type": "code",
   "execution_count": 2,
   "metadata": {},
   "outputs": [
    {
     "name": "stdout",
     "output_type": "stream",
     "text": [
      "Converted parameter \"temperature\" (in K) into scalar: 310.0 K\n",
      "System setd2_complexed_noSub-SAM-310K-1 with parameter 310.0 K defined\n",
      "System setd2_complexed_noSub-SAM-310K-2 with parameter 310.0 K defined\n",
      "System setd2_complexed_noSub-SAM-310K-3 with parameter 310.0 K defined\n",
      "System setd2_complexed_noSub-SAM-310K-4 with parameter 310.0 K defined\n",
      "System setd2_complexed_noSub-SAM-310K-5 with parameter 310.0 K defined\n",
      "System setd2_complexed_noSub-SAM-310K-6 with parameter 310.0 K defined\n",
      "System setd2_complexed_noSub-SAM-310K-7 with parameter 310.0 K defined\n",
      "System setd2_complexed_noSub-SAM-310K-8 with parameter 310.0 K defined\n",
      "System setd2_complexed_noSub-SAM-310K-9 with parameter 310.0 K defined\n",
      "System setd2_complexed_noSub-SAM-310K-10 with parameter 310.0 K defined\n",
      "System setd2_complexed_noSub-SAM-310K-11 with parameter 310.0 K defined\n",
      "System setd2_complexed_noSub-SAM-310K-12 with parameter 310.0 K defined\n",
      "System setd2_complexed_noSub-SAM-310K-13 with parameter 310.0 K defined\n",
      "System setd2_complexed_noSub-SAM-310K-14 with parameter 310.0 K defined\n",
      "System setd2_complexed_noSub-SAM-310K-15 with parameter 310.0 K defined\n",
      "System setd2_complexed_noSub-SAM-310K-16 with parameter 310.0 K defined\n",
      "System setd2_complexed_noSub-SAM-310K-17 with parameter 310.0 K defined\n",
      "System setd2_complexed_noSub-SAM-310K-18 with parameter 310.0 K defined\n",
      "System setd2_complexed_noSub-SAM-310K-19 with parameter 310.0 K defined\n",
      "System setd2_complexed_noSub-SAM-310K-20 with parameter 310.0 K defined\n",
      "System setd2_complexed_noSub-SAM-310K-21 with parameter 310.0 K defined\n",
      "System setd2_complexed_noSub-SAM-310K-22 with parameter 310.0 K defined\n",
      "System setd2_complexed_noSub-SAM-310K-23 with parameter 310.0 K defined\n",
      "System setd2_complexed_noSub-SAM-310K-24 with parameter 310.0 K defined\n",
      "System setd2_complexed_noSub-SAM-310K-25 with parameter 310.0 K defined\n",
      "System setd2_complexed_noSub-SAM-310K-26 with parameter 310.0 K defined\n",
      "System setd2_complexed_noSub-SAM-310K-27 with parameter 310.0 K defined\n",
      "System setd2_complexed_noSub-SAM-310K-28 with parameter 310.0 K defined\n",
      "System setd2_complexed_noSub-SAM-310K-29 with parameter 310.0 K defined\n",
      "System setd2_complexed_noSub-SAM-310K-30 with parameter 310.0 K defined\n",
      "System setd2_complexed_noSub-SAM-310K-31 with parameter 310.0 K defined\n",
      "System setd2_complexed_noSub-SAM-310K-32 with parameter 310.0 K defined\n",
      "System setd2_complexed_noSub-SAM-310K-33 with parameter 310.0 K defined\n",
      "System setd2_complexed_noSub-SAM-310K-34 with parameter 310.0 K defined\n",
      "System setd2_complexed_noSub-SAM-310K-35 with parameter 310.0 K defined\n",
      "System setd2_complexed_noSub-SAM-310K-36 with parameter 310.0 K defined\n",
      "System setd2_complexed_noSub-SAM-310K-37 with parameter 310.0 K defined\n",
      "System setd2_complexed_noSub-SAM-310K-38 with parameter 310.0 K defined\n",
      "System setd2_complexed_noSub-SAM-310K-39 with parameter 310.0 K defined\n",
      "System setd2_complexed_noSub-SAM-310K-40 with parameter 310.0 K defined\n"
     ]
    },
    {
     "data": {
      "text/plain": [
       "{'setd2_complexed_noSub-SAM-310K-1': <main.System at 0x7fac89abbb90>,\n",
       " 'setd2_complexed_noSub-SAM-310K-2': <main.System at 0x7fac89abbe90>,\n",
       " 'setd2_complexed_noSub-SAM-310K-3': <main.System at 0x7fac89abb210>,\n",
       " 'setd2_complexed_noSub-SAM-310K-4': <main.System at 0x7fac89aba0d0>,\n",
       " 'setd2_complexed_noSub-SAM-310K-5': <main.System at 0x7fac89aba150>,\n",
       " 'setd2_complexed_noSub-SAM-310K-6': <main.System at 0x7fac89aba2d0>,\n",
       " 'setd2_complexed_noSub-SAM-310K-7': <main.System at 0x7fac89aba290>,\n",
       " 'setd2_complexed_noSub-SAM-310K-8': <main.System at 0x7fac89aba210>,\n",
       " 'setd2_complexed_noSub-SAM-310K-9': <main.System at 0x7fac89aba310>,\n",
       " 'setd2_complexed_noSub-SAM-310K-10': <main.System at 0x7fac89aba110>,\n",
       " 'setd2_complexed_noSub-SAM-310K-11': <main.System at 0x7fac89aba1d0>,\n",
       " 'setd2_complexed_noSub-SAM-310K-12': <main.System at 0x7fac89aba350>,\n",
       " 'setd2_complexed_noSub-SAM-310K-13': <main.System at 0x7fac89aba050>,\n",
       " 'setd2_complexed_noSub-SAM-310K-14': <main.System at 0x7fac89aba410>,\n",
       " 'setd2_complexed_noSub-SAM-310K-15': <main.System at 0x7fac89aba450>,\n",
       " 'setd2_complexed_noSub-SAM-310K-16': <main.System at 0x7fac89aba490>,\n",
       " 'setd2_complexed_noSub-SAM-310K-17': <main.System at 0x7fac89aba4d0>,\n",
       " 'setd2_complexed_noSub-SAM-310K-18': <main.System at 0x7fac89aba510>,\n",
       " 'setd2_complexed_noSub-SAM-310K-19': <main.System at 0x7fac89aba550>,\n",
       " 'setd2_complexed_noSub-SAM-310K-20': <main.System at 0x7fac89aba590>,\n",
       " 'setd2_complexed_noSub-SAM-310K-21': <main.System at 0x7fac89aba5d0>,\n",
       " 'setd2_complexed_noSub-SAM-310K-22': <main.System at 0x7fac89aba610>,\n",
       " 'setd2_complexed_noSub-SAM-310K-23': <main.System at 0x7fac89aba650>,\n",
       " 'setd2_complexed_noSub-SAM-310K-24': <main.System at 0x7fac89aba690>,\n",
       " 'setd2_complexed_noSub-SAM-310K-25': <main.System at 0x7fac89aba6d0>,\n",
       " 'setd2_complexed_noSub-SAM-310K-26': <main.System at 0x7fac89aba710>,\n",
       " 'setd2_complexed_noSub-SAM-310K-27': <main.System at 0x7fac89aba750>,\n",
       " 'setd2_complexed_noSub-SAM-310K-28': <main.System at 0x7fac89aba790>,\n",
       " 'setd2_complexed_noSub-SAM-310K-29': <main.System at 0x7fac89aba7d0>,\n",
       " 'setd2_complexed_noSub-SAM-310K-30': <main.System at 0x7fac89aba810>,\n",
       " 'setd2_complexed_noSub-SAM-310K-31': <main.System at 0x7fac89aba850>,\n",
       " 'setd2_complexed_noSub-SAM-310K-32': <main.System at 0x7fac89aba890>,\n",
       " 'setd2_complexed_noSub-SAM-310K-33': <main.System at 0x7fac89aba8d0>,\n",
       " 'setd2_complexed_noSub-SAM-310K-34': <main.System at 0x7fac89aba910>,\n",
       " 'setd2_complexed_noSub-SAM-310K-35': <main.System at 0x7fac89aba950>,\n",
       " 'setd2_complexed_noSub-SAM-310K-36': <main.System at 0x7fac89aba990>,\n",
       " 'setd2_complexed_noSub-SAM-310K-37': <main.System at 0x7fac89aba9d0>,\n",
       " 'setd2_complexed_noSub-SAM-310K-38': <main.System at 0x7fac89abaa10>,\n",
       " 'setd2_complexed_noSub-SAM-310K-39': <main.System at 0x7fac89abaa50>,\n",
       " 'setd2_complexed_noSub-SAM-310K-40': <main.System at 0x7fac89abaa90>}"
      ]
     },
     "execution_count": 2,
     "metadata": {},
     "output_type": "execute_result"
    }
   ],
   "source": [
    "importlib.reload(main)\n",
    "\n",
    "workdir=data_path\n",
    "results=workdir+'/results'\n",
    "inputs=workdir+'inputs/structures/'\n",
    "\n",
    "\n",
    "\n",
    "#protein=['WT', 'R167Q', 'I602G']\n",
    "protein=['setd2_complexed_noSub']\n",
    "\n",
    "ligand=['SAM']\n",
    "parameters=['310K']\n",
    "timestep=20*picoseconds\n",
    "\n",
    "project=main.Project(title='SETD2-SAM', \n",
    "                     hierarchy=('protein', 'ligand', 'parameter'), \n",
    "                     workdir=workdir,\n",
    "                     parameter=parameters, \n",
    "                     replicas=40, \n",
    "                     protein=protein, \n",
    "                     ligand=ligand, \n",
    "                     results=results,\n",
    "                     topology='SETD2_complexed_noSub.pdb',\n",
    "                     timestep=timestep,\n",
    "                    initial_replica=1)\n",
    "\n",
    "\n",
    "project.setSystems()"
   ]
  },
  {
   "cell_type": "markdown",
   "metadata": {},
   "source": [
    "## **Simulation Protocol**"
   ]
  },
  {
   "cell_type": "markdown",
   "metadata": {},
   "source": [
    "## Set defaults"
   ]
  },
  {
   "cell_type": "code",
   "execution_count": 3,
   "metadata": {},
   "outputs": [],
   "source": [
    "\n",
    "SETD2_variants={('A',1499): 'CYX',\n",
    "                ('A',1501): 'CYX',\n",
    "                ('A',1516): 'CYX',\n",
    "                ('A',1520): 'CYX',\n",
    "                ('A',1529): 'CYX',\n",
    "                ('A',1533):'CYX',\n",
    "                ('A',1539):'CYX',\n",
    "                ('A',1631):'CYX',\n",
    "                ('A',1678):'CYX',\n",
    "                ('A',1680):'CYX',\n",
    "                ('A',1685):'CYX'}\n",
    "\n",
    "NPT_equilibration={'ensemble': 'NPT',\n",
    "                'step': 5*nanoseconds, \n",
    "                'report': timestep, \n",
    "                'restrained_sets': {'selections': ['protein and backbone', 'resname ZNB', 'resname SAM'],\n",
    "                                    'forces': [100*kilojoules_per_mole/angstroms, 150*kilojoules_per_mole/angstroms, 150*kilojoules_per_mole/angstroms]}}\n",
    "\n",
    "NPT_production={'ensemble': 'NPT',\n",
    "                'step': 500*nanoseconds, \n",
    "                'report': timestep}"
   ]
  },
  {
   "cell_type": "markdown",
   "metadata": {},
   "source": [
    "## Setup simulation protocol"
   ]
  },
  {
   "cell_type": "code",
   "execution_count": null,
   "metadata": {},
   "outputs": [],
   "source": [
    "importlib.reload(P)\n",
    "importlib.reload(tools)\n",
    "extra_pdb = ['ZNB_open.pdb', 'SAM.pdb']\n",
    "#smiles = 'C[S+](CC[C@@H](C(=O)[O-])N)C[C@@H]1[C@H]([C@H]([C@@H](O1)N2C=NC3=C(N=CN=C32)N)O)O'\n",
    "xml_files = ['protein.ff14SB.xml', 'tip4pew.xml', 'ZNB.xml', 'SAM.xml', 'bonded.xml', 'gaff.xml']\n",
    "\n",
    "simulation=P.Protocols(project, overwrite_mode=False)\n",
    "    \n",
    "simulation.pdb2omm(input_pdb=project.input_topology,\n",
    "                                     extra_input_pdb=extra_pdb,\n",
    "                                     ff_files=xml_files,\n",
    "                                     protonate=True,\n",
    "                                     solvate=True,\n",
    "                                     pH_protein=7.0,\n",
    "                                     residue_variants=SETD2_variants)\n",
    "                                    #insert_molecules=True)\n",
    "                                    #insert_smiles=smiles)\n",
    "simulation.setSimulations(dt=0.002*picoseconds, \n",
    "                                  temperature = 310,\n",
    "                                  pH=7.0,\n",
    "                                  friction = 1/picosecond,\n",
    "                                  equilibrations=[NPT_equilibration],\n",
    "                                  productions=[NPT_production],\n",
    "                                  pressure=1*atmospheres)\n",
    "\n",
    "\n",
    "\n"
   ]
  },
  {
   "cell_type": "code",
   "execution_count": null,
   "metadata": {},
   "outputs": [],
   "source": [
    "simulation.runSimulations(where='BwniCluster',\n",
    "                              run_productions=True,  \n",
    "                              compute_time=2,\n",
    "                              reportFactor=0.05,\n",
    "                             gpu_index=gpu_index) "
   ]
  },
  {
   "cell_type": "markdown",
   "metadata": {},
   "source": [
    "## **WARNING!** Run simulation(s)"
   ]
  },
  {
   "cell_type": "code",
   "execution_count": null,
   "metadata": {},
   "outputs": [],
   "source": []
  }
 ],
 "metadata": {
  "kernelspec": {
   "display_name": "Python 3",
   "language": "python",
   "name": "python3"
  },
  "language_info": {
   "codemirror_mode": {
    "name": "ipython",
    "version": 3
   },
   "file_extension": ".py",
   "mimetype": "text/x-python",
   "name": "python",
   "nbconvert_exporter": "python",
   "pygments_lexer": "ipython3",
   "version": "3.7.10"
  }
 },
 "nbformat": 4,
 "nbformat_minor": 4
}
