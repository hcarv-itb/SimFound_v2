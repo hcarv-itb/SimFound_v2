{
 "cells": [
  {
   "cell_type": "markdown",
   "metadata": {},
   "source": [
    "## **SETD2 with SAM, analysis @Dreamworks**"
   ]
  },
  {
   "cell_type": "markdown",
   "metadata": {},
   "source": [
    "## **Import modules**"
   ]
  },
  {
   "cell_type": "code",
   "execution_count": 1,
   "metadata": {},
   "outputs": [
    {
     "data": {
      "application/vnd.jupyter.widget-view+json": {
       "model_id": "0c9e8a1f04cb4b728c0563d3d682a638",
       "version_major": 2,
       "version_minor": 0
      },
      "text/plain": []
     },
     "metadata": {},
     "output_type": "display_data"
    }
   ],
   "source": [
    "import os\n",
    "import sys\n",
    "    \n",
    "data_path=os.path.abspath('/media/dataHog/hca/SETD2') #Where your group data is\n",
    "base_path=os.path.abspath('/media/dataHog/hca/SimFound_v2/source/') #Where your source code is (SFv2)\n",
    "\n",
    "sys.path.append(base_path)\n",
    "sys.path.append(data_path)\n",
    "\n",
    "import importlib\n",
    "\n",
    "import warnings\n",
    "warnings.filterwarnings('ignore')\n",
    "import Protocols as P\n",
    "\n",
    "import main\n",
    "import tools\n",
    "import Trajectory\n",
    "import MSM\n",
    "import Featurize as F\n",
    "import Discretize\n",
    "\n",
    "\n",
    "from simtk.unit import *"
   ]
  },
  {
   "cell_type": "markdown",
   "metadata": {},
   "source": [
    "## **Define Project**"
   ]
  },
  {
   "cell_type": "code",
   "execution_count": 2,
   "metadata": {
    "tags": []
   },
   "outputs": [
    {
     "name": "stdout",
     "output_type": "stream",
     "text": [
      "Converted parameter \"temperature\" (in K) into scalar: 310.0 K\n"
     ]
    }
   ],
   "source": [
    "importlib.reload(Trajectory)\n",
    "importlib.reload(main)\n",
    "\n",
    "workdir=data_path\n",
    "results=workdir+'/results'\n",
    "inputs=workdir+'/inputs/structures/'\n",
    "\n",
    "protein=['setd2_complexed_noSub']\n",
    "\n",
    "ligand=['SAM']\n",
    "parameters=['310K']\n",
    "timestep=20*picoseconds\n",
    "\n",
    "project=main.Project(title='SETD2-SAM', \n",
    "                     hierarchy=('protein', 'ligand', 'parameter'), \n",
    "                     workdir=workdir,\n",
    "                     parameter=parameters, \n",
    "                     replicas=40, \n",
    "                     protein=protein, \n",
    "                     ligand=ligand,\n",
    "                     topology='SETD2_complexed_noSub_full.pdb',\n",
    "                     timestep=timestep,\n",
    "                    initial_replica=1)\n",
    "project.setSystems()"
   ]
  },
  {
   "cell_type": "markdown",
   "metadata": {},
   "source": [
    "## **Markov State Models**\n"
   ]
  },
  {
   "cell_type": "code",
   "execution_count": 11,
   "metadata": {
    "tags": []
   },
   "outputs": [
    {
     "name": "stdout",
     "output_type": "stream",
     "text": [
      "Results will be stored under:  /media/dataHog/hca/SETD2/results/setd2_complexed_noSub-SAM-310K/MSM\n",
      "PyEMMA calculations will be stored under:  /media/dataHog/hca/SETD2/results/setd2_complexed_noSub-SAM-310K/MSM/MSM_storage\n",
      "Using pre-defined trajectory ['production_NPT-1.dcd'] and/or topology None\n"
     ]
    }
   ],
   "source": [
    "importlib.reload(MSM)\n",
    "importlib.reload(Trajectory)\n",
    "import tools_plots\n",
    "importlib.reload(tools_plots)\n",
    "\n",
    "protein_regions = {'loopIN' : 'resid 241 to 255 and backbone', #red\n",
    "                   'postSET' : 'resid 220 to 240 and backbone', #blue\n",
    "                   'SETcd' : 'resid 136 to 165 and backbone', #green\n",
    "                   'control_core'  : 'resid 190 to 210 and backbone', #yellow\n",
    "                   'combined' : 'resid 220 to 255 and backbone',\n",
    "                   'full' : 'protein and name CA',\n",
    "                   'control_ZF' : 'resid 47 to 85 and backbone'}\n",
    "\n",
    "\n",
    "#protein_regions = {'R1670-SAM' : ('resid 221 and name CZ', 'resname SAM and name SD')}\n",
    "#'lid' : ('resid 241 to 255', 'resid 136 to 165')}\n",
    "\n",
    "features_to_extract=['torsions', 'positions']\n",
    "#features_to_extract=['distances']\n",
    "\n",
    "kinetic_models={}\n",
    "kinetics=MSM.MSM(project,\n",
    "                 protein_regions,\n",
    "                 stride=1, \n",
    "                 timestep=timestep, \n",
    "                 warnings=True,\n",
    "                def_traj=['production_NPT-1.dcd'])"
   ]
  },
  {
   "cell_type": "code",
   "execution_count": 12,
   "metadata": {
    "tags": []
   },
   "outputs": [
    {
     "name": "stdout",
     "output_type": "stream",
     "text": [
      "Executing load_models \n",
      "\tModels calculated:  1906\n",
      "\tModels to discard:  2797\n",
      "\tModels to calculate:  0\n",
      "\tFailed models:  2799\n",
      "\tLoaded models:  1906\n",
      "\tTotal number of models : 4705\n"
     ]
    }
   ],
   "source": [
    "states = [5, 10, 15, 20, 30, 50, 100]\n",
    "lags = [10, 100, 250, 500, 1000, 2000]\n",
    "tica_lags=[10, 20, 50, 100, 200, 500, 1000, 2000]\n",
    "\n",
    "test_models = []\n",
    "\n",
    "for region in protein_regions.keys():\n",
    "    for feature in features_to_extract:\n",
    "        test_models.append((region, feature, states, lags))\n",
    "\n",
    "kinetics.analysis(inputs=test_models, \n",
    "                    method='generate', \n",
    "                    tica_lag=tica_lags,\n",
    "                    eval_vamps=True, \n",
    "                  tica_weights='empirical')"
   ]
  },
  {
   "cell_type": "code",
   "execution_count": null,
   "metadata": {
    "tags": []
   },
   "outputs": [],
   "source": [
    "\n",
    "\n",
    "models=kinetics.model_comparison()\n",
    "indexes=['Discretized feature', 'name', 'feature', 'model', 'Test', 'Filters', 'Processes', 'States', 'Lag', 'Dimensions', 're-weighting', 'tICA lag', 'Cluster method']\n",
    "\n",
    "models.reset_index(inplace=True)\n",
    "models= models.melt(id_vars=indexes, \n",
    "        var_name=\"VAMP2\", \n",
    "        value_name=\"Score\")\n",
    "#models.hvplot(kind='scatter', y='Score')\n",
    "#slider = pnw.FloatSlider(name='Lag', start=0, end=1)\n",
    "#models.hvplot.kde(y='Lag', by='Test')\n",
    "#models.hvplot.kde(y='Score', by='name' , groupby='feature') \n",
    "\n",
    "\n",
    "\n"
   ]
  },
  {
   "cell_type": "code",
   "execution_count": null,
   "metadata": {},
   "outputs": [],
   "source": [
    "models.hvplot.box(y='Score', by=['name'], groupby='feature', grid=True)"
   ]
  },
  {
   "cell_type": "code",
   "execution_count": null,
   "metadata": {},
   "outputs": [],
   "source": [
    "models"
   ]
  },
  {
   "cell_type": "markdown",
   "metadata": {
    "tags": []
   },
   "source": [
    "## Evaluate *features* and *dimensions* with VAMP2 scores"
   ]
  },
  {
   "cell_type": "code",
   "execution_count": null,
   "metadata": {
    "tags": []
   },
   "outputs": [],
   "source": [
    "vamp_lags=[1, 2, 10, 20, 50, 100, 200, 500, 1000, 2000]\n",
    "kinetics.calculate(method='VAMP', \n",
    "                    evaluate=['features', 'dimensions'], \n",
    "                    features=features_to_extract, \n",
    "                    VAMP_lags=vamp_lags, \n",
    "                    dim=0.95)"
   ]
  },
  {
   "cell_type": "markdown",
   "metadata": {
    "tags": []
   },
   "source": [
    "## TICA"
   ]
  },
  {
   "cell_type": "code",
   "execution_count": null,
   "metadata": {
    "tags": []
   },
   "outputs": [],
   "source": [
    "tica_lags=[10, 20, 50, 100, 200, 500, 1000, 2000]\n",
    "kinetics.calculate(inputs=protein_regions, method='TICA', \n",
    "                   features=features_to_extract, \n",
    "                   TICA_lag=tica_lags,\n",
    "                  tica_weights='empirical')\n"
   ]
  },
  {
   "cell_type": "markdown",
   "metadata": {
    "tags": []
   },
   "source": [
    "## Clustering in TICA space"
   ]
  },
  {
   "cell_type": "code",
   "execution_count": null,
   "metadata": {
    "jupyter": {
     "source_hidden": true
    },
    "tags": []
   },
   "outputs": [],
   "source": [
    "kinetics.calculate(method='Clustering',\n",
    "                   features=features_to_extract, \n",
    "                   TICA_lag=10,\n",
    "                   cluster_lags=[500],\n",
    "                   def_traj=['production_NPT-1.dcd'])"
   ]
  },
  {
   "cell_type": "code",
   "execution_count": null,
   "metadata": {
    "jupyter": {
     "source_hidden": true
    },
    "tags": []
   },
   "outputs": [],
   "source": [
    "tica_lags=[10, 20, 50, 100, 200, 500, 1000, 2000]\n",
    "for lag in tica_lags:\n",
    "    kinetics.analysis(inputs=test_models, \n",
    "                    method='inspect', \n",
    "                    disc_lag=lag, \n",
    "                    eval_vamps=True)"
   ]
  },
  {
   "cell_type": "markdown",
   "metadata": {},
   "source": [
    "## Global"
   ]
  },
  {
   "cell_type": "code",
   "execution_count": null,
   "metadata": {
    "tags": []
   },
   "outputs": [],
   "source": [
    "top_models = [('loop_IN', 'torsions', 30, 100, (3,5)),\n",
    "              ('loop_IN', 'positions', 30, 100, (3,5)),\n",
    "              ('post_SET_domain', 'positions', 30, 100, (3,5)),\n",
    "              ('SETcd', 'positions', 20, 100, (3,5)), \n",
    "              ('SETcd', 'torsions', 20, 100, (3,5)), \n",
    "              ('SETcd', 'positions', 30, 100, (3,5)),\n",
    "              ('combined', 'positions', 30, 100, (3,5))]\n",
    "top_models = {2000 : [('full_Ca', 'positions', 20, 100, 3)],\n",
    "                20 : [('combined', 'torsions', 30, 100, 3)],\n",
    "                10 : [('SETcd', 'positions', 20, 100, 3)]}"
   ]
  },
  {
   "cell_type": "markdown",
   "metadata": {
    "tags": []
   },
   "source": [
    "## CK test"
   ]
  },
  {
   "cell_type": "code",
   "execution_count": null,
   "metadata": {
    "jupyter": {
     "source_hidden": true
    },
    "tags": []
   },
   "outputs": [],
   "source": [
    "for tica_lag, input_models in top_models.items():\n",
    "    kinetics.analysis(inputs=input_models, disc_lag=tica_lag, method='CKtest')"
   ]
  },
  {
   "cell_type": "markdown",
   "metadata": {
    "tags": []
   },
   "source": [
    "## Hidden MSM"
   ]
  },
  {
   "cell_type": "code",
   "execution_count": null,
   "metadata": {
    "tags": []
   },
   "outputs": [],
   "source": [
    "for tica_lag, input_models in top_models.items():\n",
    "    kinetics.analysis(inputs=input_models, disc_lag=tica_lag, method='HMSM', hmsm_lag=[1,2,3])"
   ]
  },
  {
   "cell_type": "markdown",
   "metadata": {
    "tags": []
   },
   "source": [
    "## PCCA"
   ]
  },
  {
   "cell_type": "code",
   "execution_count": null,
   "metadata": {
    "jupyter": {
     "source_hidden": true
    },
    "tags": []
   },
   "outputs": [],
   "source": [
    "for tica_lag, input_models in top_models.items():\n",
    "    kinetics.analysis(inputs=input_models, disc_lag=tica_lag, method='PCCA')            "
   ]
  },
  {
   "cell_type": "markdown",
   "metadata": {
    "tags": []
   },
   "source": [
    "## Implied Timescales"
   ]
  },
  {
   "cell_type": "code",
   "execution_count": null,
   "metadata": {
    "jupyter": {
     "source_hidden": true
    },
    "tags": []
   },
   "outputs": [],
   "source": [
    "region_states = {'loop_IN' : 30, #red\n",
    "                   'post_SET_domain' : 30, #blue\n",
    "                   'SETcd' : 30, #green\n",
    "                   'control'  : 30, #yellow\n",
    "                'combined': 30} #cyan\n",
    "\n",
    "kinetics.calculate(inputs=region_states, \n",
    "                                         method='ITS', \n",
    "                                         features=features_to_extract, \n",
    "                                         TICA_lag=10, \n",
    "                                         def_traj=['production_NPT-1.dcd'])"
   ]
  },
  {
   "cell_type": "markdown",
   "metadata": {
    "tags": []
   },
   "source": [
    "## Spectral Analysis"
   ]
  },
  {
   "cell_type": "code",
   "execution_count": null,
   "metadata": {
    "jupyter": {
     "source_hidden": true
    },
    "tags": []
   },
   "outputs": [],
   "source": [
    "tica_lags=[10, 20, 50, 100, 200, 500, 1000, 2000]\n",
    "for lag in tica_lags:\n",
    "    kinetics.analysis(inputs=test_models, \n",
    "                    method='Spectral', \n",
    "                    disc_lag=lag, \n",
    "                    eval_vamps=True)"
   ]
  },
  {
   "cell_type": "markdown",
   "metadata": {
    "tags": []
   },
   "source": [
    "## MFPT"
   ]
  },
  {
   "cell_type": "code",
   "execution_count": null,
   "metadata": {
    "tags": []
   },
   "outputs": [],
   "source": [
    "for tica_lag, input_models in top_models.items():\n",
    "    t=kinetics.analysis(inputs=input_models, disc_lag=tica_lag, method='MFPT', hmsm_lag=[1])"
   ]
  },
  {
   "cell_type": "markdown",
   "metadata": {
    "tags": []
   },
   "source": [
    "## Visualization"
   ]
  },
  {
   "cell_type": "code",
   "execution_count": null,
   "metadata": {
    "tags": []
   },
   "outputs": [],
   "source": [
    "view = []\n",
    "for tica_lag, input_models in top_models.items():\n",
    "    view.append(kinetics.analysis(inputs=input_models, disc_lag=tica_lag, hmsm_lag=[1], method='Visual'))"
   ]
  },
  {
   "cell_type": "code",
   "execution_count": null,
   "metadata": {
    "tags": []
   },
   "outputs": [],
   "source": [
    "view"
   ]
  },
  {
   "cell_type": "code",
   "execution_count": null,
   "metadata": {
    "tags": []
   },
   "outputs": [],
   "source": [
    "view[0]['full_Ca_positions@40000ps_s1_20@2000ps_HMSM-3']"
   ]
  },
  {
   "cell_type": "code",
   "execution_count": null,
   "metadata": {
    "tags": []
   },
   "outputs": [],
   "source": [
    "view[1]['combined_torsions@400ps_s1_30@2000ps_HMSM-3']"
   ]
  },
  {
   "cell_type": "code",
   "execution_count": null,
   "metadata": {
    "tags": []
   },
   "outputs": [],
   "source": [
    "view[2]['SETcd_positions@200ps_s1_20@2000ps_HMSM-3']"
   ]
  },
  {
   "cell_type": "markdown",
   "metadata": {
    "tags": []
   },
   "source": [
    "## RMSD"
   ]
  },
  {
   "cell_type": "code",
   "execution_count": null,
   "metadata": {
    "tags": []
   },
   "outputs": [],
   "source": [
    "pdb = ['SETD2_complexed_noSub_full']\n",
    "pdb_discard = ['5lsu', '5lsx', '5lt6',  '5lt8', 'SETD2_open', \n",
    "       '4fmu', '4h12', '5jjy', '5jlb', '5jle', \n",
    "       '5lss', '5lsy', '5lsz', \n",
    "       '5lt7', '5v21', '5v22', \n",
    "       '6j9j', '6vdb', '7lzb', '7lzd', '7lzf']\n",
    "\n",
    "for tica_lag, input_models in top_models.items():\n",
    "    kinetics.analysis(inputs=input_models, disc_lag=tica_lag, hmsm_lag=[1],  method='RMSD', compare_pdbs=pdb)"
   ]
  },
  {
   "cell_type": "markdown",
   "metadata": {
    "tags": []
   },
   "source": [
    "## TPT"
   ]
  },
  {
   "cell_type": "code",
   "execution_count": null,
   "metadata": {
    "tags": []
   },
   "outputs": [],
   "source": [
    "for tica_lag, input_models in top_models.items():\n",
    "    kinetics.analysis(inputs=input_models, disc_lag=tica_lag, method='flux')"
   ]
  },
  {
   "cell_type": "code",
   "execution_count": null,
   "metadata": {
    "tags": []
   },
   "outputs": [],
   "source": [
    "import Featurize as F\n",
    "importlib.reload(F)\n",
    "\n",
    "featurize=F.Featurize(project_systems, results=results, timestep=timestep, warnings=True, heavy_and_fast=False)\n",
    "\n",
    "featurize.calculate('backbone', \n",
    "                    method='RMSD',  \n",
    "                    n_cores=4,\n",
    "                    feature_name='backbone',\n",
    "                    def_traj=['production_NPT-1_superposed.dcd'])"
   ]
  },
  {
   "cell_type": "code",
   "execution_count": null,
   "metadata": {},
   "outputs": [],
   "source": [
    "featurize.calculate('protein and name CA', \n",
    "                                       method='RMSF',\n",
    "                                       n_cores=6,\n",
    "                                       feature_name='C-alpha',\n",
    "                                       def_traj=['production_NPT-1_superposed.dcd'])"
   ]
  },
  {
   "cell_type": "code",
   "execution_count": null,
   "metadata": {},
   "outputs": [],
   "source": [
    "for k, v in featurize.features.items():\n",
    "    print(k)\n",
    "    featurize.plot(input_df=v, level=2, feature_name=k, subplots_=False)"
   ]
  },
  {
   "cell_type": "code",
   "execution_count": null,
   "metadata": {},
   "outputs": [],
   "source": [
    "import mdtraj as md"
   ]
  },
  {
   "cell_type": "code",
   "execution_count": null,
   "metadata": {},
   "outputs": [],
   "source": [
    "s=md.load_frame(f'{inputs}/SETD2_complexed_noSub_full.pdb', index=0)"
   ]
  },
  {
   "cell_type": "code",
   "execution_count": null,
   "metadata": {},
   "outputs": [],
   "source": [
    "s"
   ]
  },
  {
   "cell_type": "code",
   "execution_count": null,
   "metadata": {},
   "outputs": [],
   "source": [
    "s.topology.select('residue 1690')"
   ]
  },
  {
   "cell_type": "code",
   "execution_count": null,
   "metadata": {},
   "outputs": [],
   "source": [
    "s.topology.residue(3)"
   ]
  },
  {
   "cell_type": "markdown",
   "metadata": {},
   "source": [
    "# "
   ]
  }
 ],
 "metadata": {
  "kernelspec": {
   "display_name": "Python 3",
   "language": "python",
   "name": "python3"
  },
  "language_info": {
   "codemirror_mode": {
    "name": "ipython",
    "version": 3
   },
   "file_extension": ".py",
   "mimetype": "text/x-python",
   "name": "python",
   "nbconvert_exporter": "python",
   "pygments_lexer": "ipython3",
   "version": "3.7.7"
  }
 },
 "nbformat": 4,
 "nbformat_minor": 4
}
