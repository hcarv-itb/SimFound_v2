{
 "cells": [
  {
   "cell_type": "markdown",
   "metadata": {},
   "source": [
    "## **H3K36 Analysis**"
   ]
  },
  {
   "cell_type": "markdown",
   "metadata": {},
   "source": [
    "## **Import modules**"
   ]
  },
  {
   "cell_type": "code",
   "execution_count": 13,
   "metadata": {},
   "outputs": [],
   "source": [
    "import os\n",
    "import sys\n",
    "\n",
    "data_path=os.path.abspath('/media/dataHog/hca/SETD2') #Where your group data is\n",
    "base_path=os.path.abspath('/media/dataHog/hca/SimFound_v2/source/') #Where your source code is (SFv2)\n",
    "\n",
    "sys.path.append(base_path)\n",
    "sys.path.append(data_path)\n",
    "\n",
    "import importlib\n",
    "\n",
    "import warnings\n",
    "warnings.filterwarnings('ignore')\n",
    "import Protocols as P\n",
    "\n",
    "import main\n",
    "import tools\n",
    "import Featurize as F\n",
    "import Trajectory as T\n",
    "\n",
    "\n",
    "from simtk.unit import *"
   ]
  },
  {
   "cell_type": "markdown",
   "metadata": {},
   "source": [
    "## **Define Project**"
   ]
  },
  {
   "cell_type": "code",
   "execution_count": 9,
   "metadata": {},
   "outputs": [
    {
     "name": "stdout",
     "output_type": "stream",
     "text": [
      "Converted parameter \"temperature\" (in K) into scalar: 310.0 K\n",
      "System h3K36-310K-1 with parameter 310.0 K defined\n",
      "System h3K36-310K-2 with parameter 310.0 K defined\n",
      "System h3K36-310K-3 with parameter 310.0 K defined\n",
      "System h3K36-310K-4 with parameter 310.0 K defined\n",
      "System h3K36-310K-5 with parameter 310.0 K defined\n"
     ]
    }
   ],
   "source": [
    "importlib.reload(main)\n",
    "importlib.reload(T)\n",
    "\n",
    "workdir=data_path\n",
    "results=workdir+'/results'\n",
    "inputs=workdir+'inputs/structures/'\n",
    "\n",
    "\n",
    "\n",
    "#protein=['WT', 'R167Q', 'I602G']\n",
    "protein=['h3K36']\n",
    "\n",
    "parameters=['310K']\n",
    "timestep=20*picoseconds\n",
    "\n",
    "project=main.Project(title='h3K36', \n",
    "                     hierarchy=('protein', 'parameter'), \n",
    "                     workdir=workdir,\n",
    "                     parameter=parameters, \n",
    "                     replicas=5, \n",
    "                     protein=protein,  \n",
    "                     topology='h3K36_X.pdb',\n",
    "                     timestep=timestep,\n",
    "                    initial_replica=1)\n",
    "\n",
    "\n",
    "project_systems=project.setSystems()"
   ]
  },
  {
   "cell_type": "markdown",
   "metadata": {},
   "source": [
    "## **Simulation Protocol**"
   ]
  },
  {
   "cell_type": "markdown",
   "metadata": {},
   "source": [
    "## Set defaults"
   ]
  },
  {
   "cell_type": "code",
   "execution_count": 10,
   "metadata": {},
   "outputs": [],
   "source": [
    "NPT_equilibration={'ensemble': 'NPT',\n",
    "                'step': 5*nanoseconds, \n",
    "                'report': timestep, \n",
    "                'restrained_sets': {'selections': ['protein and backbone'],\n",
    "                                    'forces': [100*kilojoules_per_mole/angstroms]}}\n",
    "\n",
    "NPT_production={'ensemble': 'NPT',\n",
    "                'step': 50*nanoseconds, \n",
    "                'report': timestep}\n",
    "NPT_production2={'ensemble': 'NPT',\n",
    "                'step': 50*nanoseconds, \n",
    "                'report': timestep}"
   ]
  },
  {
   "cell_type": "markdown",
   "metadata": {},
   "source": [
    "## Setup simulation protocol"
   ]
  },
  {
   "cell_type": "code",
   "execution_count": 11,
   "metadata": {
    "tags": []
   },
   "outputs": [
    {
     "name": "stdout",
     "output_type": "stream",
     "text": [
      "Setting openMM simulation of h3K36-310K-1 protocols in /media/dataHog/hca/SETD2/h3K36-310K/replicate1\n",
      "Setting openMM simulation of h3K36-310K-2 protocols in /media/dataHog/hca/SETD2/h3K36-310K/replicate2\n",
      "Setting openMM simulation of h3K36-310K-3 protocols in /media/dataHog/hca/SETD2/h3K36-310K/replicate3\n",
      "Setting openMM simulation of h3K36-310K-4 protocols in /media/dataHog/hca/SETD2/h3K36-310K/replicate4\n",
      "Setting openMM simulation of h3K36-310K-5 protocols in /media/dataHog/hca/SETD2/h3K36-310K/replicate5\n",
      "\tWarning! Found conserved openMM system(s). /media/dataHog/hca/SETD2/h3K36-310K/replicate1/omm_1.pkl\n",
      "\tStatus open: 1\n",
      "\tLoading conserved openMM system:  /media/dataHog/hca/SETD2/h3K36-310K/replicate1/omm_1.pkl\n",
      "\tWarning! Found conserved openMM system(s). /media/dataHog/hca/SETD2/h3K36-310K/replicate2/omm_1.pkl\n",
      "\tStatus open: 1\n",
      "\tLoading conserved openMM system:  /media/dataHog/hca/SETD2/h3K36-310K/replicate2/omm_1.pkl\n",
      "\tWarning! Found conserved openMM system(s). /media/dataHog/hca/SETD2/h3K36-310K/replicate3/omm_1.pkl\n",
      "\tStatus open: 1\n",
      "\tLoading conserved openMM system:  /media/dataHog/hca/SETD2/h3K36-310K/replicate3/omm_1.pkl\n",
      "\tWarning! Found conserved openMM system(s). /media/dataHog/hca/SETD2/h3K36-310K/replicate4/omm_1.pkl\n",
      "\tStatus open: 1\n",
      "\tLoading conserved openMM system:  /media/dataHog/hca/SETD2/h3K36-310K/replicate4/omm_1.pkl\n",
      "\tWarning! Found conserved openMM system(s). /media/dataHog/hca/SETD2/h3K36-310K/replicate5/omm_1.pkl\n",
      "\tStatus open: 1\n",
      "\tLoading conserved openMM system:  /media/dataHog/hca/SETD2/h3K36-310K/replicate5/omm_1.pkl\n",
      "{'h3K36-310K-1': <main.System object at 0x7fc728384710>, 'h3K36-310K-2': <main.System object at 0x7fc728384d10>, 'h3K36-310K-3': <main.System object at 0x7fc728384a10>, 'h3K36-310K-4': <main.System object at 0x7fc7283847d0>, 'h3K36-310K-5': <main.System object at 0x7fc728384c90>}\n",
      "setting up:  h3K36-310K-1\n",
      "setting up:  h3K36-310K-2\n",
      "setting up:  h3K36-310K-3\n",
      "setting up:  h3K36-310K-4\n",
      "setting up:  h3K36-310K-5\n"
     ]
    }
   ],
   "source": [
    "importlib.reload(P)\n",
    "importlib.reload(tools)\n",
    "#extra_pdb = ['ZNB_open.pdb', 'SAM.pdb']\n",
    "#smiles = 'C[S+](CC[C@@H](C(=O)[O-])N)C[C@@H]1[C@H]([C@H]([C@@H](O1)N2C=NC3=C(N=CN=C32)N)O)O'\n",
    "xml_files = ['protein.ff14SB.xml', 'tip4pew.xml']\n",
    "\n",
    "\n",
    "simulation=P.Protocols(project, overwrite_mode=False)\n",
    "    \n",
    "simulation.pdb2omm(input_pdb=project.input_topology,\n",
    "                                     ff_files=xml_files,\n",
    "                                     protonate=True,\n",
    "                                     solvate=True,\n",
    "                                     pH_protein=7.0,\n",
    "                                     box_size=6)\n",
    "\n",
    "simulation.setSimulations(dt=0.002*picoseconds, \n",
    "                                  temperature = 310,\n",
    "                                  pH=7.0,\n",
    "                                  friction = 1/picosecond,\n",
    "                                  equilibrations=[NPT_equilibration],\n",
    "                                  productions=[NPT_production, NPT_production2],\n",
    "                                  pressure=1*atmospheres)\n"
   ]
  },
  {
   "cell_type": "markdown",
   "metadata": {},
   "source": [
    "## **WARNING!** Run simulation(s)"
   ]
  },
  {
   "cell_type": "code",
   "execution_count": null,
   "metadata": {},
   "outputs": [
    {
     "name": "stdout",
     "output_type": "stream",
     "text": [
      "System:  h3K36-310K-1\n",
      "\tAvaliable platform 1: CPU\n",
      "\tAvaliable platform 2: CUDA\n",
      "\tAvaliable platform 3: OpenCL\n",
      "\n",
      "Energy minimization\n",
      "minimization_Emin-1\n",
      "\tA complete checkpoint was found.\n",
      "\tSystem is complete.\n",
      "\tSystem final potential energy: -393238.4447639552 kJ/mol (complete)\n",
      "\n",
      "EQ run 1: NPT\n",
      "equilibration_NPT-1\n",
      "\tA complete checkpoint was found.\n",
      "\tSystem is complete.\n",
      "\tSystem final potential energy: -318389.0696459566 kJ/mol (complete)\n",
      "\n",
      "Production run 1: NPT\n",
      "production_NPT-1\n",
      "\tA complete checkpoint was found.\n",
      "\tSystem is complete.\n",
      "\tSystem final potential energy: -319350.05533157615 kJ/mol (complete)\n",
      "\n",
      "Production run 2: NPT\n",
      "production_NPT-2\n",
      "\tNo checkpoint found.\n",
      "\tSimulation time: 50000.0 ps out of 50000.0 ps = 25000000/25000000 steps\n",
      "\tSetting new system: h3K36-310K-1\n",
      "\tPDB file generated: /media/dataHog/hca/SETD2/h3K36-310K/replicate1/production_NPT-2_init.pdb\n",
      "\tSystem initial potential energy: -319349.9677112589 kJ/mol\n",
      "\tPopulating file(s) /media/dataHog/hca/SETD2/h3K36-310K/replicate1/production_NPT-2.*\n",
      "\tAdding MC barostat for NPT ensemble\n",
      "\tWarning! Continuation run. Assigning velocities from stored state.\n",
      "\tSimulating...\n",
      "\tSimulation completed or extended: 25000000/25000000 (+0) steps.\n",
      "\tPDB file generated: /media/dataHog/hca/SETD2/h3K36-310K/replicate1/production_NPT-2.pdb\n",
      "\tForce of kind MonteCarloBarostat (5) will be removed.\n",
      "\tSystem final potential energy: -318658.562253332 kJ/mol (complete)\n",
      "System:  h3K36-310K-2\n",
      "\tAvaliable platform 1: CPU\n",
      "\tAvaliable platform 2: CUDA\n",
      "\tAvaliable platform 3: OpenCL\n",
      "\n",
      "Energy minimization\n",
      "minimization_Emin-1\n",
      "\tA complete checkpoint was found.\n",
      "\tSystem is complete.\n",
      "\tSystem final potential energy: -393195.354125438 kJ/mol (complete)\n",
      "\n",
      "EQ run 1: NPT\n",
      "equilibration_NPT-1\n",
      "\tA complete checkpoint was found.\n",
      "\tSystem is complete.\n",
      "\tSystem final potential energy: -319082.1558062588 kJ/mol (complete)\n",
      "\n",
      "Production run 1: NPT\n",
      "production_NPT-1\n",
      "\tA complete checkpoint was found.\n",
      "\tSystem is complete.\n",
      "\tSystem final potential energy: -319164.7303260134 kJ/mol (complete)\n",
      "\n",
      "Production run 2: NPT\n",
      "production_NPT-2\n",
      "\tNo checkpoint found.\n",
      "\tSimulation time: 50000.0 ps out of 50000.0 ps = 25000000/25000000 steps\n",
      "\tSetting new system: h3K36-310K-2\n",
      "\tPDB file generated: /media/dataHog/hca/SETD2/h3K36-310K/replicate2/production_NPT-2_init.pdb\n",
      "\tSystem initial potential energy: -319164.80595647404 kJ/mol\n",
      "\tPopulating file(s) /media/dataHog/hca/SETD2/h3K36-310K/replicate2/production_NPT-2.*\n",
      "\tAdding MC barostat for NPT ensemble\n",
      "\tWarning! Continuation run. Assigning velocities from stored state.\n",
      "\tSimulating...\n",
      "\tSimulation completed or extended: 25000000/25000000 (+0) steps.\n",
      "\tPDB file generated: /media/dataHog/hca/SETD2/h3K36-310K/replicate2/production_NPT-2.pdb\n",
      "\tForce of kind MonteCarloBarostat (5) will be removed.\n",
      "\tSystem final potential energy: -319295.9745442816 kJ/mol (complete)\n",
      "System:  h3K36-310K-3\n",
      "\tAvaliable platform 1: CPU\n",
      "\tAvaliable platform 2: CUDA\n",
      "\tAvaliable platform 3: OpenCL\n",
      "\n",
      "Energy minimization\n",
      "minimization_Emin-1\n",
      "\tA complete checkpoint was found.\n",
      "\tSystem is complete.\n",
      "\tSystem final potential energy: -393790.0121001308 kJ/mol (complete)\n",
      "\n",
      "EQ run 1: NPT\n",
      "equilibration_NPT-1\n",
      "\tA complete checkpoint was found.\n",
      "\tSystem is complete.\n",
      "\tSystem final potential energy: -319206.77294809604 kJ/mol (complete)\n",
      "\n",
      "Production run 1: NPT\n",
      "production_NPT-1\n",
      "\tA complete checkpoint was found.\n",
      "\tSystem is complete.\n",
      "\tSystem final potential energy: -319933.247018164 kJ/mol (complete)\n",
      "\n",
      "Production run 2: NPT\n",
      "production_NPT-2\n",
      "\tNo checkpoint found.\n",
      "\tSimulation time: 50000.0 ps out of 50000.0 ps = 25000000/25000000 steps\n",
      "\tSetting new system: h3K36-310K-3\n",
      "\tPDB file generated: /media/dataHog/hca/SETD2/h3K36-310K/replicate3/production_NPT-2_init.pdb\n",
      "\tSystem initial potential energy: -319933.1572266056 kJ/mol\n",
      "\tPopulating file(s) /media/dataHog/hca/SETD2/h3K36-310K/replicate3/production_NPT-2.*\n",
      "\tAdding MC barostat for NPT ensemble\n",
      "\tWarning! Continuation run. Assigning velocities from stored state.\n",
      "\tSimulating...\n"
     ]
    }
   ],
   "source": [
    "\n",
    "gpu_index='0'\n",
    "simulation.runSimulations(run_productions=True,  \n",
    "                              compute_time=4,\n",
    "                              reportFactor=0.025,\n",
    "                             gpu_index=gpu_index,\n",
    "                         minimum_effort=True)   \n"
   ]
  },
  {
   "cell_type": "code",
   "execution_count": null,
   "metadata": {},
   "outputs": [],
   "source": [
    "simulations"
   ]
  },
  {
   "cell_type": "code",
   "execution_count": null,
   "metadata": {},
   "outputs": [],
   "source": []
  }
 ],
 "metadata": {
  "kernelspec": {
   "display_name": "Python 3",
   "language": "python",
   "name": "python3"
  },
  "language_info": {
   "codemirror_mode": {
    "name": "ipython",
    "version": 3
   },
   "file_extension": ".py",
   "mimetype": "text/x-python",
   "name": "python",
   "nbconvert_exporter": "python",
   "pygments_lexer": "ipython3",
   "version": "3.7.7"
  }
 },
 "nbformat": 4,
 "nbformat_minor": 4
}
