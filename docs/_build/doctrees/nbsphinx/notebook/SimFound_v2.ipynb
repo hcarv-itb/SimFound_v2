{
 "cells": [
  {
   "cell_type": "markdown",
   "metadata": {},
   "source": [
    "# Simulation Foundry, v2\n",
    "\n",
    "Author: Henrique F. Carvalho (2021)"
   ]
  },
  {
   "cell_type": "markdown",
   "metadata": {},
   "source": [
    "## *Import module*"
   ]
  },
  {
   "cell_type": "code",
   "execution_count": 1,
   "metadata": {},
   "outputs": [
    {
     "data": {
      "text/plain": [
       "<module 'main' from '/media/dataHog/hca/proLig/main.py'>"
      ]
     },
     "execution_count": 1,
     "metadata": {},
     "output_type": "execute_result"
    }
   ],
   "source": [
    "#Import modules\n",
    "import pyemma\n",
    "import os\n",
    "import glob\n",
    "import pandas as pd\n",
    "import numpy as np\n",
    "import sys\n",
    "import importlib\n",
    "import matplotlib.pyplot as plt\n",
    "#Path were classes are stored\n",
    "base_path='/media/dataHog/hca/'\n",
    "sys.path.append(base_path)\n",
    "sys.path.append(base_path+'proLig/')\n",
    "\n",
    "import main\n",
    "#import Trajectory\n",
    "#import Discretize\n",
    "import Featurize\n",
    "import plots\n",
    "import tools\n",
    "\n",
    "import warnings\n",
    "warnings.filterwarnings('ignore')\n",
    "\n",
    "importlib.reload(main)\n"
   ]
  },
  {
   "cell_type": "markdown",
   "metadata": {},
   "source": [
    "## **Project and system definition**\n",
    "\n",
    "A system is defined using the *Project* class. Defining the project instance spawns all the simulation objects (instances of class systems) and defines the file structure, nomenclature that will later be used for system setup, simulation, and analysis.\n",
    "\n",
    "System components (protein, substrate) are set, and one parameter of substrate, concentration, is defined.\n",
    "\n",
    "Other parameters can be coded."
   ]
  },
  {
   "cell_type": "code",
   "execution_count": 2,
   "metadata": {},
   "outputs": [
    {
     "name": "stdout",
     "output_type": "stream",
     "text": [
      "workdir: /media/dataHog/hca/proLig_CalB-Methanol\n",
      "title: CalB-Methanolysis\n",
      "hierarchy: ('protein', 'ligand', 'parameter')\n",
      "parameter: ['50mM', '150mM', '300mM', '600mM', '1M', '2.5M', '5.5M']\n",
      "replicas: 10\n",
      "protein: ['calb']\n",
      "ligand: ['MeOH']\n",
      "timestep: 5\n",
      "results: /media/dataHog/hca/proLig_CalB-Methanol/project_results\n",
      "systems: {'calb-MeOH-50mM-1': <main.System object at 0x7f83007d1210>, 'calb-MeOH-50mM-2': <main.System object at 0x7f83007d1250>, 'calb-MeOH-50mM-3': <main.System object at 0x7f83007d1290>, 'calb-MeOH-50mM-4': <main.System object at 0x7f83007d12d0>, 'calb-MeOH-50mM-5': <main.System object at 0x7f83007d1310>, 'calb-MeOH-50mM-6': <main.System object at 0x7f83007d1390>, 'calb-MeOH-50mM-7': <main.System object at 0x7f83007d13d0>, 'calb-MeOH-50mM-8': <main.System object at 0x7f83007d1410>, 'calb-MeOH-50mM-9': <main.System object at 0x7f83007d1450>, 'calb-MeOH-50mM-10': <main.System object at 0x7f83007d1350>, 'calb-MeOH-150mM-1': <main.System object at 0x7f83007d1490>, 'calb-MeOH-150mM-2': <main.System object at 0x7f83007d14d0>, 'calb-MeOH-150mM-3': <main.System object at 0x7f83007d1510>, 'calb-MeOH-150mM-4': <main.System object at 0x7f83007d1550>, 'calb-MeOH-150mM-5': <main.System object at 0x7f83007d1590>, 'calb-MeOH-150mM-6': <main.System object at 0x7f83007d15d0>, 'calb-MeOH-150mM-7': <main.System object at 0x7f83007d1610>, 'calb-MeOH-150mM-8': <main.System object at 0x7f83007d1650>, 'calb-MeOH-150mM-9': <main.System object at 0x7f83007d1690>, 'calb-MeOH-150mM-10': <main.System object at 0x7f83007d16d0>, 'calb-MeOH-300mM-1': <main.System object at 0x7f83007d1710>, 'calb-MeOH-300mM-2': <main.System object at 0x7f83007d1750>, 'calb-MeOH-300mM-3': <main.System object at 0x7f83007d1790>, 'calb-MeOH-300mM-4': <main.System object at 0x7f83007d17d0>, 'calb-MeOH-300mM-5': <main.System object at 0x7f83007d1810>, 'calb-MeOH-300mM-6': <main.System object at 0x7f83007d1850>, 'calb-MeOH-300mM-7': <main.System object at 0x7f83007d1890>, 'calb-MeOH-300mM-8': <main.System object at 0x7f83007d18d0>, 'calb-MeOH-300mM-9': <main.System object at 0x7f83007d1910>, 'calb-MeOH-300mM-10': <main.System object at 0x7f83007d1950>, 'calb-MeOH-600mM-1': <main.System object at 0x7f83007d1990>, 'calb-MeOH-600mM-2': <main.System object at 0x7f83007d19d0>, 'calb-MeOH-600mM-3': <main.System object at 0x7f83007d1a10>, 'calb-MeOH-600mM-4': <main.System object at 0x7f83007d1a50>, 'calb-MeOH-600mM-5': <main.System object at 0x7f83007d1a90>, 'calb-MeOH-600mM-6': <main.System object at 0x7f83007d1ad0>, 'calb-MeOH-600mM-7': <main.System object at 0x7f83007d1b10>, 'calb-MeOH-600mM-8': <main.System object at 0x7f83007d1b50>, 'calb-MeOH-600mM-9': <main.System object at 0x7f83007d1b90>, 'calb-MeOH-600mM-10': <main.System object at 0x7f83007d1bd0>, 'calb-MeOH-1M-1': <main.System object at 0x7f83007d1c10>, 'calb-MeOH-1M-2': <main.System object at 0x7f83007d1c90>, 'calb-MeOH-1M-3': <main.System object at 0x7f83007d1d10>, 'calb-MeOH-1M-4': <main.System object at 0x7f83007d1d90>, 'calb-MeOH-1M-5': <main.System object at 0x7f83007d1e10>, 'calb-MeOH-1M-6': <main.System object at 0x7f83007d1e90>, 'calb-MeOH-1M-7': <main.System object at 0x7f83007d1f10>, 'calb-MeOH-1M-8': <main.System object at 0x7f83007d1f90>, 'calb-MeOH-1M-9': <main.System object at 0x7f83007d9050>, 'calb-MeOH-1M-10': <main.System object at 0x7f83007d90d0>, 'calb-MeOH-2.5M-1': <main.System object at 0x7f83007d9150>, 'calb-MeOH-2.5M-2': <main.System object at 0x7f83007d9190>, 'calb-MeOH-2.5M-3': <main.System object at 0x7f83007d91d0>, 'calb-MeOH-2.5M-4': <main.System object at 0x7f83007d9210>, 'calb-MeOH-2.5M-5': <main.System object at 0x7f83007d9250>, 'calb-MeOH-2.5M-6': <main.System object at 0x7f83007d9290>, 'calb-MeOH-2.5M-7': <main.System object at 0x7f83007d92d0>, 'calb-MeOH-2.5M-8': <main.System object at 0x7f83007d9310>, 'calb-MeOH-2.5M-9': <main.System object at 0x7f83007d9350>, 'calb-MeOH-2.5M-10': <main.System object at 0x7f83007d9390>, 'calb-MeOH-5.5M-1': <main.System object at 0x7f83007d93d0>, 'calb-MeOH-5.5M-2': <main.System object at 0x7f83007d9410>, 'calb-MeOH-5.5M-3': <main.System object at 0x7f83007d9450>, 'calb-MeOH-5.5M-4': <main.System object at 0x7f83007d9490>, 'calb-MeOH-5.5M-5': <main.System object at 0x7f83007d94d0>, 'calb-MeOH-5.5M-6': <main.System object at 0x7f83007d9510>, 'calb-MeOH-5.5M-7': <main.System object at 0x7f83007d9550>, 'calb-MeOH-5.5M-8': <main.System object at 0x7f83007d9590>, 'calb-MeOH-5.5M-9': <main.System object at 0x7f83007d95d0>, 'calb-MeOH-5.5M-10': <main.System object at 0x7f83007d9610>}\n"
     ]
    }
   ],
   "source": [
    "workdir=base_path+'proLig_CalB-Methanol'\n",
    "results=workdir+\"/project_results\"\n",
    "\n",
    "#Check for project folders and creates them if not found)\n",
    "tools.Functions.fileHandler([workdir, results], confirmation=False)\n",
    "\n",
    "protein=['calb']\n",
    "ligand=['MeOH']\n",
    "concentrations=['50mM', '150mM', '300mM', '600mM', '1M', '2.5M', '5.5M']\n",
    "#concentrations=['50mM']\n",
    "\n",
    "project=main.Project(title='CalB-Methanolysis', hierarchy=('protein', 'ligand', 'parameter'), workdir=workdir, \n",
    "                     parameter=concentrations, replicas=10, timestep=5,\n",
    "                     protein=protein, ligand=ligand, results=results)\n",
    "\n",
    "\n",
    "project_systems=project.setSystems()\n",
    "\n",
    "for property, value in project.__dict__.items():\n",
    "    print(f'{property}: {value}')"
   ]
  },
  {
   "cell_type": "markdown",
   "metadata": {},
   "source": [
    "## **Featurization**\n",
    "\n",
    "\n",
    "To model the kinetics of methanol interactions with CalB, the trajectories are *featurized*. \\\n",
    "The class *Featurize* has available two methods: **distance** and **nac**.\n",
    "\n",
    "Both methods accept an arbitrary number of distances and outputs a dataframe (also stores data) that can be used for discretization.\n",
    "\n",
    "The distance to *Near Attack Conformation* method monitors all pairwise protein-methanol distances ($d_{NAC}$) throughout simulated time. It is based on the *Near Attack Conformation* concept, applied to describe catalytic reactions.\n",
    "\n",
    "The selected protein-substrate atom pairs are: \n",
    "1. Acetyl carbon of Ser105 (SEA, index 1526) and hydroxyl oxygen of methanol (OA).\n",
    "2. Imidazole nitrogen from His224 (NE2, resid 224) and hydroxyl hydrogen of methano (HO)."
   ]
  },
  {
   "cell_type": "code",
   "execution_count": null,
   "metadata": {
    "scrolled": true
   },
   "outputs": [
    {
     "name": "stdout",
     "output_type": "stream",
     "text": [
      "Working on 14 logical cores.\n",
      "Calculating calb-MeOH-150mM-7Calculating calb-MeOH-50mM-1Calculating calb-MeOH-50mM-7Calculating calb-MeOH-50mM-9Calculating calb-MeOH-150mM-5Calculating calb-MeOH-50mM-3Calculating calb-MeOH-150mM-3Calculating calb-MeOH-50mM-5Calculating calb-MeOH-150mM-1Calculating calb-MeOH-300mM-7\n",
      "\n",
      "\n",
      "\n",
      "\n",
      "\n",
      "\n",
      "\n",
      "\n",
      "Distance 1 not found for calb-MeOH-50mM-1. Reading trajectory...\n",
      "Distance 1 not found for calb-MeOH-50mM-7. Reading trajectory...Distance 1 not found for calb-MeOH-150mM-7. Reading trajectory...Distance 1 not found for calb-MeOH-50mM-9. Reading trajectory...\n",
      "Distance 1 not found for calb-MeOH-150mM-1. Reading trajectory...Distance 1 not found for calb-MeOH-50mM-3. Reading trajectory...Distance 1 not found for calb-MeOH-150mM-3. Reading trajectory...Distance 1 not found for calb-MeOH-150mM-5. Reading trajectory...\n",
      "Distance 1 not found for calb-MeOH-50mM-5. Reading trajectory...\n",
      "\n",
      "\n",
      "\n",
      "\n",
      "\n",
      "\n",
      "Calculating calb-MeOH-150mM-9Calculating calb-MeOH-300mM-1\n",
      "\n",
      "Distance 2 not found for calb-MeOH-300mM-7. Reading trajectory...Calculating calb-MeOH-300mM-3\n",
      "\n",
      "Calculating calb-MeOH-300mM-5\n",
      "Distance 2 not found for calb-MeOH-300mM-5. Reading trajectory...\n",
      "Calculating calb-MeOH-600mM-1\n",
      "Distance 1 not found for calb-MeOH-600mM-1. Reading trajectory...\n",
      "Calculating calb-MeOH-300mM-9\n",
      "Distance 1 not found for calb-MeOH-300mM-9. Reading trajectory...\n",
      "Calculating calb-MeOH-600mM-3\n",
      "Distance 1 not found for calb-MeOH-600mM-3. Reading trajectory...\n",
      "Calculating calb-MeOH-150mM-7\n",
      "Calculating calb-MeOH-600mM-3\n",
      "Calculating calb-MeOH-300mM-5\n",
      "Calculating calb-MeOH-300mM-9\n",
      "Calculating calb-MeOH-300mM-7\n",
      "Calculating calb-MeOH-600mM-1\n",
      "Calculating calb-MeOH-150mM-5\n",
      "Calculating calb-MeOH-150mM-1Calculating calb-MeOH-150mM-3\n",
      "\n",
      "Calculating calb-MeOH-50mM-7\n",
      "Calculating calb-MeOH-50mM-9\n",
      "Calculating calb-MeOH-50mM-1\n",
      "Calculating calb-MeOH-50mM-5\n",
      "Calculating calb-MeOH-50mM-3\n",
      "Distance 2 not found for calb-MeOH-300mM-9. Reading trajectory...\n",
      "Calculating calb-MeOH-600mM-5\n",
      "Calculating calb-MeOH-600mM-7\n",
      "Distance 1 not found for calb-MeOH-600mM-5. Reading trajectory...\n",
      "Distance 1 not found for calb-MeOH-600mM-7. Reading trajectory...\n",
      "Calculating calb-MeOH-300mM-9\n",
      "Calculating calb-MeOH-600mM-7\n",
      "Calculating calb-MeOH-600mM-5\n",
      "Distance 2 not found for calb-MeOH-600mM-3. Reading trajectory...\n",
      "Distance 2 not found for calb-MeOH-600mM-1. Reading trajectory...\n",
      "Calculating calb-MeOH-600mM-3\n",
      "Calculating calb-MeOH-600mM-1\n",
      "Distance 2 not found for calb-MeOH-150mM-5. Reading trajectory...\n",
      "Distance 2 not found for calb-MeOH-150mM-1. Reading trajectory...\n",
      "Distance 2 not found for calb-MeOH-150mM-3. Reading trajectory...\n",
      "Distance 2 not found for calb-MeOH-150mM-7. Reading trajectory...\n",
      "Calculating calb-MeOH-600mM-9\n",
      "Calculating calb-MeOH-150mM-1\n",
      "Calculating calb-MeOH-150mM-5\n",
      "Calculating calb-MeOH-150mM-3\n",
      "Distance 1 not found for calb-MeOH-600mM-9. Reading trajectory...\n",
      "Calculating calb-MeOH-150mM-7\n",
      "Calculating calb-MeOH-600mM-9\n",
      "Calculating calb-MeOH-1M-1\n",
      "Distance 1 not found for calb-MeOH-1M-1. Reading trajectory...\n",
      "Calculating calb-MeOH-1M-3\n",
      "Distance 1 not found for calb-MeOH-1M-3. Reading trajectory...\n",
      "Calculating calb-MeOH-1M-1\n",
      "Calculating calb-MeOH-1M-3\n",
      "Calculating calb-MeOH-1M-5\n",
      "Calculating calb-MeOH-1M-7\n",
      "Distance 1 not found for calb-MeOH-1M-5. Reading trajectory...Distance 1 not found for calb-MeOH-1M-7. Reading trajectory...\n",
      "\n",
      "Calculating calb-MeOH-1M-9\n",
      "Distance 1 not found for calb-MeOH-1M-9. Reading trajectory...\n",
      "Calculating calb-MeOH-2.5M-1\n",
      "Distance 1 not found for calb-MeOH-2.5M-1. Reading trajectory...\n",
      "Calculating calb-MeOH-1M-5\n",
      "Calculating calb-MeOH-1M-7\n",
      "Calculating calb-MeOH-1M-9\n",
      "Distance 2 not found for calb-MeOH-600mM-7. Reading trajectory...\n",
      "Distance 2 not found for calb-MeOH-600mM-5. Reading trajectory...\n",
      "Calculating calb-MeOH-2.5M-1\n",
      "Calculating calb-MeOH-600mM-7\n",
      "Calculating calb-MeOH-600mM-5\n",
      "Distance 2 not found for calb-MeOH-50mM-1. Reading trajectory...\n",
      "Distance 2 not found for calb-MeOH-50mM-3. Reading trajectory...\n",
      "Calculating calb-MeOH-50mM-1\n",
      "Calculating calb-MeOH-50mM-3\n",
      "Distance 2 not found for calb-MeOH-50mM-9. Reading trajectory...\n",
      "Distance 2 not found for calb-MeOH-50mM-7. Reading trajectory...\n",
      "Distance 2 not found for calb-MeOH-50mM-5. Reading trajectory...\n",
      "Calculating calb-MeOH-50mM-9\n",
      "Calculating calb-MeOH-50mM-7\n",
      "Calculating calb-MeOH-50mM-5\n",
      "Distance 2 not found for calb-MeOH-600mM-9. Reading trajectory...\n",
      "Calculating calb-MeOH-600mM-9\n"
     ]
    }
   ],
   "source": [
    "importlib.reload(main)\n",
    "importlib.reload(Featurize)\n",
    "\n",
    "\n",
    "features={}\n",
    "\n",
    "distances=[('resname MeOH and name OA', 'resname SEA and index 1526'), \n",
    "      ('resname MeOH and name HO', 'resid 224 and name NE2')]\n",
    "\n",
    "#features['distance1']=main.Featurize(project_systems, results=results).distance(distances[0], processes=12)\n",
    "#features['nac_pre-calculated']=main.Featurize(project_systems, results=results).nac(distances, processes=12, use_precalc=True)\n",
    "features['nac']=main.Featurize(project_systems, results=results).nac(distances, processes=14)\n"
   ]
  },
  {
   "cell_type": "markdown",
   "metadata": {},
   "source": [
    "## **Discretization**\n",
    "\n",
    "The *features* are discretized based on selected discretization scheme, **Binding free energy profile** or **Combinatorial**.\n"
   ]
  },
  {
   "cell_type": "code",
   "execution_count": null,
   "metadata": {},
   "outputs": [],
   "source": [
    "importlib.reload(main)\n",
    "\n",
    "discretize={}\n",
    "\n",
    "for feature, data in features.items():\n",
    "    discretize[feature]=Discretize(project_systems, feature=data, results=results)\n",
    "    \n",
    "discretize"
   ]
  },
  {
   "cell_type": "markdown",
   "metadata": {},
   "source": [
    "#### **Binding free energy profile**\n",
    "\n",
    "Represent the feaurization as a binding free energy profile (**$\\Delta$G**). Options to describe the profile are *sum*,  *mean*, *quantile*."
   ]
  },
  {
   "cell_type": "code",
   "execution_count": null,
   "metadata": {},
   "outputs": [],
   "source": [
    "resolution=0.5\n",
    "lims=(0,150)\n",
    "stride=1\n",
    "ps=5\n",
    "start=0,\n",
    "stop=10\n",
    "\n",
    "nac_profiles={}\n",
    "\n",
    "for feature, discretized in discretize.items():\n",
    "\n",
    "    nac_profile[feature]=discretized.nac_profile(shells,\n",
    "                                   resolution=resolution,\n",
    "                                   nac_lims=lims,\n",
    "                                   labels=labels,\n",
    "                                   stride=stride,\n",
    "                                   ps=ps,\n",
    "                                   start=start\n",
    "                                   stop=stop)\n",
    "\n",
    "nac_profile"
   ]
  },
  {
   "cell_type": "code",
   "execution_count": null,
   "metadata": {
    "scrolled": true
   },
   "outputs": [],
   "source": [
    "importlib.reload(main)\n",
    "importlib.reload(Discretize)\n",
    "discretize=main.Discretize.Discretize(project_systems, feature=features['nac'], results=results)\n",
    "descriptors=('mean','quantile')\n",
    "dG={}\n",
    "\n",
    "#For quantile control\n",
    "quantiles=[0.1, 0.25, 0.5, 0.75, 0.90, 0.95, 0.99, 0.999]\n",
    "\n",
    "for descriptor in descriptors:\n",
    "    dG[descriptor]=discretize.dG_calculation(nac_profile, describe=descriptor,\n",
    "                                             bulk=(30, 41),\n",
    "                                             level=2,\n",
    "                                             resolution=resolution,\n",
    "                                             feature_name='dNAC', \n",
    "                                             mol='methanol',\n",
    "                                             quantiles=quantiles,\n",
    "                                             results=results)\n",
    "    "
   ]
  },
  {
   "cell_type": "markdown",
   "metadata": {},
   "source": [
    "#### **Combinatorial**\n",
    "\n",
    "Discretize, for each frame, which combinations of regions are occupied by all ligands in the system (one state per frame)\n",
    "\n",
    "The concept of regions is applied to the 1D $d_{NAC}$ reaction coordinate, whereby a region is defined as a *spherical shell* along the $d_{NAC}$ radius\n",
    "\n",
    "Set the shell boundaries (limits, thickness). The minimum (0) and maximum (max) value are implicit.\n",
    "\n",
    "E.g.: shells (4.5, 10, 12, 24) corresponds to: \n",
    "1. shell [0, 4.5[ (A)\n",
    "2. shell [4.5, 10[ (P)\n",
    "3. shell [10, 12[ (E)\n",
    "4. shell [10, 24[ (S)\n",
    "5. shell [24, max[ (B)\n",
    "\n",
    "\n",
    "Labels *labels* of each region are optional but recommended (otherwise reverts to numerical). Number of *labels* is plus one the number of defined *regions*."
   ]
  },
  {
   "cell_type": "code",
   "execution_count": null,
   "metadata": {},
   "outputs": [],
   "source": [
    "\n",
    "importlib.reload(main)\n",
    "shells=[4.5, 10, 12, 24]\n",
    "labels=['A', 'P', 'E', 'S', 'B'] \n",
    "\n",
    "combinatorial=discretize.combinatorial(shells, labels=labels)\n",
    "\n",
    "print(combinatorial)\n",
    "\n",
    "discretize.plot(combinatorial)"
   ]
  },
  {
   "cell_type": "markdown",
   "metadata": {},
   "source": [
    "## Trajectory operations\n",
    "\n",
    "Initiate the trajectory object, which will be used to make further actions."
   ]
  },
  {
   "cell_type": "code",
   "execution_count": null,
   "metadata": {},
   "outputs": [],
   "source": [
    "importlib.reload(main)\n",
    "importlib.reload(Trajectory)\n",
    "importlib.reload(tools)\n",
    "trajectories=main.Trajectory.Trajectory(project_systems, results=results)"
   ]
  },
  {
   "cell_type": "markdown",
   "metadata": {},
   "source": [
    "### Extract state frames\n",
    "\n",
    "Define the frames belonging to a set of states across all *trajectories*. A dataframe of discretized trajectories must be given. "
   ]
  },
  {
   "cell_type": "code",
   "execution_count": null,
   "metadata": {},
   "outputs": [],
   "source": [
    "\n",
    "#stateLabels=['SB', 'ESB', 'PB', 'PSB', 'PEB', 'PESB', 'AB', 'ASB', 'AEB', 'AESB', 'APSB', 'APESB']\n",
    "#states=[3, 7, 9, 11, 13, 15, 17, 19, 21, 23, 25, 27, 31]\n",
    "\n",
    "#stateLabels=['SB', 'ESB', 'PB', 'PSB', 'PESB', 'AB', 'ASB', 'APSB', 'APESB']\n",
    "#states=[3,7,9,11,15,17,19,27,31]\n",
    "\n",
    "stateLabels=['PSB']\n",
    "states=[11]\n",
    "\n",
    "extracted_frames=trajectories.extractFrames_by_iterable(combinatorial, iterable=states, feature='nac')"
   ]
  },
  {
   "cell_type": "markdown",
   "metadata": {},
   "source": [
    "## Density Maps\n",
    "\n",
    "NOTE: Compute intensive, using previously stored files."
   ]
  },
  {
   "cell_type": "code",
   "execution_count": null,
   "metadata": {
    "scrolled": true
   },
   "outputs": [],
   "source": [
    "#of extracted frames\n",
    "densities, stats=trajectories.DensityMap_frames(frames=extracted_frames, level=2, dists=[('resid 290 and name NZ', 'resid 145 and name OD1')])"
   ]
  },
  {
   "cell_type": "code",
   "execution_count": null,
   "metadata": {},
   "outputs": [],
   "source": [
    "\n",
    "stats_=stats\n",
    "parameters=['min', 'max', 'mean', 'std']\n",
    "level_unique=stats_.columns.get_level_values(level=0).unique()\n",
    "\n",
    "print(stats_)\n",
    "\n",
    "fig, ax=plt.subplots(4,2, figsize=(12,6), sharex=True)\n",
    "axes=ax.flat\n",
    "\n",
    "for p, ax in zip(level_unique, axes):\n",
    "    #print(p, ax)\n",
    "    df_level=stats_.loc[:, p]\n",
    "    for it in df_level.columns.values:\n",
    "        #print(df_level[it])\n",
    "        ax.plot(df_level.index.values, df_level[it])\n",
    "        ax.set_ylabel(p)\n",
    "        #ax.set_yscale('log')\n",
    "        ax.set_title(p)\n",
    "        ax.axhline(y=30)\n",
    "\n",
    "plt.show()"
   ]
  },
  {
   "cell_type": "code",
   "execution_count": null,
   "metadata": {
    "scrolled": true
   },
   "outputs": [],
   "source": [
    "full_densities=trajectories.DensityMap_fullTraj(level=2, filtered=True, stride=5)"
   ]
  },
  {
   "cell_type": "code",
   "execution_count": null,
   "metadata": {},
   "outputs": [],
   "source": [
    "full_densities"
   ]
  },
  {
   "cell_type": "code",
   "execution_count": null,
   "metadata": {},
   "outputs": [],
   "source": [
    "plots.plot_feature_histogram(systems_featurized_nac)\n",
    "\n",
    "#for name, features in features_dict.items():\n",
    "#    plots.plot_feature_histogram(concentrations, name, features, results)\n",
    "\n",
    "for feature, parameter in features.items():\n",
    "    print(feature)\n",
    "    for value, data in parameter.items():\n",
    "        print(value)\n",
    "        print(data)\n"
   ]
  },
  {
   "cell_type": "markdown",
   "metadata": {},
   "source": [
    "Plot histograms of discretized features."
   ]
  },
  {
   "cell_type": "code",
   "execution_count": null,
   "metadata": {},
   "outputs": [],
   "source": [
    "\n",
    "for scheme, v in disc.items():\n",
    "    for feature, parameter_dict in v.items():\n",
    "        for parameter, values in parameter_dict.items():\n",
    "            data=np.load(values['discretized'][0]).flatten()\n",
    "            minimum, maximum=np.around(np.min(data)), np.around(np.max(data))\n",
    "            plt.hist(data, alpha=0.5, bins=np.arange(minimum, maximum), label=parameter)\n",
    "                \n",
    "        if scheme == 'combinatorial':\n",
    "            label_names=base.Functions.sampledStateLabels(regions, labels=labels)\n",
    "            positions=np.arange(0, len(label_names))\n",
    "            plt.xticks(positions+0.5, label_names, rotation=70)      \n",
    "        plt.legend()\n",
    "        plt.xlabel('State Index')\n",
    "        plt.ylabel('Counts')\n",
    "        plt.title(f'{scheme}-{feature}')\n",
    "        plt.savefig(f'{results}/discretization_{scheme}_histogram-{feature}.png', bbox_inches='tight', dpi=600)\n",
    "        plt.show()"
   ]
  },
  {
   "cell_type": "markdown",
   "metadata": {},
   "source": [
    "## Markov State Model\n",
    "\n",
    "A dictionary of MSM *msm_dict* is created. Each MSM is identified by the corresponding discretization *scheme*, the *feature* and *parameter* as a key of *msm_dict*. The corresponding values themselves a dictionary holding the calculated properties of the MSM. The instance of *classes.MSM* is *instance*.\n",
    "\n",
    "TODO: Fetch prot and mol directly from System class."
   ]
  },
  {
   "cell_type": "code",
   "execution_count": null,
   "metadata": {
    "scrolled": true
   },
   "outputs": [],
   "source": [
    "msm_dict={}\n",
    "\n",
    "protein, ligand, timestep=system.getProperties('protein', 'ligand', 'timestep')\n",
    "\n",
    "\n",
    "for scheme, v in disc.items():\n",
    "    for feature, parameter_dict in v.items():\n",
    "        for parameter, values in parameter_dict.items():\n",
    "            msm_dict[f'{scheme}-{feature}-{parameter}']={'instance': base.MSM(scheme, feature, parameter, \n",
    "                                                                              values, protein, ligand, timestep, results=results)}\n",
    "            \n"
   ]
  },
  {
   "cell_type": "markdown",
   "metadata": {},
   "source": [
    "**Implied Time Scales**\n",
    "\n",
    "Calculate the Implied Time Scales for each MSM object using the *ITS* function. This function uses the pyEMMA function (pyemma.msm.its). The default array of lags can be used by pyEMMA, but here the values are provided by *lags*.\n",
    "\n",
    "The function checks for previously calculated ITS plots by checking the presence of the corresponding *png* file in the *results* folder. \n",
    "\n",
    "The file path to the generated ITS image is stored in the *msm_dict* (2nd position)"
   ]
  },
  {
   "cell_type": "code",
   "execution_count": null,
   "metadata": {
    "scrolled": true
   },
   "outputs": [],
   "source": [
    "lags=[1, 2, 5, 10, 20, 40, 100, 500, 1000, 2000, 5000]\n",
    "\n",
    "for name, model in msm_dict.items():\n",
    "    model['its']=model['instance'].ITS(lags)\n",
    "            "
   ]
  },
  {
   "cell_type": "markdown",
   "metadata": {},
   "source": [
    "**Bayesian MSM**\n",
    "Calculation of Bayesian MSM is made here. A lag time must be defined for each discretization *scheme-feature-parameter* combination."
   ]
  },
  {
   "cell_type": "code",
   "execution_count": null,
   "metadata": {},
   "outputs": [],
   "source": [
    "importlib.reload(base)\n",
    "lag={}\n",
    "\n",
    "minimum={}\n",
    "minimum['nac']={'50mM':500, '150mM':1000, '300mM':1000, '600mM':2000, '1M':1000, '2.5M':2000, '5.5M':2000}\n",
    "minimum['dist']={'50mM':1000, '150mM':1000, '300mM':2000, '600mM':2000, '1M':2000, '2.5M':2000, '5.5M':2000}\n",
    "lag['minimum']=minimum\n",
    "\n",
    "single={}\n",
    "single['nac']={'50mM':None, '150mM':None, '300mM':None, '600mM':None, '1M':200, '2.5M':None, '5.5M':2000}\n",
    "single['dist']={'50mM':None, '150mM':None, '300mM':None, '600mM':None, '1M':1000, '2.5M':None, '5.5M':None}\n",
    "lag['single']=single\n",
    "\n",
    "combinatorial={}\n",
    "combinatorial['nac']={'50mM':200, '150mM':2000, '300mM':1000, '600mM':5000, '1M':2000, '2.5M':2000, '5.5M':2000}\n",
    "combinatorial['dist']={'50mM':200, '150mM':200, '300mM':200, '600mM':500, '1M':500, '2.5M':1000, '5.5M':1000}\n",
    "lag['combinatorial']=combinatorial\n",
    "\n",
    "for name, model in msm_dict.items():\n",
    "    print(name)\n",
    "    model['bayesMSM']=model['instance'].bayesMSM(lag)"
   ]
  },
  {
   "cell_type": "markdown",
   "metadata": {},
   "source": [
    "**Stationary Distribution**\n",
    "\n",
    "Stationary distribution is calculated for each available model. Model instance accessed by *model(2)*"
   ]
  },
  {
   "cell_type": "code",
   "execution_count": null,
   "metadata": {
    "scrolled": true
   },
   "outputs": [],
   "source": [
    "pi=pd.DataFrame()\n",
    "\n",
    "for name, model in msm_dict.items():\n",
    "    print(name)\n",
    "    pi_model=model['instance'].stationaryDistribution(model['bayesMSM'])\n",
    "    pi=pd.concat([pi, pi_model], axis=1)\n",
    "\n",
    "pi.to_csv(f'{results}/stationary_distributions.csv')\n",
    "\n",
    "for scheme, v in disc.items():\n",
    "    for feature in v.keys(): \n",
    "        if scheme == 'combinatorial':\n",
    "            statdist_df=pi.xs((scheme, feature), axis=1).dropna(how='all')\n",
    "            statdist_df.plot(kind='bar')\n",
    "            label_names=base.Functions.sampledStateLabels(regions, sampled_states=statdist_df.index.values, labels=labels)\n",
    "            positions=np.arange(0, len(label_names))\n",
    "            plt.xticks(positions, label_names, rotation=70)\n",
    "            plt.xlabel('Combinatorial States')\n",
    "        else:\n",
    "            pi.xs((scheme, feature), axis=1).plot(linestyle='-', marker='o') #kind='bar', stacked=True)\n",
    "            plt.xlabel('State Index')\n",
    "        plt.yscale('log')\n",
    "        plt.ylabel('Stationary Distribution')\n",
    "        plt.title(f'Discretization: {scheme}\\nFeature: {feature}')\n",
    "        plt.savefig(f'{results}/stationary_distribution-{scheme}-{feature}.png', bbox_inches='tight', dpi=600)\n",
    "        plt.show()"
   ]
  },
  {
   "cell_type": "markdown",
   "metadata": {},
   "source": [
    "**Flux**\n",
    "\n",
    "Calculate the flux between set of source states *A_source* and set of sink states *B_sink*. "
   ]
  },
  {
   "cell_type": "code",
   "execution_count": null,
   "metadata": {
    "scrolled": true
   },
   "outputs": [],
   "source": [
    "importlib.reload(base)\n",
    "importlib.reload(plots)\n",
    "\n",
    "flux_df=pd.DataFrame()\n",
    "committor_df=pd.DataFrame()\n",
    "pathway_df=pd.DataFrame()\n",
    "\n",
    "for name,model in msm_dict.items():\n",
    "    flux_model, committor_model, pathway_model=base.MSM.flux(name, model['bayesMSM'], parameter_scalar=parameter_scalar, \n",
    "                                regions=regions, labels=labels, \n",
    "                                A_source=['B', 'SB', 'ESB'],\n",
    "                                B_sink=['AB', 'ASB', 'AEB', 'AESB', 'APB', 'APSB', 'APEB', 'APESB'],\n",
    "                                top_pathways=3)\n",
    "        \n",
    "    flux_df=pd.concat([flux_df, flux_model], axis=0)\n",
    "    committor_df=pd.concat([committor_df, committor_model], axis=0)\n",
    "    pathway_df=pd.concat([pathway_df, pathway_model], axis=0)\n",
    "\n",
    "    \n",
    "plots.plot_pathways(pathway_df, ligand, results)\n",
    "plots.plot_flux(flux_df, ligand, results)\n",
    "plots.plot_committor(committor_df, ligand, results, regions, labels)\n",
    "\n",
    "\n",
    "pathway_df.to_csv(f'{results}/pathways.csv')\n",
    "flux_df.to_csv(f'{results}/net_fluxes.csv') \n",
    "committor_df.to_csv(f'{results}/committors.csv')\n",
    "\n",
    "\n",
    "\n"
   ]
  },
  {
   "cell_type": "markdown",
   "metadata": {},
   "source": [
    "**Mean First Passage Times**\n",
    "\n",
    "Calculate the MFPTs between all states.\n",
    "\n",
    "k$_{on}$=1/MFPTxC, where C is concentration in Molar \\\n",
    "k$_{off}$=1/MFPT\n",
    "\n",
    "\n",
    "Stores the resutls in the *mfpt* dataframe\n",
    "\n",
    "**Warning**: This step takes a long time to perform. The following cell loads a pre-calculated *mfpt* dataframe."
   ]
  },
  {
   "cell_type": "code",
   "execution_count": null,
   "metadata": {},
   "outputs": [],
   "source": [
    "importlib.reload(base)\n",
    "mfpt_df=pd.DataFrame()\n",
    "\n",
    "for name, model in msm_dict.items():\n",
    "    print(name)\n",
    "    mfpt=model['instance'].MFPT(model['bayesMSM'])\n",
    "    mfpt_df=pd.concat([mfpt_df, mfpt], axis=0)\n",
    "\n",
    "mfpt_df.to_csv(f'{results}/mfpt.csv')\n",
    "\n"
   ]
  },
  {
   "cell_type": "code",
   "execution_count": null,
   "metadata": {},
   "outputs": [],
   "source": [
    "importlib.reload(base)\n",
    "importlib.reload(plots)\n",
    "\n",
    "mfpt_df=pd.read_csv(f'{results}/mfpt.csv', index_col=[0,1,2], header=[0,1,2])\n",
    "\n",
    "schemes=mfpt_df.index.unique(level='Scheme')\n",
    "features=mfpt_df.index.unique(level='feature')\n",
    "states=mfpt_df.index.unique(level='state_source')\n",
    "parameters=mfpt_df.columns.get_level_values(level='parameter').unique()\n",
    "\n",
    "error=0.2\n",
    "\n",
    "for scheme in schemes:\n",
    "    print('Scheme: ', scheme)\n",
    "    for feature in features:\n",
    "        print('Feature: ', feature)\n",
    "        plots.plot_MFPT(mfpt_df, scheme, feature, concentrations, error=error, labels=labels, regions=regions)\n",
    "        plt.savefig(f'{results}/mfpt_{scheme}-{feature}-{error}.png', bbox_inches='tight', dpi=600)\n",
    "        plt.show()\n"
   ]
  },
  {
   "cell_type": "markdown",
   "metadata": {},
   "source": [
    "**Process Trajectories**\n"
   ]
  }
 ],
 "metadata": {
  "kernelspec": {
   "display_name": "Python 3",
   "language": "python",
   "name": "python3"
  },
  "language_info": {
   "codemirror_mode": {
    "name": "ipython",
    "version": 3
   },
   "file_extension": ".py",
   "mimetype": "text/x-python",
   "name": "python",
   "nbconvert_exporter": "python",
   "pygments_lexer": "ipython3",
   "version": "3.7.8"
  }
 },
 "nbformat": 4,
 "nbformat_minor": 4
}
