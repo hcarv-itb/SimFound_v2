{
 "cells": [
  {
   "cell_type": "markdown",
   "metadata": {},
   "source": [
    "## **SETD2 with SAM**"
   ]
  },
  {
   "cell_type": "markdown",
   "metadata": {},
   "source": [
    "## **Import modules**"
   ]
  },
  {
   "cell_type": "code",
   "execution_count": 1,
   "metadata": {},
   "outputs": [
    {
     "data": {
      "application/vnd.jupyter.widget-view+json": {
       "model_id": "fd2ae0dbd23641ee8fa51ed738c34aa7",
       "version_major": 2,
       "version_minor": 0
      },
      "text/plain": []
     },
     "metadata": {},
     "output_type": "display_data"
    }
   ],
   "source": [
    "import os\n",
    "import sys\n",
    "\n",
    "data_path=os.path.abspath('/media/dataHog/hca/SETD2') #Where your group data is\n",
    "base_path=os.path.abspath('/media/dataHog/hca/SimFound_v2/source/') #Where your source code is (SFv2)\n",
    "\n",
    "sys.path.append(base_path)\n",
    "sys.path.append(data_path)\n",
    "\n",
    "import importlib\n",
    "\n",
    "import warnings\n",
    "warnings.filterwarnings('ignore')\n",
    "import Protocols as P\n",
    "\n",
    "import main\n",
    "import tools\n",
    "import Featurize as F\n",
    "import Trajectory as T\n",
    "\n",
    "\n",
    "from simtk.unit import *"
   ]
  },
  {
   "cell_type": "markdown",
   "metadata": {},
   "source": [
    "## **Define Project**"
   ]
  },
  {
   "cell_type": "code",
   "execution_count": 8,
   "metadata": {},
   "outputs": [
    {
     "name": "stdout",
     "output_type": "stream",
     "text": [
      "Converted parameter \"temperature\" (in K) into scalar: 310.0 K\n",
      "System h3K36-310K-6 with parameter 310.0 K defined\n",
      "System h3K36-310K-7 with parameter 310.0 K defined\n",
      "System h3K36-310K-8 with parameter 310.0 K defined\n",
      "System h3K36-310K-9 with parameter 310.0 K defined\n",
      "System h3K36-310K-10 with parameter 310.0 K defined\n"
     ]
    }
   ],
   "source": [
    "importlib.reload(main)\n",
    "importlib.reload(T)\n",
    "\n",
    "workdir=data_path\n",
    "results=workdir+'/results'\n",
    "inputs=workdir+'inputs/structures/'\n",
    "\n",
    "\n",
    "\n",
    "#protein=['WT', 'R167Q', 'I602G']\n",
    "protein=['h3K36']\n",
    "\n",
    "parameters=['310K']\n",
    "timestep=20*picoseconds\n",
    "\n",
    "project=main.Project(title='h3K36', \n",
    "                     hierarchy=('protein', 'parameter'), \n",
    "                     workdir=workdir,\n",
    "                     parameter=parameters, \n",
    "                     replicas=10, \n",
    "                     protein=protein,  \n",
    "                     topology='h3K36_X.pdb',\n",
    "                     timestep=timestep,\n",
    "                    initial_replica=6)\n",
    "\n",
    "\n",
    "project_systems=project.setSystems()"
   ]
  },
  {
   "cell_type": "markdown",
   "metadata": {},
   "source": [
    "## **Simulation Protocol**"
   ]
  },
  {
   "cell_type": "markdown",
   "metadata": {},
   "source": [
    "## Set defaults"
   ]
  },
  {
   "cell_type": "code",
   "execution_count": 9,
   "metadata": {},
   "outputs": [],
   "source": [
    "NPT_equilibration={'ensemble': 'NPT',\n",
    "                'step': 5*nanoseconds, \n",
    "                'report': timestep, \n",
    "                'restrained_sets': {'selections': ['protein and backbone'],\n",
    "                                    'forces': [100*kilojoules_per_mole/angstroms]}}\n",
    "\n",
    "NPT_production={'ensemble': 'NPT',\n",
    "                'step': 50*nanoseconds, \n",
    "                'report': timestep}\n",
    "NPT_production2={'ensemble': 'NPT',\n",
    "                'step': 50*nanoseconds, \n",
    "                'report': timestep}"
   ]
  },
  {
   "cell_type": "markdown",
   "metadata": {},
   "source": [
    "## Setup simulation protocol"
   ]
  },
  {
   "cell_type": "code",
   "execution_count": 10,
   "metadata": {
    "tags": []
   },
   "outputs": [
    {
     "name": "stdout",
     "output_type": "stream",
     "text": [
      "Setting openMM simulation of h3K36-310K-6 protocols in /media/dataHog/hca/SETD2/h3K36-310K/replicate6\n",
      "Setting openMM simulation of h3K36-310K-7 protocols in /media/dataHog/hca/SETD2/h3K36-310K/replicate7\n",
      "Setting openMM simulation of h3K36-310K-8 protocols in /media/dataHog/hca/SETD2/h3K36-310K/replicate8\n",
      "Setting openMM simulation of h3K36-310K-9 protocols in /media/dataHog/hca/SETD2/h3K36-310K/replicate9\n",
      "Setting openMM simulation of h3K36-310K-10 protocols in /media/dataHog/hca/SETD2/h3K36-310K/replicate10\n",
      "\tWarning! Found conserved openMM system(s). /media/dataHog/hca/SETD2/h3K36-310K/replicate6/omm_1.pkl\n",
      "\tStatus open: 1\n",
      "\tLoading conserved openMM system:  /media/dataHog/hca/SETD2/h3K36-310K/replicate6/omm_1.pkl\n",
      "\tWarning! Found conserved openMM system(s). /media/dataHog/hca/SETD2/h3K36-310K/replicate7/omm_1.pkl\n",
      "\tStatus open: 1\n",
      "\tLoading conserved openMM system:  /media/dataHog/hca/SETD2/h3K36-310K/replicate7/omm_1.pkl\n",
      "\tWarning! Found conserved openMM system(s). /media/dataHog/hca/SETD2/h3K36-310K/replicate8/omm_1.pkl\n",
      "\tStatus open: 1\n",
      "\tLoading conserved openMM system:  /media/dataHog/hca/SETD2/h3K36-310K/replicate8/omm_1.pkl\n",
      "\tWarning! Found conserved openMM system(s). /media/dataHog/hca/SETD2/h3K36-310K/replicate9/omm_1.pkl\n",
      "\tStatus open: 1\n",
      "\tLoading conserved openMM system:  /media/dataHog/hca/SETD2/h3K36-310K/replicate9/omm_1.pkl\n",
      "\tWarning! Found conserved openMM system(s). /media/dataHog/hca/SETD2/h3K36-310K/replicate10/omm_1.pkl\n",
      "\tStatus open: 1\n",
      "\tLoading conserved openMM system:  /media/dataHog/hca/SETD2/h3K36-310K/replicate10/omm_1.pkl\n",
      "{'h3K36-310K-6': <main.System object at 0x7f6448176f10>, 'h3K36-310K-7': <main.System object at 0x7f64ebc725d0>, 'h3K36-310K-8': <main.System object at 0x7f64ebc727d0>, 'h3K36-310K-9': <main.System object at 0x7f64ebc728d0>, 'h3K36-310K-10': <main.System object at 0x7f64ebc695d0>}\n",
      "setting up:  h3K36-310K-6\n",
      "setting up:  h3K36-310K-7\n",
      "setting up:  h3K36-310K-8\n",
      "setting up:  h3K36-310K-9\n",
      "setting up:  h3K36-310K-10\n"
     ]
    }
   ],
   "source": [
    "importlib.reload(P)\n",
    "importlib.reload(tools)\n",
    "#extra_pdb = ['ZNB_open.pdb', 'SAM.pdb']\n",
    "#smiles = 'C[S+](CC[C@@H](C(=O)[O-])N)C[C@@H]1[C@H]([C@H]([C@@H](O1)N2C=NC3=C(N=CN=C32)N)O)O'\n",
    "xml_files = ['protein.ff14SB.xml', 'tip4pew.xml']\n",
    "\n",
    "\n",
    "simulation=P.Protocols(project, overwrite_mode=False)\n",
    "    \n",
    "simulation.pdb2omm(input_pdb=project.input_topology,\n",
    "                                     ff_files=xml_files,\n",
    "                                     protonate=True,\n",
    "                                     solvate=True,\n",
    "                                     pH_protein=7.0,\n",
    "                                     box_size=6)\n",
    "\n",
    "simulation.setSimulations(dt=0.002*picoseconds, \n",
    "                                  temperature = 310,\n",
    "                                  pH=7.0,\n",
    "                                  friction = 1/picosecond,\n",
    "                                  equilibrations=[NPT_equilibration],\n",
    "                                  productions=[NPT_production, NPT_production2],\n",
    "                                  pressure=1*atmospheres)\n"
   ]
  },
  {
   "cell_type": "markdown",
   "metadata": {},
   "source": [
    "## **WARNING!** Run simulation(s)"
   ]
  },
  {
   "cell_type": "code",
   "execution_count": null,
   "metadata": {},
   "outputs": [
    {
     "name": "stdout",
     "output_type": "stream",
     "text": [
      "System:  h3K36-310K-6\n",
      "\tAvaliable platform 1: CPU\n",
      "\tAvaliable platform 2: CUDA\n",
      "\tAvaliable platform 3: OpenCL\n",
      "\n",
      "Energy minimization\n",
      "minimization_Emin-1\n",
      "\tA complete checkpoint was found.\n",
      "\tSystem is complete.\n",
      "\tSystem final potential energy: -393710.3266124176 kJ/mol (complete)\n",
      "\n",
      "EQ run 1: NPT\n",
      "equilibration_NPT-1\n",
      "\tA complete checkpoint was found.\n",
      "\tSystem is complete.\n",
      "\tSystem final potential energy: -319092.4290067151 kJ/mol (complete)\n",
      "\n",
      "Production run 1: NPT\n",
      "production_NPT-1\n",
      "\tA complete checkpoint was found.\n",
      "\tSystem is complete.\n",
      "\tSystem final potential energy: -318504.6462428416 kJ/mol (complete)\n",
      "\n",
      "Production run 2: NPT\n",
      "production_NPT-2\n",
      "\tNo checkpoint found.\n",
      "\tSimulation time: 50000.0 ps out of 50000.0 ps = 25000000/25000000 steps\n",
      "\tSetting new system: h3K36-310K-6\n",
      "\tPDB file generated: /media/dataHog/hca/SETD2/h3K36-310K/replicate6/production_NPT-2_init.pdb\n",
      "\tSystem initial potential energy: -318504.6320657232 kJ/mol\n",
      "\tPopulating file(s) /media/dataHog/hca/SETD2/h3K36-310K/replicate6/production_NPT-2.*\n",
      "\tAdding MC barostat for NPT ensemble\n",
      "\tWarning! Continuation run. Assigning velocities from stored state.\n",
      "\tSimulating...\n",
      "\tSimulation completed or extended: 25000000/25000000 (+0) steps.\n",
      "\tPDB file generated: /media/dataHog/hca/SETD2/h3K36-310K/replicate6/production_NPT-2.pdb\n",
      "\tForce of kind MonteCarloBarostat (5) will be removed.\n",
      "\tSystem final potential energy: -319156.15855092136 kJ/mol (complete)\n",
      "System:  h3K36-310K-7\n",
      "\tAvaliable platform 1: CPU\n",
      "\tAvaliable platform 2: CUDA\n",
      "\tAvaliable platform 3: OpenCL\n",
      "\n",
      "Energy minimization\n",
      "minimization_Emin-1\n",
      "\tA complete checkpoint was found.\n",
      "\tSystem is complete.\n",
      "\tSystem final potential energy: -393434.25780824735 kJ/mol (complete)\n",
      "\n",
      "EQ run 1: NPT\n",
      "equilibration_NPT-1\n",
      "\tA complete checkpoint was found.\n",
      "\tSystem is complete.\n",
      "\tSystem final potential energy: -319205.90205739904 kJ/mol (complete)\n",
      "\n",
      "Production run 1: NPT\n",
      "production_NPT-1\n",
      "\tA complete checkpoint was found.\n",
      "\tSystem is complete.\n",
      "\tSystem final potential energy: -319068.98391760373 kJ/mol (complete)\n",
      "\n",
      "Production run 2: NPT\n",
      "production_NPT-2\n",
      "\tNo checkpoint found.\n",
      "\tSimulation time: 50000.0 ps out of 50000.0 ps = 25000000/25000000 steps\n",
      "\tSetting new system: h3K36-310K-7\n",
      "\tPDB file generated: /media/dataHog/hca/SETD2/h3K36-310K/replicate7/production_NPT-2_init.pdb\n",
      "\tSystem initial potential energy: -319069.12642667396 kJ/mol\n",
      "\tPopulating file(s) /media/dataHog/hca/SETD2/h3K36-310K/replicate7/production_NPT-2.*\n",
      "\tAdding MC barostat for NPT ensemble\n",
      "\tWarning! Continuation run. Assigning velocities from stored state.\n",
      "\tSimulating...\n"
     ]
    }
   ],
   "source": [
    "\n",
    "gpu_index='0'\n",
    "simulation.runSimulations(run_productions=True,  \n",
    "                              compute_time=4,\n",
    "                              reportFactor=0.025,\n",
    "                             gpu_index=gpu_index,\n",
    "                         minimum_effort=True)   \n"
   ]
  },
  {
   "cell_type": "code",
   "execution_count": null,
   "metadata": {},
   "outputs": [],
   "source": [
    "simulations"
   ]
  },
  {
   "cell_type": "code",
   "execution_count": null,
   "metadata": {},
   "outputs": [],
   "source": []
  }
 ],
 "metadata": {
  "kernelspec": {
   "display_name": "Python 3",
   "language": "python",
   "name": "python3"
  },
  "language_info": {
   "codemirror_mode": {
    "name": "ipython",
    "version": 3
   },
   "file_extension": ".py",
   "mimetype": "text/x-python",
   "name": "python",
   "nbconvert_exporter": "python",
   "pygments_lexer": "ipython3",
   "version": "3.7.7"
  }
 },
 "nbformat": 4,
 "nbformat_minor": 4
}
