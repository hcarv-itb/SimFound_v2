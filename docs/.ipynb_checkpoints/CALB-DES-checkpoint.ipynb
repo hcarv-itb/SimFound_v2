{
 "cells": [
  {
   "cell_type": "raw",
   "metadata": {},
   "source": [
    "# SFv2 Template notebook"
   ]
  },
  {
   "cell_type": "markdown",
   "metadata": {},
   "source": [
    "## Import modules"
   ]
  },
  {
   "cell_type": "code",
   "execution_count": null,
   "metadata": {},
   "outputs": [],
   "source": [
    "import os\n",
    "import sys\n",
    "\n",
    "data_path=os.path.abspath('C:/Users/accre/Desktop/Proteindesign/') #Where your group data is\n",
    "base_path=os.path.abspath('C:/Users/accre/Documents/GitHub/SimFound_v2/source') #Where your source code is (SFv2)\n",
    "\n",
    "sys.path.append(base_path)\n",
    "sys.path.append(data_path)\n",
    "\n",
    "import importlib\n",
    "\n",
    "import Protocols as P\n",
    "\n",
    "from simtk.unit import *\n"
   ]
  },
  {
   "cell_type": "markdown",
   "metadata": {},
   "source": [
    "# Set defaults"
   ]
  },
  {
   "cell_type": "code",
   "execution_count": null,
   "metadata": {},
   "outputs": [],
   "source": [
    "std_report=100 \n",
    "       \n",
    "NPT_protocolW={'ensemble': 'NPT',\n",
    "               'step': 1*picoseconds, \n",
    "               'report': std_report, \n",
    "               'restrained_sets': {'selections': ['protein and backbone'],\n",
    "                                   'forces': [100*kilojoules_per_mole/angstroms]}}\n",
    "NVT_protocolDES={'ensemble': 'NVT',\n",
    "               'step': 25*picoseconds, \n",
    "               'report': std_report, \n",
    "               'restrained_sets': {'selections': ['protein and backbone'],\n",
    "                                   'forces': [100*kilojoules_per_mole/angstroms]}}\n",
    "\n",
    "NPT_protocolDES={'ensemble': 'NVT',\n",
    "               'step': 20*nanoseconds, \n",
    "               'report': std_report, \n",
    "               'restrained_sets': {'selections': ['protein and backbone'],\n",
    "                                   'forces': [100*kilojoules_per_mole/angstroms]}}\n",
    "\n",
    "\n",
    "calb_protonation_dict={('A',187): 'ASP', ('A',224): 'HID'} \n",
    "#Aspartic acid: ASH: Neutral form with a hydrogen on one of the delta oxygens ASP: Negatively charged form without a hydrogen on either delta oxygen\n",
    "#Histidine: HID: Neutral form with a hydrogen on the ND1 atom HIE: Neutral form with a hydrogen on the NE2 atom HIP: Positively charged form with hydrogens on both ND1 and NE2                   \n",
    "\n",
    "                   \n"
   ]
  },
  {
   "cell_type": "markdown",
   "metadata": {},
   "source": [
    "# Protocols"
   ]
  },
  {
   "cell_type": "code",
   "execution_count": null,
   "metadata": {},
   "outputs": [],
   "source": [
    "pdb='5a71_a.pdb'\n",
    "\n",
    "importlib.reload(P)\n",
    "sim_tools=P.Protocols(workdir=data_path)\n",
    "\n",
    "system_omm=sim_tools.pdb2omm(input_pdbs=pdb, \n",
    "                            extra_ff_files=['gaff-2.11modv3_1.xml'], \n",
    "                            protonate=True,\n",
    "                            solvate=True,\n",
    "                            inspect=True,\n",
    "                            pH_protein=7.0) "
   ]
  },
  {
   "cell_type": "code",
   "execution_count": null,
   "metadata": {},
   "outputs": [],
   "source": [
    "list_of_T=[300*kelvin,350*kelvin, 400*kelvin, 450*kelvin]\n",
    "\n",
    "for t in list_of_T:\n",
    "        \n",
    "        sim_tools=P.Protocols(workdir=data_path)\n",
    "        \n",
    "        system_omm=sim_tools.pdb2omm(input_pdbs=pdb, \n",
    "                            extra_ff_files=['gaff-2.11modv3_1.xml'], \n",
    "                            protonate=True,\n",
    "                            solvate=True,\n",
    "                            inspect=True,\n",
    "                            pH_protein=7.0) \n",
    "        system_omm.setSimulations(dt = 0.002*picoseconds, \n",
    "                          temperature = t*kelvin, \n",
    "                          friction = 1/picosecond,\n",
    "                          equilibrations=[NPT_protocolW],\n",
    "                          pressure=1*atmospheres)\n",
    "        \n",
    "        \n",
    "        system_omm.run_energyMinimization()\n",
    "        system_omm.run_equilibrations()\n"
   ]
  }
 ],
 "metadata": {
  "kernelspec": {
   "display_name": "Python 3",
   "language": "python",
   "name": "python3"
  },
  "language_info": {
   "codemirror_mode": {
    "name": "ipython",
    "version": 3
   },
   "file_extension": ".py",
   "mimetype": "text/x-python",
   "name": "python",
   "nbconvert_exporter": "python",
   "pygments_lexer": "ipython3",
   "version": "3.8.3"
  }
 },
 "nbformat": 4,
 "nbformat_minor": 4
}
