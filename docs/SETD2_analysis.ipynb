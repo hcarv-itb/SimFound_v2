{
 "cells": [
  {
   "cell_type": "markdown",
   "metadata": {},
   "source": [
    "## **SETD2 with SAM, analysis**"
   ]
  },
  {
   "cell_type": "markdown",
   "metadata": {},
   "source": [
    "## **Import modules**"
   ]
  },
  {
   "cell_type": "code",
   "execution_count": 1,
   "metadata": {},
   "outputs": [],
   "source": [
    "import os\n",
    "import sys\n",
    "\n",
    "data_path=os.path.abspath('/media/dataHog/hca/SETD2') #Where your group data is\n",
    "base_path=os.path.abspath('/media/dataHog/hca/SimFound_v2/source/') #Where your source code is (SFv2)\n",
    "\n",
    "sys.path.append(base_path)\n",
    "sys.path.append(data_path)\n",
    "\n",
    "import importlib\n",
    "\n",
    "import warnings\n",
    "warnings.filterwarnings('ignore')\n",
    "import Protocols as P\n",
    "\n",
    "import main\n",
    "import tools\n",
    "import Trajectory\n",
    "import MSM\n",
    "import Featurize as F\n",
    "import Discretize\n",
    "\n",
    "\n",
    "from simtk.unit import *"
   ]
  },
  {
   "cell_type": "markdown",
   "metadata": {},
   "source": [
    "## **Define Project**"
   ]
  },
  {
   "cell_type": "code",
   "execution_count": 2,
   "metadata": {},
   "outputs": [
    {
     "name": "stdout",
     "output_type": "stream",
     "text": [
      "Converted parameter \"temperature\" (in K) into scalar: 310.0 K\n",
      "System defined: ('setd2_open', 'SAM', '310K', '1'), ID: 310.0 K\n",
      "System defined: ('setd2_open', 'SAM', '310K', '2'), ID: 310.0 K\n",
      "System defined: ('setd2_open', 'SAM', '310K', '3'), ID: 310.0 K\n",
      "System defined: ('setd2_open', 'SAM', '310K', '4'), ID: 310.0 K\n",
      "System defined: ('setd2_open', 'SAM', '310K', '5'), ID: 310.0 K\n",
      "System defined: ('setd2_open', 'SAM', '310K', '6'), ID: 310.0 K\n",
      "System defined: ('setd2_open', 'SAM', '310K', '7'), ID: 310.0 K\n",
      "System defined: ('setd2_open', 'SAM', '310K', '8'), ID: 310.0 K\n",
      "System defined: ('setd2_open', 'SAM', '310K', '9'), ID: 310.0 K\n",
      "System defined: ('setd2_open', 'SAM', '310K', '10'), ID: 310.0 K\n",
      "System defined: ('setd2_open', 'SAM', '310K', '11'), ID: 310.0 K\n",
      "System defined: ('setd2_open', 'SAM', '310K', '12'), ID: 310.0 K\n",
      "System defined: ('setd2_open', 'SAM', '310K', '13'), ID: 310.0 K\n",
      "System defined: ('setd2_open', 'SAM', '310K', '14'), ID: 310.0 K\n",
      "System defined: ('setd2_open', 'SAM', '310K', '15'), ID: 310.0 K\n",
      "System defined: ('setd2_open', 'SAM', '310K', '16'), ID: 310.0 K\n",
      "System defined: ('setd2_open', 'SAM', '310K', '17'), ID: 310.0 K\n",
      "System defined: ('setd2_open', 'SAM', '310K', '18'), ID: 310.0 K\n",
      "System defined: ('setd2_open', 'SAM', '310K', '19'), ID: 310.0 K\n",
      "System defined: ('setd2_open', 'SAM', '310K', '20'), ID: 310.0 K\n",
      "System defined: ('setd2_open', 'SAM', '310K', '21'), ID: 310.0 K\n",
      "System defined: ('setd2_open', 'SAM', '310K', '22'), ID: 310.0 K\n",
      "System defined: ('setd2_open', 'SAM', '310K', '23'), ID: 310.0 K\n",
      "System defined: ('setd2_open', 'SAM', '310K', '24'), ID: 310.0 K\n",
      "System defined: ('setd2_open', 'SAM', '310K', '25'), ID: 310.0 K\n"
     ]
    }
   ],
   "source": [
    "importlib.reload(Trajectory)\n",
    "importlib.reload(main)\n",
    "\n",
    "workdir=data_path\n",
    "results=workdir+'/results'\n",
    "inputs=workdir+'inputs/structures/'\n",
    "\n",
    "workdir=tools.Functions.fileHandler([workdir], _new=False)\n",
    "tools.Functions.fileHandler([results, inputs])\n",
    "\n",
    "\n",
    "#protein=['WT', 'R167Q', 'I602G']\n",
    "protein=['setd2_open']\n",
    "\n",
    "ligand=['SAM']\n",
    "parameters=['310K']\n",
    "timestep=20*picoseconds\n",
    "\n",
    "project=main.Project(title='SETD2-SAM', \n",
    "                     hierarchy=('protein', 'ligand', 'parameter'), \n",
    "                     workdir=workdir,\n",
    "                     parameter=parameters, \n",
    "                     replicas=25, \n",
    "                     protein=protein, \n",
    "                     ligand=ligand, \n",
    "                     results=results,\n",
    "                     topology='SETD2.pdb',\n",
    "                     timestep=timestep,\n",
    "                    initial_replica=1)\n",
    "\n",
    "\n",
    "project_systems=project.setSystems()"
   ]
  },
  {
   "cell_type": "markdown",
   "metadata": {},
   "source": [
    "## **Markov State Models**\n"
   ]
  },
  {
   "cell_type": "code",
   "execution_count": null,
   "metadata": {
    "tags": []
   },
   "outputs": [
    {
     "name": "stdout",
     "output_type": "stream",
     "text": [
      "Results will be stored under:  /media/dataHog/hca/SETD2/results\n",
      "Extracting feature:  torsions\n",
      "Extracting feature:  positions\n",
      "Extracting feature:  min_dist\n"
     ]
    }
   ],
   "source": [
    "importlib.reload(MSM)\n",
    "import numpy as np\n",
    "protein_regions = {'loop_IN' : 'resid 240 to 255',\n",
    "                   'post_SET_domain' : 'resid 220 to 240',\n",
    "                   'combined' : 'resid 220 to 254',\n",
    "                   'loopIN_SETcd' : ('resid 248 and sidechain', 'resid 136 to 147 and sidechain'),\n",
    "                    'SETcd_helix' : 'resid 136 to 147'}\n",
    "\n",
    "protein_regions = {'loopIN_SETcd' : ('resid 248 and sidechain', 'resid 136 to 147 and sidechain'),\n",
    "                    'SETcd_helix' : 'resid 136 to 147'}\n",
    "\n",
    "vamp_lags=[1, 2, 10, 50, 100, 200, 500, 1000]\n",
    "\n",
    "features_to_extract=['torsions', 'positions', 'min_dist', 'contacts']\n",
    "#input_regular='resid 241 to 253'\n",
    "\n",
    "kinetic_models={}\n",
    "kinetics=MSM.MSM(project_systems, results=results, timestep=timestep, stride=1)\n",
    "\n",
    "for name, region in protein_regions.items():\n",
    "        kinetic_models[name]=kinetics.calculate(region,\n",
    "                                                     method='VAMP',\n",
    "                                                     evaluate='dimensions',\n",
    "                                                     features=features_to_extract, \n",
    "                                                     ft_name=name, \n",
    "                                                     lags=vamp_lags, \n",
    "                                                     dim=0.9)   \n"
   ]
  },
  {
   "cell_type": "code",
   "execution_count": null,
   "metadata": {},
   "outputs": [],
   "source": [
    "\n"
   ]
  }
 ],
 "metadata": {
  "kernelspec": {
   "display_name": "Python 3",
   "language": "python",
   "name": "python3"
  },
  "language_info": {
   "codemirror_mode": {
    "name": "ipython",
    "version": 3
   },
   "file_extension": ".py",
   "mimetype": "text/x-python",
   "name": "python",
   "nbconvert_exporter": "python",
   "pygments_lexer": "ipython3",
   "version": "3.7.10"
  }
 },
 "nbformat": 4,
 "nbformat_minor": 4
}
