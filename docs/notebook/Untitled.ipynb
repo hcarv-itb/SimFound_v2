{
 "cells": [
  {
   "cell_type": "code",
   "execution_count": 6,
   "metadata": {},
   "outputs": [],
   "source": [
    "import os\n",
    "\n",
    "os.chdir(f'{os.getcwd()}\\project_results')"
   ]
  },
  {
   "cell_type": "code",
   "execution_count": 7,
   "metadata": {},
   "outputs": [
    {
     "data": {
      "text/plain": [
       "'C:\\\\Users\\\\hcarv\\\\Documents\\\\GitHub\\\\ProLig\\\\docs\\\\notebook\\\\project_results'"
      ]
     },
     "execution_count": 7,
     "metadata": {},
     "output_type": "execute_result"
    }
   ],
   "source": [
    "os.getcwd()"
   ]
  },
  {
   "cell_type": "code",
   "execution_count": 30,
   "metadata": {},
   "outputs": [
    {
     "name": "stdout",
     "output_type": "stream",
     "text": [
      "<__main__.InteractiveHotspot object at 0x000001E28808A370>\n",
      "file not found\n",
      "file not found\n",
      "file not found\n",
      "file not found\n"
     ]
    }
   ],
   "source": [
    "\n",
    "import MDAnalysis as mda\n",
    "\n",
    "import nglview\n",
    "from ipywidgets import interactive, VBox\n",
    "\n",
    "def load_data(base_path):\n",
    "    \"\"\"\n",
    "    Loads the protein and hotspot maps\n",
    "    :param base_path: path to directory holding the results \n",
    "                      of the hotspot calculation\n",
    "    \"\"\"\n",
    "    view = nglview.NGLWidget()\n",
    "    view.add_component(pdb)\n",
    "    view.add_component(trj)\n",
    "    view.add_component(dx)\n",
    "    \n",
    "    return view\n",
    "\n",
    "class InteractiveHotspot():\n",
    "    def __init__(self, hotspot_path):\n",
    "        self.view = load_data(hotspot_path)\n",
    "\n",
    "    def get_component_index(self, component_name):\n",
    "        \"\"\"\n",
    "        Given the name of the loaded file (or a partial string),\n",
    "        returns the component index if loaded\n",
    "        \"\"\"\n",
    "        all_components = self.view._ngl_component_names\n",
    "        component_idx = all_components.index([i for i in all_components \n",
    "                                              if component_name in i][0])\n",
    "        return component_idx\n",
    "    \n",
    "    def threshold_isosurface(self, probe_name, threshold):\n",
    "        \"\"\"\n",
    "        Controls the representation of the map for specific probe\n",
    "        :param probe_name: string, one of 'donor', 'acceptor', 'apolar'\n",
    "        :param threshold: threshold value for displaying the hotspot map\n",
    "        \"\"\"\n",
    "        colour_dict = {'donor': 'blue',\n",
    "                       'acceptor': 'red',\n",
    "                       'apolar': '#FFF176'}\n",
    "        comp_idx = self.get_component_index(probe_name)\n",
    "        repr_params = [{'type': 'surface',\n",
    "                        'params': {'opacity': 0.4,\n",
    "                                   'isolevelType': 'value',\n",
    "                                   'isolevel': threshold,\n",
    "                                   'color': colour_dict[probe_name]}}]\n",
    "        self.view.set_representations(repr_params, component=comp_idx)\n",
    "\n",
    "hotspot_result_path = os.getcwd()\n",
    "hotspot = InteractiveHotspot(hotspot_result_path)\n",
    "\n",
    "controls = interactive(hotspot.threshold_isosurface, \n",
    "                       probe_name=['donor', 'acceptor', 'apolar'], \n",
    "                       threshold=range(30))\n",
    "VBox([hotspot.view, controls])\n",
    "\n",
    "print(hotspot)\n",
    "\n",
    "base_name='superposed'\n",
    "conc=['50mM', '150mM', '300mM', '600mM', '1M', '2.5M', '5.5M']\n",
    "iters=(11, 13,15)\n",
    "for c in conc:\n",
    "    for it in iters:\n",
    "        pdb=f'{base_name}_{c}_it{it}.pdb'\n",
    "        dx=f'{base_name}_{c}_it{it}-Molar.dx'\n",
    "        trj=f'{base_name}_{c}_it{it}.xtc'\n",
    "        \n",
    "        try:\n",
    "            u=mda.Universe(pdb, trj)\n",
    "        except:\n",
    "            print('file not found')"
   ]
  },
  {
   "cell_type": "code",
   "execution_count": null,
   "metadata": {},
   "outputs": [],
   "source": []
  }
 ],
 "metadata": {
  "kernelspec": {
   "display_name": "Python 3",
   "language": "python",
   "name": "python3"
  },
  "language_info": {
   "codemirror_mode": {
    "name": "ipython",
    "version": 3
   },
   "file_extension": ".py",
   "mimetype": "text/x-python",
   "name": "python",
   "nbconvert_exporter": "python",
   "pygments_lexer": "ipython3",
   "version": "3.8.3"
  }
 },
 "nbformat": 4,
 "nbformat_minor": 4
}
