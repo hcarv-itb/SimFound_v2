{
 "cells": [
  {
   "cell_type": "markdown",
   "metadata": {},
   "source": [
    "# **SFv2 Template notebook**"
   ]
  },
  {
   "cell_type": "markdown",
   "metadata": {},
   "source": [
    "## Import modules"
   ]
  },
  {
   "cell_type": "code",
   "execution_count": 1,
   "metadata": {},
   "outputs": [],
   "source": [
    "import os\n",
    "import sys\n",
    "\n",
    "data_path=os.path.abspath('C:/Users/hcarv/Documents/work/Protein Design 2021/Group1') #Where your group data is\n",
    "base_path=os.path.abspath('C:/Users/hcarv/Documents/GitHub/SimFound_v2/source/') #Where your source code is (SFv2)\n",
    "\n",
    "sys.path.append(base_path)\n",
    "sys.path.append(data_path)\n",
    "\n",
    "import importlib\n",
    "\n",
    "import Protocols as P\n",
    "\n",
    "from simtk.unit import *\n"
   ]
  },
  {
   "cell_type": "markdown",
   "metadata": {},
   "source": [
    "## Set defaults"
   ]
  },
  {
   "cell_type": "code",
   "execution_count": 2,
   "metadata": {},
   "outputs": [],
   "source": [
    "std_report=100\n",
    "\n",
    "CALB_variants={('A',187): 'ASP', \n",
    "                       ('A',224): 'HID'}\n",
    "\n",
    "SETD2_variants={('A',1499): 'CYX', \n",
    "                    ('A',1501): 'CYX', \n",
    "                    ('A',1516): 'CYX', \n",
    "                    ('A',1520): 'CYX', \n",
    "                    ('A',1529): 'CYX', \n",
    "                    ('A',1533):'CYX', \n",
    "                    ('A',1539):'CYX', \n",
    "                    ('A',1631):'CYX', \n",
    "                    ('A',1678):'CYX', \n",
    "                    ('A',1680):'CYX', \n",
    "                    ('A',1685):'CYX', \n",
    "                    ('B',36): 'LYN'} \n",
    "\n",
    "CALB_defaults={'ensemble': 'NPT',\n",
    "               'step': 1*picoseconds, \n",
    "               'report': std_report, \n",
    "               'restrained_sets': {'selections': ['protein and backbone'],\n",
    "                                   'forces': [100*kilojoules_per_mole/angstroms]}}\n",
    "\n",
    "SETD2_defaults={'ensemble': 'NPT',\n",
    "                'step': 100*picoseconds, \n",
    "                'report': std_report, \n",
    "                'restrained_sets': {'selections': ['protein and name CA and not chainid 1', 'chainid 3 and resid 0'],\n",
    "                                    'forces': [100*kilojoules_per_mole/angstroms, 150*kilojoules_per_mole/angstroms]}}"
   ]
  },
  {
   "cell_type": "markdown",
   "metadata": {},
   "source": [
    "# **Protocols**\n",
    "\n",
    "## 1. From PDB to openMM: pdb2omm"
   ]
  },
  {
   "cell_type": "code",
   "execution_count": 3,
   "metadata": {},
   "outputs": [
    {
     "name": "stdout",
     "output_type": "stream",
     "text": [
      "Force field file 1: C:\\Users\\hcarv\\Documents\\work\\Protein Design 2021\\Group1/amber14-all.xml\n",
      "Force field file 2: C:\\Users\\hcarv\\Documents\\work\\Protein Design 2021\\Group1/amber14/tip4pew.xml\n",
      "Force field file 3: C:\\Users\\hcarv\\Documents\\work\\Protein Design 2021\\Group1/gaff-2.11modv3_1.xml\n",
      "Using default force fields: ['C:\\\\Users\\\\hcarv\\\\Documents\\\\work\\\\Protein Design 2021\\\\Group1\\\\amber14-all.xml', 'C:\\\\Users\\\\hcarv\\\\Documents\\\\work\\\\Protein Design 2021\\\\Group1\\\\amber14\\\\tip4pew.xml', 'C:\\\\Users\\\\hcarv\\\\Documents\\\\work\\\\Protein Design 2021\\\\Group1\\\\gaff-2.11modv3_1.xml']\n"
     ]
    },
    {
     "ename": "ValueError",
     "evalue": "Could not locate file \"C:\\Users\\hcarv\\Documents\\work\\Protein Design 2021\\Group1\\amber14-all.xml\"",
     "output_type": "error",
     "traceback": [
      "\u001b[1;31m---------------------------------------------------------------------------\u001b[0m",
      "\u001b[1;31mValueError\u001b[0m                                Traceback (most recent call last)",
      "\u001b[1;32m<ipython-input-3-edd8edc7507f>\u001b[0m in \u001b[0;36m<module>\u001b[1;34m\u001b[0m\n\u001b[0;32m      4\u001b[0m \u001b[0msim_tools\u001b[0m\u001b[1;33m=\u001b[0m\u001b[0mP\u001b[0m\u001b[1;33m.\u001b[0m\u001b[0mProtocols\u001b[0m\u001b[1;33m(\u001b[0m\u001b[0mworkdir\u001b[0m\u001b[1;33m=\u001b[0m\u001b[0mdata_path\u001b[0m\u001b[1;33m)\u001b[0m\u001b[1;33m\u001b[0m\u001b[1;33m\u001b[0m\u001b[0m\n\u001b[0;32m      5\u001b[0m \u001b[1;33m\u001b[0m\u001b[0m\n\u001b[1;32m----> 6\u001b[1;33m system_omm=sim_tools.pdb2omm(input_pdbs=pdb,\n\u001b[0m\u001b[0;32m      7\u001b[0m                             \u001b[0mextra_ff_files\u001b[0m\u001b[1;33m=\u001b[0m\u001b[1;33m[\u001b[0m\u001b[1;34m'gaff-2.11modv3_1.xml'\u001b[0m\u001b[1;33m]\u001b[0m\u001b[1;33m,\u001b[0m\u001b[1;33m\u001b[0m\u001b[1;33m\u001b[0m\u001b[0m\n\u001b[0;32m      8\u001b[0m                             \u001b[0mprotonate\u001b[0m\u001b[1;33m=\u001b[0m\u001b[1;32mTrue\u001b[0m\u001b[1;33m,\u001b[0m\u001b[1;33m\u001b[0m\u001b[1;33m\u001b[0m\u001b[0m\n",
      "\u001b[1;32m~\\Documents\\GitHub\\SimFound_v2\\source\\Protocols.py\u001b[0m in \u001b[0;36mpdb2omm\u001b[1;34m(self, input_pdbs, solvate, protonate, fix_pdb, inspect, extra_input_pdb, ff_files, extra_ff_files, extra_names, other_ff_instance, pH_protein, residue_variants)\u001b[0m\n\u001b[0;32m    156\u001b[0m         \u001b[0mpre_system\u001b[0m \u001b[1;33m=\u001b[0m \u001b[0mapp\u001b[0m\u001b[1;33m.\u001b[0m\u001b[0mModeller\u001b[0m\u001b[1;33m(\u001b[0m\u001b[0mpdb\u001b[0m\u001b[1;33m.\u001b[0m\u001b[0mtopology\u001b[0m\u001b[1;33m,\u001b[0m \u001b[0mpdb\u001b[0m\u001b[1;33m.\u001b[0m\u001b[0mpositions\u001b[0m\u001b[1;33m)\u001b[0m\u001b[1;33m\u001b[0m\u001b[1;33m\u001b[0m\u001b[0m\n\u001b[0;32m    157\u001b[0m \u001b[1;33m\u001b[0m\u001b[0m\n\u001b[1;32m--> 158\u001b[1;33m         forcefield=self.setForceFields(ff_files=ff_files, \n\u001b[0m\u001b[0;32m    159\u001b[0m                                          \u001b[0mextra_ff_files\u001b[0m\u001b[1;33m=\u001b[0m\u001b[0mextra_ff_files\u001b[0m\u001b[1;33m,\u001b[0m\u001b[1;33m\u001b[0m\u001b[1;33m\u001b[0m\u001b[0m\n\u001b[0;32m    160\u001b[0m                                          omm_ff=False)\n",
      "\u001b[1;32m~\\Documents\\GitHub\\SimFound_v2\\source\\Protocols.py\u001b[0m in \u001b[0;36msetForceFields\u001b[1;34m(self, ff_files, extra_ff_files, omm_ff, ff_path, defaults, add_residue_file)\u001b[0m\n\u001b[0;32m    620\u001b[0m             \u001b[0mprint\u001b[0m\u001b[1;33m(\u001b[0m\u001b[1;34mf'Using default force fields: {defaults}'\u001b[0m\u001b[1;33m)\u001b[0m\u001b[1;33m\u001b[0m\u001b[1;33m\u001b[0m\u001b[0m\n\u001b[0;32m    621\u001b[0m             \u001b[1;31m#ff_files=defaults\u001b[0m\u001b[1;33m\u001b[0m\u001b[1;33m\u001b[0m\u001b[1;33m\u001b[0m\u001b[0m\n\u001b[1;32m--> 622\u001b[1;33m             \u001b[0mforcefield\u001b[0m \u001b[1;33m=\u001b[0m \u001b[0mapp\u001b[0m\u001b[1;33m.\u001b[0m\u001b[0mForceField\u001b[0m\u001b[1;33m(\u001b[0m\u001b[1;33m*\u001b[0m\u001b[0mff_files\u001b[0m\u001b[1;33m)\u001b[0m\u001b[1;33m\u001b[0m\u001b[1;33m\u001b[0m\u001b[0m\n\u001b[0m\u001b[0;32m    623\u001b[0m \u001b[1;33m\u001b[0m\u001b[0m\n\u001b[0;32m    624\u001b[0m         \u001b[1;32melif\u001b[0m \u001b[0momm_ff\u001b[0m\u001b[1;33m:\u001b[0m\u001b[1;33m\u001b[0m\u001b[1;33m\u001b[0m\u001b[0m\n",
      "\u001b[1;32m~\\anaconda3\\lib\\site-packages\\simtk\\openmm\\app\\forcefield.py\u001b[0m in \u001b[0;36m__init__\u001b[1;34m(self, *files)\u001b[0m\n\u001b[0;32m    211\u001b[0m         \u001b[0mself\u001b[0m\u001b[1;33m.\u001b[0m\u001b[0m_scripts\u001b[0m \u001b[1;33m=\u001b[0m \u001b[1;33m[\u001b[0m\u001b[1;33m]\u001b[0m\u001b[1;33m\u001b[0m\u001b[1;33m\u001b[0m\u001b[0m\n\u001b[0;32m    212\u001b[0m         \u001b[0mself\u001b[0m\u001b[1;33m.\u001b[0m\u001b[0m_templateGenerators\u001b[0m \u001b[1;33m=\u001b[0m \u001b[1;33m[\u001b[0m\u001b[1;33m]\u001b[0m\u001b[1;33m\u001b[0m\u001b[1;33m\u001b[0m\u001b[0m\n\u001b[1;32m--> 213\u001b[1;33m         \u001b[0mself\u001b[0m\u001b[1;33m.\u001b[0m\u001b[0mloadFile\u001b[0m\u001b[1;33m(\u001b[0m\u001b[0mfiles\u001b[0m\u001b[1;33m)\u001b[0m\u001b[1;33m\u001b[0m\u001b[1;33m\u001b[0m\u001b[0m\n\u001b[0m\u001b[0;32m    214\u001b[0m \u001b[1;33m\u001b[0m\u001b[0m\n\u001b[0;32m    215\u001b[0m     \u001b[1;32mdef\u001b[0m \u001b[0mloadFile\u001b[0m\u001b[1;33m(\u001b[0m\u001b[0mself\u001b[0m\u001b[1;33m,\u001b[0m \u001b[0mfiles\u001b[0m\u001b[1;33m,\u001b[0m \u001b[0mresname_prefix\u001b[0m\u001b[1;33m=\u001b[0m\u001b[1;34m''\u001b[0m\u001b[1;33m)\u001b[0m\u001b[1;33m:\u001b[0m\u001b[1;33m\u001b[0m\u001b[1;33m\u001b[0m\u001b[0m\n",
      "\u001b[1;32m~\\anaconda3\\lib\\site-packages\\simtk\\openmm\\app\\forcefield.py\u001b[0m in \u001b[0;36mloadFile\u001b[1;34m(self, files, resname_prefix)\u001b[0m\n\u001b[0;32m    261\u001b[0m                 \u001b[1;32mraise\u001b[0m \u001b[0mException\u001b[0m\u001b[1;33m(\u001b[0m\u001b[0mmsg\u001b[0m\u001b[1;33m)\u001b[0m\u001b[1;33m\u001b[0m\u001b[1;33m\u001b[0m\u001b[0m\n\u001b[0;32m    262\u001b[0m             \u001b[1;32mif\u001b[0m \u001b[0mtree\u001b[0m \u001b[1;32mis\u001b[0m \u001b[1;32mNone\u001b[0m\u001b[1;33m:\u001b[0m\u001b[1;33m\u001b[0m\u001b[1;33m\u001b[0m\u001b[0m\n\u001b[1;32m--> 263\u001b[1;33m                 \u001b[1;32mraise\u001b[0m \u001b[0mValueError\u001b[0m\u001b[1;33m(\u001b[0m\u001b[1;34m'Could not locate file \"%s\"'\u001b[0m \u001b[1;33m%\u001b[0m \u001b[0mfile\u001b[0m\u001b[1;33m)\u001b[0m\u001b[1;33m\u001b[0m\u001b[1;33m\u001b[0m\u001b[0m\n\u001b[0m\u001b[0;32m    264\u001b[0m \u001b[1;33m\u001b[0m\u001b[0m\n\u001b[0;32m    265\u001b[0m             \u001b[0mtrees\u001b[0m\u001b[1;33m.\u001b[0m\u001b[0mappend\u001b[0m\u001b[1;33m(\u001b[0m\u001b[0mtree\u001b[0m\u001b[1;33m)\u001b[0m\u001b[1;33m\u001b[0m\u001b[1;33m\u001b[0m\u001b[0m\n",
      "\u001b[1;31mValueError\u001b[0m: Could not locate file \"C:\\Users\\hcarv\\Documents\\work\\Protein Design 2021\\Group1\\amber14-all.xml\""
     ]
    }
   ],
   "source": [
    "pdb='5a71a.pdb'\n",
    "\n",
    "importlib.reload(P)\n",
    "sim_tools=P.Protocols(workdir=data_path)\n",
    "\n",
    "system_omm=sim_tools.pdb2omm(input_pdbs=pdb,\n",
    "                            extra_ff_files=['gaff-2.11modv3_1.xml'], \n",
    "                            protonate=True,\n",
    "                            solvate=True,\n",
    "                            inspect=True,\n",
    "                            pH_protein=7.0,\n",
    "                            residue_variants=CALB_variants) "
   ]
  },
  {
   "cell_type": "markdown",
   "metadata": {},
   "source": [
    "## 2. Set simulations"
   ]
  },
  {
   "cell_type": "markdown",
   "metadata": {},
   "source": [
    "## 2. Set simulations"
   ]
  },
  {
   "cell_type": "code",
<<<<<<< Updated upstream
   "execution_count": 4,
   "metadata": {},
   "outputs": [
    {
     "name": "stdout",
     "output_type": "stream",
     "text": [
      "<simtk.openmm.openmm.Platform; proxy of <Swig Object of type 'OpenMM::Platform *' at 0x00000241BF885960> >\n",
      "Setting equilibration protocol:\n",
      "\tensemble: NPT\n",
      "\tstep: 1 ps\n",
      "\treport: 100\n",
      "\trestrained_sets: {'selections': ['protein and backbone'], 'forces': [Quantity(value=100, unit=kilojoule/(angstrom*mole))]}\n",
      "Steps is not unitless: 1 ps\n",
      "Converted to unitless using integration time of 0.002 ps: 500\n"
     ]
    },
    {
     "data": {
      "text/plain": [
       "<simtk.openmm.app.simulation.Simulation at 0x241bf8e8bb0>"
      ]
     },
     "execution_count": 4,
     "metadata": {},
     "output_type": "execute_result"
    }
   ],
=======
   "execution_count": null,
   "metadata": {},
   "outputs": [],
>>>>>>> Stashed changes
   "source": [
    "system_omm.setSimulations(dt = 0.002*picoseconds, \n",
    "                          temperature = 300*kelvin, \n",
    "                          friction = 1/picosecond,\n",
    "                          equilibrations=[CALB_defaults],\n",
    "                          pressure=1*atmospheres)"
   ]
  },
  {
   "cell_type": "markdown",
   "metadata": {},
   "source": [
    "## **Run simulations**\n",
    "\n",
    "1. Energy minimization\n",
    "2. Equilibration(s)\n",
    "3. Production(s)"
   ]
  },
  {
   "cell_type": "code",
   "execution_count": null,
   "metadata": {},
<<<<<<< Updated upstream
   "outputs": [
    {
     "name": "stdout",
     "output_type": "stream",
     "text": [
      "Performing energy minimization: -996161.5042478982 kJ/mol\n",
      "System is now minimized: -1270673.5042478982 kJ/mol\n",
      "PDB file generated: C:\\Users\\hcarv\\Documents\\work\\Protein Design 2021\\Group1/Emin.pdb\n",
      "Run: NPT\n",
      "Restrained NPT equilibration (1.0 ps)...\n",
      "NPT equilibration finished.\n",
      "PDB file generated: C:\\Users\\hcarv\\Documents\\work\\Protein Design 2021\\Group1/EQ_NPT.pdb\n",
      "System is now equilibrated (?): -1108031.5042478982 kJ/mol\n"
     ]
    },
    {
     "data": {
      "text/plain": [
       "<module 'simtk.openmm.app.simulation' from 'C:\\\\Users\\\\hcarv\\\\anaconda3\\\\lib\\\\site-packages\\\\simtk\\\\openmm\\\\app\\\\simulation.py'>"
      ]
     },
     "execution_count": 5,
     "metadata": {},
     "output_type": "execute_result"
    }
   ],
=======
   "outputs": [],
>>>>>>> Stashed changes
   "source": [
    "system_omm.run_energyMinimization()\n",
    "system_omm.run_equilibrations()\n",
    "#TODO: system_omm.run_productions()"
   ]
  },
  {
   "cell_type": "code",
   "execution_count": null,
   "metadata": {},
   "outputs": [],
   "source": []
  }
 ],
 "metadata": {
  "kernelspec": {
   "display_name": "Python 3",
   "language": "python",
   "name": "python3"
  },
  "language_info": {
   "codemirror_mode": {
    "name": "ipython",
    "version": 3
   },
   "file_extension": ".py",
   "mimetype": "text/x-python",
   "name": "python",
   "nbconvert_exporter": "python",
   "pygments_lexer": "ipython3",
   "version": "3.8.3"
  }
 },
 "nbformat": 4,
 "nbformat_minor": 4
}
