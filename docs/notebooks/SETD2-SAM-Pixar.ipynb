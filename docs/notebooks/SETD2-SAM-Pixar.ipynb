{
 "cells": [
  {
   "cell_type": "markdown",
   "metadata": {},
   "source": [
    "## **SETD2 with SAM**"
   ]
  },
  {
   "cell_type": "markdown",
   "metadata": {},
   "source": [
    "## **Import modules**"
   ]
  },
  {
   "cell_type": "code",
   "execution_count": 1,
   "metadata": {},
   "outputs": [],
   "source": [
    "import os\n",
    "import sys\n",
    "\n",
    "data_path=os.path.abspath('/media/dataHog/hca/SETD2') #Where your group data is\n",
    "base_path=os.path.abspath('/media/dataHog/hca/SimFound_v2/source/') #Where your source code is (SFv2)\n",
    "\n",
    "sys.path.append(base_path)\n",
    "sys.path.append(data_path)\n",
    "\n",
    "import importlib\n",
    "\n",
    "import warnings\n",
    "warnings.filterwarnings('ignore')\n",
    "import Protocols as P\n",
    "\n",
    "import main\n",
    "import tools\n",
    "import Featurize as F\n",
    "\n",
    "\n",
    "from simtk.unit import *"
   ]
  },
  {
   "cell_type": "markdown",
   "metadata": {},
   "source": [
    "## **Define Project**"
   ]
  },
  {
   "cell_type": "code",
   "execution_count": 2,
   "metadata": {},
   "outputs": [
    {
     "name": "stdout",
     "output_type": "stream",
     "text": [
      "Converted parameter \"temperature\" (in K) into scalar: 310.0 K\n",
      "System setd2_open-SAM-310K-16 with parameter 310.0 K defined\n",
      "top setd2_open-SAM-310K-16\n",
      "System setd2_open-SAM-310K-17 with parameter 310.0 K defined\n",
      "top setd2_open-SAM-310K-17\n",
      "System setd2_open-SAM-310K-18 with parameter 310.0 K defined\n",
      "top setd2_open-SAM-310K-18\n",
      "System setd2_open-SAM-310K-19 with parameter 310.0 K defined\n",
      "top setd2_open-SAM-310K-19\n",
      "System setd2_open-SAM-310K-20 with parameter 310.0 K defined\n",
      "top setd2_open-SAM-310K-20\n"
     ]
    }
   ],
   "source": [
    "importlib.reload(main)\n",
    "\n",
    "workdir=data_path\n",
    "results=workdir+'/results'\n",
    "inputs=workdir+'inputs/structures/'\n",
    "\n",
    "workdir=tools.Functions.fileHandler([workdir], _new=False)\n",
    "tools.Functions.fileHandler([results, inputs])\n",
    "\n",
    "\n",
    "#protein=['WT', 'R167Q', 'I602G']\n",
    "protein=['setd2_open']\n",
    "\n",
    "ligand=['SAM']\n",
    "parameters=['310K']\n",
    "timestep=20*picoseconds\n",
    "\n",
    "project=main.Project(title='SETD2-SAM', \n",
    "                     hierarchy=('protein', 'ligand', 'parameter'), \n",
    "                     workdir=workdir,\n",
    "                     parameter=parameters, \n",
    "                     replicas=20, \n",
    "                     protein=protein, \n",
    "                     ligand=ligand, \n",
    "                     results=results,\n",
    "                     topology='wt_SETD2.pdb',\n",
    "                     timestep=timestep,\n",
    "                    initial_replica=16)\n",
    "\n",
    "\n",
    "project_systems=project.setSystems()"
   ]
  },
  {
   "cell_type": "markdown",
   "metadata": {},
   "source": [
    "## **Simulation Protocol**"
   ]
  },
  {
   "cell_type": "markdown",
   "metadata": {},
   "source": [
    "## Set defaults"
   ]
  },
  {
   "cell_type": "code",
   "execution_count": 3,
   "metadata": {},
   "outputs": [],
   "source": [
    "\n",
    "SETD2_variants={('A',1499): 'CYX',\n",
    "                ('A',1501): 'CYX',\n",
    "                ('A',1516): 'CYX',\n",
    "                ('A',1520): 'CYX',\n",
    "                ('A',1529): 'CYX',\n",
    "                ('A',1533):'CYX',\n",
    "                ('A',1539):'CYX',\n",
    "                ('A',1631):'CYX',\n",
    "                ('A',1678):'CYX',\n",
    "                ('A',1680):'CYX',\n",
    "                ('A',1685):'CYX'}\n",
    "\n",
    "NPT_equilibration={'ensemble': 'NPT',\n",
    "                'step': 5*nanoseconds, \n",
    "                'report': timestep, \n",
    "                'restrained_sets': {'selections': ['protein and backbone', 'resname ZNB', 'resname SAM'],\n",
    "                                    'forces': [100*kilojoules_per_mole/angstroms, 150*kilojoules_per_mole/angstroms, 150*kilojoules_per_mole/angstroms]}}\n",
    "\n",
    "NPT_production={'ensemble': 'NPT',\n",
    "                'step': 500*nanoseconds, \n",
    "                'report': timestep}"
   ]
  },
  {
   "cell_type": "markdown",
   "metadata": {},
   "source": [
    "## Setup simulation protocol"
   ]
  },
  {
   "cell_type": "code",
   "execution_count": 5,
   "metadata": {},
   "outputs": [
    {
     "name": "stdout",
     "output_type": "stream",
     "text": [
      "Setting openMM simulation of setd2_open-SAM-310K-16 protocols in None\n",
      "\tWarning! Found conserved openMM system(s). None/omm_1.pkl\n",
      "\tStatus open: 1\n",
      "\tLoading conserved openMM system:  None/omm_1.pkl\n"
     ]
    },
    {
     "ename": "FileNotFoundError",
     "evalue": "[Errno 2] No such file or directory: 'None/system.pdb'",
     "output_type": "error",
     "traceback": [
      "\u001b[0;31m---------------------------------------------------------------------------\u001b[0m",
      "\u001b[0;31mFileNotFoundError\u001b[0m                         Traceback (most recent call last)",
      "\u001b[0;32m<ipython-input-5-b4f18291f885>\u001b[0m in \u001b[0;36m<module>\u001b[0;34m\u001b[0m\n\u001b[1;32m      6\u001b[0m \u001b[0;34m\u001b[0m\u001b[0m\n\u001b[1;32m      7\u001b[0m \u001b[0;34m\u001b[0m\u001b[0m\n\u001b[0;32m----> 8\u001b[0;31m \u001b[0msimulation\u001b[0m\u001b[0;34m=\u001b[0m\u001b[0mP\u001b[0m\u001b[0;34m.\u001b[0m\u001b[0mProtocols\u001b[0m\u001b[0;34m(\u001b[0m\u001b[0mproject\u001b[0m\u001b[0;34m,\u001b[0m \u001b[0moverwrite_mode\u001b[0m\u001b[0;34m=\u001b[0m\u001b[0;32mFalse\u001b[0m\u001b[0;34m)\u001b[0m\u001b[0;34m\u001b[0m\u001b[0;34m\u001b[0m\u001b[0m\n\u001b[0m\u001b[1;32m      9\u001b[0m \u001b[0;34m\u001b[0m\u001b[0m\n\u001b[1;32m     10\u001b[0m simulation.pdb2omm(input_pdb=system.input_topology,\n",
      "\u001b[0;32m/media/dataHog/hca/SimFound_v2/source/Protocols.py\u001b[0m in \u001b[0;36m__init__\u001b[0;34m(self, project, name, def_input_ff, def_input_struct, def_job_folder, overwrite_mode)\u001b[0m\n\u001b[1;32m     69\u001b[0m             \u001b[0mprint\u001b[0m\u001b[0;34m(\u001b[0m\u001b[0;34mf'Setting openMM simulation of {name} protocols in {project.workdir}'\u001b[0m\u001b[0;34m)\u001b[0m\u001b[0;34m\u001b[0m\u001b[0;34m\u001b[0m\u001b[0m\n\u001b[1;32m     70\u001b[0m \u001b[0;34m\u001b[0m\u001b[0m\n\u001b[0;32m---> 71\u001b[0;31m             \u001b[0mself\u001b[0m\u001b[0;34m.\u001b[0m\u001b[0mcheck_omm\u001b[0m\u001b[0;34m(\u001b[0m\u001b[0msystem\u001b[0m\u001b[0;34m,\u001b[0m \u001b[0mself\u001b[0m\u001b[0;34m.\u001b[0m\u001b[0mow_mode\u001b[0m\u001b[0;34m)\u001b[0m\u001b[0;34m\u001b[0m\u001b[0;34m\u001b[0m\u001b[0m\n\u001b[0m\u001b[1;32m     72\u001b[0m             \u001b[0mself\u001b[0m\u001b[0;34m.\u001b[0m\u001b[0mprotocols\u001b[0m\u001b[0;34m[\u001b[0m\u001b[0mname\u001b[0m\u001b[0;34m]\u001b[0m\u001b[0;34m=\u001b[0m\u001b[0msystem\u001b[0m\u001b[0;34m\u001b[0m\u001b[0;34m\u001b[0m\u001b[0m\n\u001b[1;32m     73\u001b[0m \u001b[0;34m\u001b[0m\u001b[0m\n",
      "\u001b[0;32m/media/dataHog/hca/SimFound_v2/source/Protocols.py\u001b[0m in \u001b[0;36mcheck_omm\u001b[0;34m(system, ow_mode)\u001b[0m\n\u001b[1;32m    119\u001b[0m             \u001b[0msystem\u001b[0m\u001b[0;34m.\u001b[0m\u001b[0msystem_omm\u001b[0m \u001b[0;34m=\u001b[0m \u001b[0mpickle\u001b[0m\u001b[0;34m.\u001b[0m\u001b[0mload\u001b[0m\u001b[0;34m(\u001b[0m\u001b[0mpkl_file\u001b[0m\u001b[0;34m)\u001b[0m\u001b[0;34m\u001b[0m\u001b[0;34m\u001b[0m\u001b[0m\n\u001b[1;32m    120\u001b[0m \u001b[0;34m\u001b[0m\u001b[0m\n\u001b[0;32m--> 121\u001b[0;31m             \u001b[0mpdb\u001b[0m \u001b[0;34m=\u001b[0m \u001b[0mapp\u001b[0m\u001b[0;34m.\u001b[0m\u001b[0mPDBFile\u001b[0m\u001b[0;34m(\u001b[0m\u001b[0mref_pdb\u001b[0m\u001b[0;34m)\u001b[0m\u001b[0;34m\u001b[0m\u001b[0;34m\u001b[0m\u001b[0m\n\u001b[0m\u001b[1;32m    122\u001b[0m             \u001b[0;31m#pre_system = app.Modeller(pdb.topology, pdb.positions)\u001b[0m\u001b[0;34m\u001b[0m\u001b[0;34m\u001b[0m\u001b[0;34m\u001b[0m\u001b[0m\n\u001b[1;32m    123\u001b[0m \u001b[0;34m\u001b[0m\u001b[0m\n",
      "\u001b[0;32m~/miniconda3/lib/python3.7/site-packages/simtk/openmm/app/pdbfile.py\u001b[0m in \u001b[0;36m__init__\u001b[0;34m(self, file, extraParticleIdentifier)\u001b[0m\n\u001b[1;32m     91\u001b[0m             \u001b[0mown_handle\u001b[0m \u001b[0;34m=\u001b[0m \u001b[0;32mFalse\u001b[0m\u001b[0;34m\u001b[0m\u001b[0;34m\u001b[0m\u001b[0m\n\u001b[1;32m     92\u001b[0m             \u001b[0;32mif\u001b[0m \u001b[0misinstance\u001b[0m\u001b[0;34m(\u001b[0m\u001b[0mfile\u001b[0m\u001b[0;34m,\u001b[0m \u001b[0mstr\u001b[0m\u001b[0;34m)\u001b[0m\u001b[0;34m:\u001b[0m\u001b[0;34m\u001b[0m\u001b[0;34m\u001b[0m\u001b[0m\n\u001b[0;32m---> 93\u001b[0;31m                 \u001b[0minputfile\u001b[0m \u001b[0;34m=\u001b[0m \u001b[0mopen\u001b[0m\u001b[0;34m(\u001b[0m\u001b[0mfile\u001b[0m\u001b[0;34m)\u001b[0m\u001b[0;34m\u001b[0m\u001b[0;34m\u001b[0m\u001b[0m\n\u001b[0m\u001b[1;32m     94\u001b[0m                 \u001b[0mown_handle\u001b[0m \u001b[0;34m=\u001b[0m \u001b[0;32mTrue\u001b[0m\u001b[0;34m\u001b[0m\u001b[0;34m\u001b[0m\u001b[0m\n\u001b[1;32m     95\u001b[0m             \u001b[0mpdb\u001b[0m \u001b[0;34m=\u001b[0m \u001b[0mPdbStructure\u001b[0m\u001b[0;34m(\u001b[0m\u001b[0minputfile\u001b[0m\u001b[0;34m,\u001b[0m \u001b[0mload_all_models\u001b[0m\u001b[0;34m=\u001b[0m\u001b[0;32mTrue\u001b[0m\u001b[0;34m,\u001b[0m \u001b[0mextraParticleIdentifier\u001b[0m\u001b[0;34m=\u001b[0m\u001b[0mextraParticleIdentifier\u001b[0m\u001b[0;34m)\u001b[0m\u001b[0;34m\u001b[0m\u001b[0;34m\u001b[0m\u001b[0m\n",
      "\u001b[0;31mFileNotFoundError\u001b[0m: [Errno 2] No such file or directory: 'None/system.pdb'"
     ]
    }
   ],
   "source": [
    "importlib.reload(P)\n",
    "importlib.reload(tools)\n",
    "extra_pdb = ['ZNB_open.pdb', 'SAM.pdb']\n",
    "#smiles = 'C[S+](CC[C@@H](C(=O)[O-])N)C[C@@H]1[C@H]([C@H]([C@@H](O1)N2C=NC3=C(N=CN=C32)N)O)O'\n",
    "xml_files = ['protein.ff14SB.xml', 'tip4pew.xml', 'ZNB.xml', 'SAM.xml', 'bonded.xml', 'gaff.xml']\n",
    "\n",
    "\n",
    "simulation=P.Protocols(project, overwrite_mode=False)\n",
    "    \n",
    "simulation.pdb2omm(input_pdb=system.input_topology,\n",
    "                                     extra_input_pdb=extra_pdb,\n",
    "                                     ff_files=xml_files,\n",
    "                                     protonate=True,\n",
    "                                     solvate=True,\n",
    "                                     pH_protein=7.0,\n",
    "                                     residue_variants=SETD2_variants)\n",
    "                                    #insert_molecules=True)\n",
    "                                    #insert_smiles=smiles)\n",
    "simulation.setSimulations(dt=0.002*picoseconds, \n",
    "                                  temperature = system.scalar,\n",
    "                                  pH=7.0,\n",
    "                                  friction = 1/picosecond,\n",
    "                                  equilibrations=[NPT_equilibration],\n",
    "                                  productions=[NPT_production],\n",
    "                                  pressure=1*atmospheres)\n"
   ]
  },
  {
   "cell_type": "markdown",
   "metadata": {},
   "source": [
    "## **WARNING!** Run simulation(s)"
   ]
  },
  {
   "cell_type": "code",
   "execution_count": null,
   "metadata": {},
   "outputs": [],
   "source": [
    "importlib.reload(P)\n",
    "importlib.reload(tools)\n",
    "\n",
    "gpu_index='0'\n",
    "\n",
    "simulations={}\n",
    "for name, simulation in simulated_systems.items():  \n",
    "    simulation.setSimulations(dt=0.002*picoseconds, \n",
    "                                  temperature = system.scalar,\n",
    "                                  pH=7.0,\n",
    "                                  friction = 1/picosecond,\n",
    "                                  equilibrations=[NPT_equilibration],\n",
    "                                  productions=[NPT_production],\n",
    "                                  pressure=1*atmospheres)\n",
    "    \n",
    "    \n",
    "    simulation.runSimulations(run_productions=True,  \n",
    "                              compute_time=2,\n",
    "                              reportFactor=0.05,\n",
    "                             gpu_index=gpu_index)        \n",
    "    \n",
    "    simulations[name]=simulation\n"
   ]
  },
  {
   "cell_type": "code",
   "execution_count": null,
   "metadata": {},
   "outputs": [],
   "source": [
    "simulations"
   ]
  },
  {
   "cell_type": "code",
   "execution_count": null,
   "metadata": {},
   "outputs": [],
   "source": []
  }
 ],
 "metadata": {
  "kernelspec": {
   "display_name": "Python 3",
   "language": "python",
   "name": "python3"
  },
  "language_info": {
   "codemirror_mode": {
    "name": "ipython",
    "version": 3
   },
   "file_extension": ".py",
   "mimetype": "text/x-python",
   "name": "python",
   "nbconvert_exporter": "python",
   "pygments_lexer": "ipython3",
   "version": "3.7.7"
  }
 },
 "nbformat": 4,
 "nbformat_minor": 4
}
