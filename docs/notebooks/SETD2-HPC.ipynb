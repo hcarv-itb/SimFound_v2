{
 "cells": [
  {
   "cell_type": "markdown",
   "metadata": {},
   "source": [
    "## **SETD2_complexed_noSub with SAM @HPC**"
   ]
  },
  {
   "cell_type": "markdown",
   "metadata": {},
   "source": [
    "## **Import modules**"
   ]
  },
  {
   "cell_type": "code",
   "execution_count": 1,
   "metadata": {},
   "outputs": [],
   "source": [
    "import os\n",
    "import sys\n",
    "\n",
    "data_path=os.path.abspath('/pfs/work7/workspace/scratch/st_ac131353-SETD2-0/SETD2/') #Where your group data is\n",
    "base_path=os.path.abspath('/home/st/st_us-030800/st_ac131353/SimFound_v2/source/') #Where your source code is (SFv2)\n",
    "\n",
    "sys.path.append(base_path)\n",
    "sys.path.append(data_path)\n",
    "\n",
    "import warnings\n",
    "warnings.filterwarnings('ignore')\n",
    "import Protocols as P\n",
    "\n",
    "import main\n",
    "import tools\n",
    "import Featurize as F\n",
    "\n",
    "\n",
    "from simtk.unit import *"
   ]
  },
  {
   "cell_type": "markdown",
   "metadata": {},
   "source": [
    "## **Define Project**"
   ]
  },
  {
   "cell_type": "code",
   "execution_count": 2,
   "metadata": {},
   "outputs": [
    {
     "name": "stdout",
     "output_type": "stream",
     "text": [
      "Converted parameter \"temperature\" (in K) into scalar: 310.0 K\n",
      "System defined: ('setd2_open', 'SAM', '310K', '16'), ID: 310.0 K\n",
      "System defined: ('setd2_open', 'SAM', '310K', '17'), ID: 310.0 K\n",
      "System defined: ('setd2_open', 'SAM', '310K', '18'), ID: 310.0 K\n",
      "System defined: ('setd2_open', 'SAM', '310K', '19'), ID: 310.0 K\n",
      "System defined: ('setd2_open', 'SAM', '310K', '20'), ID: 310.0 K\n"
     ]
    }
   ],
   "source": [
    "workdir=data_path\n",
    "results=workdir+'/results'\n",
    "inputs=workdir+'inputs/structures/'\n",
    "\n",
    "workdir=tools.Functions.fileHandler([workdir], _new=False)\n",
    "tools.Functions.fileHandler([results, inputs])\n",
    "\n",
    "protein=['setd2_complexed_noSub']\n",
    "\n",
    "ligand=['SAM']\n",
    "parameters=['310K']\n",
    "timestep=20*picoseconds\n",
    "\n",
    "project=main.Project(title='SETD2-SAM', \n",
    "                     hierarchy=('protein', 'ligand', 'parameter'), \n",
    "                     workdir=workdir,\n",
    "                     parameter=parameters, \n",
    "                     replicas=1, \n",
    "                     protein=protein, \n",
    "                     ligand=ligand, \n",
    "                     results=results,\n",
    "                     topology='SETD2_complexed_noSub.pdb',\n",
    "                     timestep=timestep,\n",
    "                    initial_replica=1)\n",
    "\n",
    "\n",
    "project_systems=project.setSystems()"
   ]
  },
  {
   "cell_type": "markdown",
   "metadata": {},
   "source": [
    "## **Simulation Protocol**"
   ]
  },
  {
   "cell_type": "markdown",
   "metadata": {},
   "source": [
    "## Set defaults"
   ]
  },
  {
   "cell_type": "code",
   "execution_count": 3,
   "metadata": {},
   "outputs": [],
   "source": [
    "\n",
    "SETD2_variants={('A',1499): 'CYX',\n",
    "                ('A',1501): 'CYX',\n",
    "                ('A',1516): 'CYX',\n",
    "                ('A',1520): 'CYX',\n",
    "                ('A',1529): 'CYX',\n",
    "                ('A',1533):'CYX',\n",
    "                ('A',1539):'CYX',\n",
    "                ('A',1631):'CYX',\n",
    "                ('A',1678):'CYX',\n",
    "                ('A',1680):'CYX',\n",
    "                ('A',1685):'CYX'}\n",
    "\n",
    "NPT_equilibration={'ensemble': 'NPT',\n",
    "                'step': 5*nanoseconds, \n",
    "                'report': timestep, \n",
    "                'restrained_sets': {'selections': ['protein and backbone', 'resname ZNB', 'resname SAM'],\n",
    "                                    'forces': [100*kilojoules_per_mole/angstroms, 150*kilojoules_per_mole/angstroms, 150*kilojoules_per_mole/angstroms]}}\n",
    "\n",
    "NPT_production={'ensemble': 'NPT',\n",
    "                'step': 500*nanoseconds, \n",
    "                'report': timestep}"
   ]
  },
  {
   "cell_type": "markdown",
   "metadata": {},
   "source": [
    "## Setup simulation protocol"
   ]
  },
  {
   "cell_type": "code",
   "execution_count": 4,
   "metadata": {},
   "outputs": [
    {
     "name": "stdout",
     "output_type": "stream",
     "text": [
      "Setting openMM simulation protocols in /media/dataHog/hca/SETD2/setd2_open-SAM-310K/replicate16\n",
      "\tWarning! Found conserved openMM system(s). /media/dataHog/hca/SETD2/setd2_open-SAM-310K/replicate16/omm_1.pkl\n",
      "\tOverwrite False: /media/dataHog/hca/SETD2/setd2_open-SAM-310K/replicate16/omm_2.pkl (1)\n"
     ]
    },
    {
     "name": "stderr",
     "output_type": "stream",
     "text": [
      "Warning: Unable to load toolkit 'OpenEye Toolkit'. The Open Force Field Toolkit does not require the OpenEye Toolkits, and can use RDKit/AmberTools instead. However, if you have a valid license for the OpenEye Toolkits, consider installing them for faster performance and additional file format support: https://docs.eyesopen.com/toolkits/python/quickstart-python/linuxosx.html OpenEye offers free Toolkit licenses for academics: https://www.eyesopen.com/academic-licensing\n"
     ]
    },
    {
     "name": "stdout",
     "output_type": "stream",
     "text": [
      "\tLoaded openMM system: \n",
      "\tFile: /media/dataHog/hca/SETD2/setd2_open-SAM-310K/replicate16/system.pdb, \n",
      "\tTopology: <Topology; 5 chains, 22147 residues, 91663 atoms, 47929 bonds>\n",
      "Setting openMM simulation protocols in /media/dataHog/hca/SETD2/setd2_open-SAM-310K/replicate17\n",
      "\tWarning! Found conserved openMM system(s). /media/dataHog/hca/SETD2/setd2_open-SAM-310K/replicate17/omm_1.pkl\n",
      "\tOverwrite False: /media/dataHog/hca/SETD2/setd2_open-SAM-310K/replicate17/omm_2.pkl (1)\n",
      "\tLoaded openMM system: \n",
      "\tFile: /media/dataHog/hca/SETD2/setd2_open-SAM-310K/replicate17/system.pdb, \n",
      "\tTopology: <Topology; 5 chains, 22147 residues, 91663 atoms, 47929 bonds>\n",
      "Setting openMM simulation protocols in /media/dataHog/hca/SETD2/setd2_open-SAM-310K/replicate18\n",
      "\tWarning! Found conserved openMM system(s). /media/dataHog/hca/SETD2/setd2_open-SAM-310K/replicate18/omm_1.pkl\n",
      "\tOverwrite False: /media/dataHog/hca/SETD2/setd2_open-SAM-310K/replicate18/omm_2.pkl (1)\n",
      "\tLoaded openMM system: \n",
      "\tFile: /media/dataHog/hca/SETD2/setd2_open-SAM-310K/replicate18/system.pdb, \n",
      "\tTopology: <Topology; 5 chains, 22147 residues, 91663 atoms, 47929 bonds>\n",
      "Setting openMM simulation protocols in /media/dataHog/hca/SETD2/setd2_open-SAM-310K/replicate19\n",
      "\tWarning! Found conserved openMM system(s). /media/dataHog/hca/SETD2/setd2_open-SAM-310K/replicate19/omm_1.pkl\n",
      "\tOverwrite False: /media/dataHog/hca/SETD2/setd2_open-SAM-310K/replicate19/omm_2.pkl (1)\n",
      "\tLoaded openMM system: \n",
      "\tFile: /media/dataHog/hca/SETD2/setd2_open-SAM-310K/replicate19/system.pdb, \n",
      "\tTopology: <Topology; 5 chains, 22147 residues, 91663 atoms, 47929 bonds>\n",
      "Setting openMM simulation protocols in /media/dataHog/hca/SETD2/setd2_open-SAM-310K/replicate20\n",
      "\tWarning! Found conserved openMM system(s). /media/dataHog/hca/SETD2/setd2_open-SAM-310K/replicate20/omm_1.pkl\n",
      "\tOverwrite False: /media/dataHog/hca/SETD2/setd2_open-SAM-310K/replicate20/omm_2.pkl (1)\n",
      "\tLoaded openMM system: \n",
      "\tFile: /media/dataHog/hca/SETD2/setd2_open-SAM-310K/replicate20/system.pdb, \n",
      "\tTopology: <Topology; 5 chains, 22147 residues, 91663 atoms, 47929 bonds>\n"
     ]
    }
   ],
   "source": [
    "extra_pdb = ['ZNB_complexed.pdb', 'SAM.pdb']\n",
    "xml_files = ['protein.ff14SB.xml', 'tip4pew.xml', 'ZNB.xml', 'SAM.xml', 'bonded.xml', 'gaff.xml']\n",
    "\n",
    "systems={}\n",
    "for name, system in project_systems.items():\n",
    "\n",
    "    if system.ligand == 'SAM':\n",
    "    \n",
    "        sim_tools=P.Protocols(workdir=system.name_folder, \n",
    "                              project_dir=project.workdir,\n",
    "                              def_input_struct=project.def_input_struct,\n",
    "                              def_input_ff=project.def_input_ff,\n",
    "                             overwrite_mode=False)\n",
    "    \n",
    "        system_omm=sim_tools.pdb2omm(input_pdb=system.input_topology,\n",
    "                                     extra_input_pdb=extra_pdb,\n",
    "                                     ff_files=xml_files,\n",
    "                                     protonate=True,\n",
    "                                     solvate=True,\n",
    "                                     pH_protein=7.0,\n",
    "                                     name=name,\n",
    "                                     residue_variants=SETD2_variants)\n",
    "                                    #insert_molecules=True)\n",
    "                                    #insert_smiles=smiles)\n",
    "        system_omm.setSimulations(dt=0.002*picoseconds, \n",
    "                                  temperature = system.scalar,\n",
    "                                  pH=7.0,\n",
    "                                  friction = 1/picosecond,\n",
    "                                  equilibrations=[NPT_equilibration],\n",
    "                                  productions=[NPT_production],\n",
    "                                  pressure=1*atmospheres)\n",
    "                                      \n",
    "        systems[name]=system_omm\n"
   ]
  },
  {
   "cell_type": "markdown",
   "metadata": {},
   "source": [
    "## **WARNING!** Run simulation(s)"
   ]
  },
  {
   "cell_type": "code",
   "execution_count": null,
   "metadata": {},
   "outputs": [
    {
     "name": "stdout",
     "output_type": "stream",
     "text": [
      "The fastest platform is CUDA\n",
      "Selected GPU ID: 0\n",
      "Using platform CUDA, ID: 0\n",
      "Run mode: \n",
      "\tOverwrite: False\n",
      "\tResume: True\n",
      "\tCompute time: 120 min\n",
      "\n",
      "\n",
      "Energy minimization\n",
      "\tA complete checkpoint was found.\n",
      "\tSystem final potential energy: -1278846.8571768869 kJ/mol\n",
      "\n",
      "EQ run 1: NPT\n",
      "\tA complete checkpoint was found.\n",
      "\tSystem final potential energy: -1035707.3757132804 kJ/mol\n",
      "\n",
      "Production run 1: NPT\n",
      "\tA timeout checkpoint was found.\n",
      "\tPDB file generated: /media/dataHog/hca/SETD2/setd2_open-SAM-310K/replicate16/production_NPT-1_init.pdb\n",
      "\tSystem initial potential energy: -1035707.3035844499 kJ/mol\n",
      "\tSimulation time: 441649.24 ps out of 500000.0 ps = 220824620/250000000 steps\n",
      "\tSimulating for 2:00:00 (0:06:00 checkpoints)...\n"
     ]
    }
   ],
   "source": [
    "\n",
    "simulations={}\n",
    "for name, simulation in simulated_systems.items():  \n",
    "    simulation.setSimulations(dt=0.002*picoseconds, \n",
    "                                  temperature = system.scalar,\n",
    "                                  pH=7.0,\n",
    "                                  friction = 1/picosecond,\n",
    "                                  equilibrations=[NPT_equilibration],\n",
    "                                  productions=[NPT_production],\n",
    "                                  pressure=1*atmospheres)\n",
    "    \n",
    "    \n",
    "    simulation.runSimulations(where='HPC',\n",
    "                              run_productions=False,\n",
    "                              run_equilibrations=False,\n",
    "                              compute_time=0.3,\n",
    "                              reportFactor=0.05)        \n",
    "    \n",
    "    simulations[name]=simulation\n"
   ]
  },
  {
   "cell_type": "code",
   "execution_count": null,
   "metadata": {},
   "outputs": [],
   "source": [
    "simulations"
   ]
  },
  {
   "cell_type": "code",
   "execution_count": null,
   "metadata": {},
   "outputs": [],
   "source": []
  }
 ],
 "metadata": {
  "kernelspec": {
   "display_name": "Python 3",
   "language": "python",
   "name": "python3"
  },
  "language_info": {
   "codemirror_mode": {
    "name": "ipython",
    "version": 3
   },
   "file_extension": ".py",
   "mimetype": "text/x-python",
   "name": "python",
   "nbconvert_exporter": "python",
   "pygments_lexer": "ipython3",
   "version": "3.8.3"
  }
 },
 "nbformat": 4,
 "nbformat_minor": 4
}
