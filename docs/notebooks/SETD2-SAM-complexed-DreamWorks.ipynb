{
 "cells": [
  {
   "cell_type": "markdown",
   "metadata": {},
   "source": [
    "## **SETD2 with SAM, complexed pose**"
   ]
  },
  {
   "cell_type": "markdown",
   "metadata": {},
   "source": [
    "## **Import modules**"
   ]
  },
  {
   "cell_type": "code",
   "execution_count": 1,
   "metadata": {},
   "outputs": [
    {
     "name": "stdout",
     "output_type": "stream",
     "text": [
      "some modules not loaded\n"
     ]
    }
   ],
   "source": [
    "import os\n",
    "import sys\n",
    "\n",
    "data_path=os.path.abspath('/media/dataHog/hca/SETD2') #Where your group data is\n",
    "base_path=os.path.abspath('/media/dataHog/hca/SimFound_v2/source/') #Where your source code is (SFv2)\n",
    "\n",
    "sys.path.append(base_path)\n",
    "sys.path.append(data_path)\n",
    "\n",
    "import importlib\n",
    "\n",
    "import warnings\n",
    "warnings.filterwarnings('ignore')\n",
    "import Protocols as P\n",
    "\n",
    "import main\n",
    "import tools\n",
    "import Featurize as F\n",
    "\n",
    "\n",
    "from simtk.unit import *"
   ]
  },
  {
   "cell_type": "markdown",
   "metadata": {},
   "source": [
    "## **Define Project**"
   ]
  },
  {
   "cell_type": "code",
   "execution_count": 3,
   "metadata": {},
   "outputs": [
    {
     "name": "stdout",
     "output_type": "stream",
     "text": [
      "Converted parameter \"temperature\" (in K) into scalar: 310.0 K\n",
      "System defined: ('setd2_complexed', 'SAM', '310K', '3'), ID: 310.0 K\n",
      "System defined: ('setd2_complexed', 'SAM', '310K', '4'), ID: 310.0 K\n"
     ]
    }
   ],
   "source": [
    "importlib.reload(main)\n",
    "\n",
    "workdir=data_path\n",
    "results=workdir+'/results'\n",
    "inputs=workdir+'inputs/structures/'\n",
    "\n",
    "workdir=tools.Functions.fileHandler([workdir], _new=False)\n",
    "tools.Functions.fileHandler([results, inputs])\n",
    "\n",
    "\n",
    "#protein=['WT', 'R167Q', 'I602G']\n",
    "protein=['setd2_complexed']\n",
    "\n",
    "ligand=['SAM']\n",
    "parameters=['310K']\n",
    "timestep=20*picoseconds\n",
    "\n",
    "project=main.Project(title='SETD2-SAM', \n",
    "                     hierarchy=('protein', 'ligand', 'parameter'), \n",
    "                     workdir=workdir,\n",
    "                     parameter=parameters, \n",
    "                     replicas=4, \n",
    "                     protein=protein, \n",
    "                     ligand=ligand, \n",
    "                     results=results,\n",
    "                     topology='wt_SETD2_complexed.pdb',\n",
    "                     timestep=5*picoseconds,\n",
    "                    initial_replica=3)\n",
    "\n",
    "\n",
    "project_systems=project.setSystems()"
   ]
  },
  {
   "cell_type": "markdown",
   "metadata": {},
   "source": [
    "## **Simulation Protocol**"
   ]
  },
  {
   "cell_type": "markdown",
   "metadata": {},
   "source": [
    "## Set defaults"
   ]
  },
  {
   "cell_type": "code",
   "execution_count": 4,
   "metadata": {},
   "outputs": [
    {
     "name": "stdout",
     "output_type": "stream",
     "text": [
      "20 ps\n"
     ]
    }
   ],
   "source": [
    "std_report=timestep\n",
    "print(std_report)\n",
    "\n",
    "SETD2_variants={('A',1499): 'CYX',\n",
    "                ('A',1501): 'CYX',\n",
    "                ('A',1516): 'CYX',\n",
    "                ('A',1520): 'CYX',\n",
    "                ('A',1529): 'CYX',\n",
    "                ('A',1533):'CYX',\n",
    "                ('A',1539):'CYX',\n",
    "                ('A',1631):'CYX',\n",
    "                ('A',1678):'CYX',\n",
    "                ('A',1680):'CYX',\n",
    "                ('A',1685):'CYX'}\n",
    "\n",
    "NPT_equilibration={'ensemble': 'NPT',\n",
    "                'step': 5*nanoseconds, \n",
    "                'report': std_report, \n",
    "                'restrained_sets': {'selections': ['protein and backbone', 'resname ZNB', 'resname SAM'],\n",
    "                                    'forces': [100*kilojoules_per_mole/angstroms, 150*kilojoules_per_mole/angstroms, 150*kilojoules_per_mole/angstroms]}}\n",
    "\n",
    "NPT_production={'ensemble': 'NPT',\n",
    "                'step': 500*nanoseconds, \n",
    "                'report': std_report}"
   ]
  },
  {
   "cell_type": "markdown",
   "metadata": {},
   "source": [
    "## Setup simulation protocol"
   ]
  },
  {
   "cell_type": "code",
   "execution_count": 5,
   "metadata": {},
   "outputs": [
    {
     "name": "stderr",
     "output_type": "stream",
     "text": [
      "Warning: Unable to load toolkit 'OpenEye Toolkit'. The Open Force Field Toolkit does not require the OpenEye Toolkits, and can use RDKit/AmberTools instead. However, if you have a valid license for the OpenEye Toolkits, consider installing them for faster performance and additional file format support: https://docs.eyesopen.com/toolkits/python/quickstart-python/linuxosx.html OpenEye offers free Toolkit licenses for academics: https://www.eyesopen.com/academic-licensing\n"
     ]
    },
    {
     "name": "stdout",
     "output_type": "stream",
     "text": [
      "Setting openMM simulation protocols in /media/dataHog/hca/SETD2/setd2_complexed-SAM-310K/replicate3.\n",
      "\tAdding extra PDB file 1 to pre-system: /media/dataHog/hca/SETD2/inputs/structures/ZNB_open.pdb\n",
      "\t<Topology; 1 chains, 3 residues, 15 atoms, 12 bonds>\n",
      "\tAdding extra PDB file 2 to pre-system: /media/dataHog/hca/SETD2/inputs/structures/SAM.pdb\n",
      "\t<Topology; 1 chains, 1 residues, 49 atoms, 51 bonds>\n",
      "\tAdded 1: /media/dataHog/hca/SETD2/inputs/structures/ZNB_open.pdb\n",
      "\tAdded 2: /media/dataHog/hca/SETD2/inputs/structures/SAM.pdb\n",
      "\tAdding extra FF file 1: /media/dataHog/hca/SETD2/inputs/forcefields/protein.ff14SB.xml\n",
      "\tAdding extra FF file 2: /media/dataHog/hca/SETD2/inputs/forcefields/tip4pew.xml\n",
      "\tAdding extra FF file 3: /media/dataHog/hca/SETD2/inputs/forcefields/ZNB.xml\n",
      "\tAdding extra FF file 4: /media/dataHog/hca/SETD2/inputs/forcefields/SAM.xml\n",
      "\tAdding extra FF file 5: /media/dataHog/hca/SETD2/inputs/forcefields/bonded.xml\n",
      "\tAdding extra FF file 6: /media/dataHog/hca/SETD2/inputs/forcefields/gaff.xml\n",
      "\tAdded defaults:  []\n",
      "\tProtonating.\n",
      "\tSolvating.\n",
      "\tPDB file generated: /media/dataHog/hca/SETD2/setd2_complexed-SAM-310K/replicate3/system.pdb\n",
      "\tSystem is now converted to openMM type: \n",
      "\tFile: /media/dataHog/hca/SETD2/setd2_complexed-SAM-310K/replicate3/system.pdb, \n",
      "\tTopology: <Topology; 6 chains, 22126 residues, 91762 atoms, 50340 bonds>\n",
      "The fastest platform is CUDA\n",
      "Selected GPU ID: 1\n",
      "Using platform CUDA, ID: 1\n",
      "Setting openMM simulation protocols in /media/dataHog/hca/SETD2/setd2_complexed-SAM-310K/replicate4.\n",
      "\tAdding extra PDB file 1 to pre-system: /media/dataHog/hca/SETD2/inputs/structures/ZNB_open.pdb\n",
      "\t<Topology; 1 chains, 3 residues, 15 atoms, 12 bonds>\n",
      "\tAdding extra PDB file 2 to pre-system: /media/dataHog/hca/SETD2/inputs/structures/SAM.pdb\n",
      "\t<Topology; 1 chains, 1 residues, 49 atoms, 51 bonds>\n",
      "\tAdded 1: /media/dataHog/hca/SETD2/inputs/structures/ZNB_open.pdb\n",
      "\tAdded 2: /media/dataHog/hca/SETD2/inputs/structures/SAM.pdb\n",
      "\tAdding extra FF file 1: /media/dataHog/hca/SETD2/inputs/forcefields/protein.ff14SB.xml\n",
      "\tAdding extra FF file 2: /media/dataHog/hca/SETD2/inputs/forcefields/tip4pew.xml\n",
      "\tAdding extra FF file 3: /media/dataHog/hca/SETD2/inputs/forcefields/ZNB.xml\n",
      "\tAdding extra FF file 4: /media/dataHog/hca/SETD2/inputs/forcefields/SAM.xml\n",
      "\tAdding extra FF file 5: /media/dataHog/hca/SETD2/inputs/forcefields/bonded.xml\n",
      "\tAdding extra FF file 6: /media/dataHog/hca/SETD2/inputs/forcefields/gaff.xml\n",
      "\tAdded defaults:  []\n",
      "\tProtonating.\n",
      "\tSolvating.\n",
      "\tPDB file generated: /media/dataHog/hca/SETD2/setd2_complexed-SAM-310K/replicate4/system.pdb\n",
      "\tSystem is now converted to openMM type: \n",
      "\tFile: /media/dataHog/hca/SETD2/setd2_complexed-SAM-310K/replicate4/system.pdb, \n",
      "\tTopology: <Topology; 6 chains, 22126 residues, 91762 atoms, 50340 bonds>\n",
      "The fastest platform is CUDA\n",
      "Selected GPU ID: 1\n",
      "Using platform CUDA, ID: 1\n"
     ]
    }
   ],
   "source": [
    "importlib.reload(P)\n",
    "importlib.reload(tools)\n",
    "extra_pdb = ['ZNB_open.pdb', 'SAM.pdb']\n",
    "#smiles = 'C[S+](CC[C@@H](C(=O)[O-])N)C[C@@H]1[C@H]([C@H]([C@@H](O1)N2C=NC3=C(N=CN=C32)N)O)O'\n",
    "xml_files = ['protein.ff14SB.xml', 'tip4pew.xml', 'ZNB.xml', 'SAM.xml', 'bonded.xml', 'gaff.xml']\n",
    "\n",
    "gpu_index='1'\n",
    "\n",
    "\n",
    "simulated_systems={}\n",
    "for name, system in project_systems.items():\n",
    "\n",
    "    if system.ligand == 'SAM':\n",
    "    \n",
    "        sim_tools=P.Protocols(workdir=system.path, \n",
    "                              project_dir=project.workdir,\n",
    "                              def_input_struct=project.def_input_struct,\n",
    "                              def_input_ff=project.def_input_ff)\n",
    "    \n",
    "        system_omm=sim_tools.pdb2omm(input_pdb=system.input_topology,\n",
    "                                     extra_input_pdb=extra_pdb,\n",
    "                                     ff_files=xml_files,\n",
    "                                     protonate=True,\n",
    "                                     solvate=True,\n",
    "                                     pH_protein=7.0,\n",
    "                                     name=name,\n",
    "                                     residue_variants=SETD2_variants)\n",
    "                                    #insert_molecules=True)\n",
    "                                    #insert_smiles=smiles)\n",
    "            \n",
    "        system_omm.setSimulations(dt=0.002*picoseconds, \n",
    "                                  temperature = system.scalar,\n",
    "                                  pH=7.0,\n",
    "                                  friction = 1/picosecond,\n",
    "                                  equilibrations=[NPT_equilibration],\n",
    "                                  productions=[NPT_production],\n",
    "                                  pressure=1*atmospheres,\n",
    "                                  gpu_index=gpu_index)\n",
    "                                      \n",
    "        simulated_systems[name]=system_omm\n"
   ]
  },
  {
   "cell_type": "markdown",
   "metadata": {},
   "source": [
    "## **WARNING!** Run simulation(s)"
   ]
  },
  {
   "cell_type": "code",
   "execution_count": null,
   "metadata": {},
   "outputs": [
    {
     "name": "stdout",
     "output_type": "stream",
     "text": [
      "Simulating: setd2_complexed-SAM-310K-3\n",
      "Spwaning new simulation:\n",
      "\tEnergy minimization:\n",
      "\tSystem potential energy: -219799.9789289683 kJ/mol\n",
      "\tPDB file generated: /media/dataHog/hca/SETD2/setd2_complexed-SAM-310K/replicate3/minimization.pdb\n",
      "\tSystem potential energy: -1279417.6911244383 kJ/mol\n",
      "EQ run 1: NPT\n",
      "Spwaning new simulation:\n",
      "\tequilibration_NPT-1: populating file /media/dataHog/hca/SETD2/setd2_complexed-SAM-310K/replicate3/equilibration_NPT-1.\n",
      "\tApplying custom external force:  \t(k/2)*periodicdistance(x, y, z, x0, y0, z0)^2\n",
      "\tRestraining set (100 kJ**2/(A**3 mol**2)): 1080\n",
      "\tRestraining set (150 kJ**2/(A**3 mol**2)): 15\n",
      "\tRestraining set (150 kJ**2/(A**3 mol**2)): 49\n",
      "\tAdding MC barostat for equilibration_NPT-1 ensemble\n",
      "\tFirst run equilibration_NPT-1. Assigning velocities to 310.0 K\n",
      "\tPDB file generated: /media/dataHog/hca/SETD2/setd2_complexed-SAM-310K/replicate3/equilibration_NPT-1_0.pdb\n",
      "\tequilibration in NPT ensemble (5000.0 ps)...\n",
      "\tNo checkpoint files found. Starting new.\n"
     ]
    }
   ],
   "source": [
    "simulations={}\n",
    "broken=[]\n",
    "for name, simulation in simulated_systems.items():\n",
    "        \n",
    "    try:\n",
    "        print(f'Simulating: {name}')\n",
    "        simulation.runSimulations(run_productions=True)\n",
    "    \n",
    "        simulations[name]=simulation\n",
    "    except ValueError:\n",
    "        print('Simulation failed. Error probably related with energy values')\n",
    "        broken.append(name)\n",
    "        pass\n",
    "    except:\n",
    "        print('This is bat country.')"
   ]
  },
  {
   "cell_type": "code",
   "execution_count": null,
   "metadata": {},
   "outputs": [],
   "source": [
    "simulations"
   ]
  },
  {
   "cell_type": "code",
   "execution_count": null,
   "metadata": {},
   "outputs": [],
   "source": []
  }
 ],
 "metadata": {
  "kernelspec": {
   "display_name": "Python 3",
   "language": "python",
   "name": "python3"
  },
  "language_info": {
   "codemirror_mode": {
    "name": "ipython",
    "version": 3
   },
   "file_extension": ".py",
   "mimetype": "text/x-python",
   "name": "python",
   "nbconvert_exporter": "python",
   "pygments_lexer": "ipython3",
   "version": "3.7.10"
  }
 },
 "nbformat": 4,
 "nbformat_minor": 4
}
